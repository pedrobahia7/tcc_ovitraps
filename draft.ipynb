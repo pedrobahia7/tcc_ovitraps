{
 "cells": [
  {
   "cell_type": "code",
   "execution_count": 2,
   "metadata": {},
   "outputs": [],
   "source": [
    "import pandas as pd \n",
    "import numpy as np\n"
   ]
  },
  {
   "cell_type": "code",
   "execution_count": 3,
   "metadata": {},
   "outputs": [
    {
     "name": "stderr",
     "output_type": "stream",
     "text": [
      "C:\\Users\\User\\AppData\\Local\\Temp\\ipykernel_1448\\1586861881.py:7: DtypeWarning: Columns (20,21) have mixed types. Specify dtype option on import or set low_memory=False.\n",
      "  df_banco = pd.read_csv('./data/banco_160724.csv', sep=';',decimal='.',header=None) #Decimal is '.' which only affects the columns of coordenates.\n"
     ]
    }
   ],
   "source": [
    "cols = ['id_palheta', 'presenca_ovos', 'NUM_OVOS', 'IND_QTE_OVOS_DESIDRATADOS', 'IND_QTE_OVOS_ECLODIDOS', 'DT_INSTALACAO', \n",
    "        'DT_COLETA', 'NUM_SEMANA', 'ANO_REFERENCIA', 'NUM_ARMADILHA', 'ID_ARMADILHA', 'ID_ENDERECO_ARMADILHA',\n",
    "        'NUM_LOGRADOURO', 'NUM_SEQU_LOGRADOURO','NOM_LOGRADOURO', 'CEP', 'NUM_IMOVEL', 'COMPLEMENTO', 'IND_OFICIAL',\n",
    "        'QUADRA', 'VALOR_COORDENADA_X', 'VALOR_COORDENADA_Y','UF', 'COD_AREA_ABRANGENCIA', 'DES_MUNICIPIO', 'NUM_BAIRRO',\n",
    "        'NOM_BAIRRO', 'COD_DISTRITO_SANITARIO', 'TP_LOGRADOURO', 'DT_DESATIVACAO_ARMADILHA_ENDERECO', 'DT_CADASTRO_ARMADILHA_ENDERECO','Unknown']\n",
    "\n",
    "df_banco = pd.read_csv('./data/banco_160724.csv', sep=';',decimal='.',header=None) #Decimal is '.' which only affects the columns of coordenates.\n",
    "df_banco.columns = cols\n"
   ]
  }
 ],
 "metadata": {
  "kernelspec": {
   "display_name": "venv_ovitraps",
   "language": "python",
   "name": "python3"
  },
  "language_info": {
   "codemirror_mode": {
    "name": "ipython",
    "version": 3
   },
   "file_extension": ".py",
   "mimetype": "text/x-python",
   "name": "python",
   "nbconvert_exporter": "python",
   "pygments_lexer": "ipython3",
   "version": "3.12.4"
  }
 },
 "nbformat": 4,
 "nbformat_minor": 2
}
