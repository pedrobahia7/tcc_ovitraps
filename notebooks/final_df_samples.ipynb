{
 "cells": [
  {
   "cell_type": "code",
   "execution_count": 2,
   "metadata": {},
   "outputs": [],
   "source": [
    "import pandas as pd\n",
    "import os \n",
    "from tqdm import tqdm   \n",
    "import sys\n",
    "\n",
    "current_dir = os.getcwd()\n",
    "project_root = os.path.abspath(os.path.join(current_dir, '..'))\n",
    "sys.path.append(project_root)\n",
    "\n",
    "import utils.visualization as viz\n",
    "\n",
    "\n",
    "\n",
    "\n",
    "info_df = pd.read_csv('../data/final_data.csv')\n",
    "info_df['semepi'] = info_df['semepi'] - 100\n",
    "root = \"../results/final_dfs/\" # root of the final dfs\n",
    "\n",
    "trap_list = []\n",
    "lag_list = []\n",
    "samples_list=  []\n"
   ]
  },
  {
   "cell_type": "code",
   "execution_count": 3,
   "metadata": {},
   "outputs": [
    {
     "name": "stderr",
     "output_type": "stream",
     "text": [
      "Combined Loops: 100%|██████████| 400/400 [01:20<00:00,  4.99it/s]\n"
     ]
    }
   ],
   "source": [
    "total_iterations = 20*20\n",
    "with tqdm(total=total_iterations, desc=\"Combined Loops\") as pbar:\n",
    "    for lag in range(1,21):\n",
    "        for ntrap in range(1,21):\n",
    "            file = root + f\"final_df_lag{lag}_ntraps{ntrap}.parquet\"\n",
    "            df = pd.read_parquet(file,engine=\"pyarrow\", use_threads=True)\n",
    "            trap_list.append(ntrap)\n",
    "            lag_list.append(lag)\n",
    "            samples_list.append(df.shape[0])\n",
    "            pbar.update(1)\n",
    "        "
   ]
  },
  {
   "cell_type": "code",
   "execution_count": 4,
   "metadata": {},
   "outputs": [],
   "source": [
    "samples_df = pd.DataFrame({'ntraps':trap_list, 'lag':lag_list, 'samples':samples_list}).drop_duplicates()\n",
    "samples_df = samples_df.pivot(index='ntraps', columns='lag', values='samples')"
   ]
  },
  {
   "cell_type": "code",
   "execution_count": null,
   "metadata": {},
   "outputs": [
    {
     "data": {
      "application/vnd.plotly.v1+json": {
       "config": {
        "plotlyServerURL": "https://plot.ly"
       },
       "data": [
        {
         "type": "surface",
         "x": [
          1,
          2,
          3,
          4,
          5,
          6,
          7,
          8,
          9,
          10,
          11,
          12,
          13,
          14,
          15,
          16,
          17,
          18,
          19,
          20
         ],
         "y": [
          1,
          2,
          3,
          4,
          5,
          6,
          7,
          8,
          9,
          10,
          11,
          12,
          13,
          14,
          15,
          16,
          17,
          18,
          19,
          20
         ],
         "z": [
          [
           420029,
           373083,
           334570,
           306873,
           282169,
           258069,
           234762,
           213322,
           192589,
           172213,
           152286,
           132852,
           113995,
           95579,
           80712,
           66352,
           52393,
           38647,
           25125,
           11884
          ],
          [
           420029,
           373083,
           334570,
           306873,
           282169,
           258069,
           234762,
           213322,
           192589,
           172213,
           152286,
           132852,
           113995,
           95579,
           80712,
           66352,
           52393,
           38647,
           25125,
           11884
          ],
          [
           420029,
           373083,
           334570,
           306873,
           282169,
           258069,
           234762,
           213322,
           192589,
           172213,
           152286,
           132852,
           113995,
           95579,
           80712,
           66352,
           52393,
           38647,
           25125,
           11884
          ],
          [
           420029,
           373083,
           334570,
           306873,
           282169,
           258069,
           234762,
           213322,
           192589,
           172213,
           152286,
           132852,
           113995,
           95579,
           80712,
           66352,
           52393,
           38647,
           25125,
           11884
          ],
          [
           420029,
           373083,
           334570,
           306873,
           282169,
           258069,
           234762,
           213322,
           192589,
           172213,
           152286,
           132852,
           113995,
           95579,
           80712,
           66352,
           52393,
           38647,
           25125,
           11884
          ],
          [
           420029,
           373083,
           334570,
           306873,
           282169,
           258069,
           234762,
           213322,
           192589,
           172213,
           152286,
           132852,
           113995,
           95579,
           80712,
           66352,
           52393,
           38647,
           25125,
           11884
          ],
          [
           420029,
           373083,
           334570,
           306873,
           282169,
           258069,
           234762,
           213322,
           192589,
           172213,
           152286,
           132852,
           113995,
           95579,
           80712,
           66352,
           52393,
           38647,
           25125,
           11884
          ],
          [
           420029,
           373083,
           334570,
           306873,
           282169,
           258069,
           234762,
           213322,
           192589,
           172213,
           152286,
           132852,
           113995,
           95579,
           80712,
           66352,
           52393,
           38647,
           25125,
           11884
          ],
          [
           420029,
           373083,
           334570,
           306873,
           282169,
           258069,
           234762,
           213322,
           192589,
           172213,
           152286,
           132852,
           113995,
           95579,
           80712,
           66352,
           52393,
           38647,
           25125,
           11884
          ],
          [
           420029,
           373083,
           334570,
           306873,
           282169,
           258069,
           234762,
           213322,
           192589,
           172213,
           152286,
           132852,
           113995,
           95579,
           80712,
           66352,
           52393,
           38647,
           25125,
           11884
          ],
          [
           420029,
           373083,
           334570,
           306873,
           282169,
           258069,
           234762,
           213322,
           192589,
           172213,
           152286,
           132852,
           113995,
           95579,
           80712,
           66352,
           52393,
           38647,
           25125,
           11884
          ],
          [
           420029,
           373083,
           334570,
           306873,
           282169,
           258069,
           234762,
           213322,
           192589,
           172213,
           152286,
           132852,
           113995,
           95579,
           80712,
           66352,
           52393,
           38647,
           25125,
           11884
          ],
          [
           420029,
           373083,
           334570,
           306873,
           282169,
           258069,
           234762,
           213322,
           192589,
           172213,
           152286,
           132852,
           113995,
           95579,
           80712,
           66352,
           52393,
           38647,
           25125,
           11884
          ],
          [
           420029,
           373083,
           334570,
           306873,
           282169,
           258069,
           234762,
           213322,
           192589,
           172213,
           152286,
           132852,
           113995,
           95579,
           80712,
           66352,
           52393,
           38647,
           25125,
           11884
          ],
          [
           420029,
           373083,
           334570,
           306873,
           282169,
           258069,
           234762,
           213322,
           192589,
           172213,
           152286,
           132852,
           113995,
           95579,
           80712,
           66352,
           52393,
           38647,
           25125,
           11884
          ],
          [
           420029,
           373083,
           334570,
           306873,
           282169,
           258069,
           234762,
           213322,
           192589,
           172213,
           152286,
           132852,
           113995,
           95579,
           80712,
           66352,
           52393,
           38647,
           25125,
           11884
          ],
          [
           420029,
           373083,
           334570,
           306873,
           282169,
           258069,
           234762,
           213322,
           192589,
           172213,
           152286,
           132852,
           113995,
           95579,
           80712,
           66352,
           52393,
           38647,
           25125,
           11884
          ],
          [
           420029,
           373083,
           334570,
           306873,
           282169,
           258069,
           234762,
           213322,
           192589,
           172213,
           152286,
           132852,
           113995,
           95579,
           80712,
           66352,
           52393,
           38647,
           25125,
           11884
          ],
          [
           420029,
           28478,
           334570,
           306873,
           282169,
           258069,
           234762,
           213322,
           192589,
           172213,
           152286,
           132852,
           113995,
           95579,
           80712,
           66352,
           52393,
           38647,
           25125,
           11884
          ],
          [
           160195,
           373083,
           334570,
           306873,
           282169,
           258069,
           234762,
           213322,
           192589,
           172213,
           152286,
           132852,
           113995,
           95579,
           80712,
           66352,
           52393,
           38647,
           25125,
           11884
          ]
         ]
        }
       ],
       "layout": {
        "coloraxis": {
         "colorbar": {
          "title": {
           "text": "Scale"
          }
         }
        },
        "height": 800,
        "scene": {
         "xaxis": {
          "title": {
           "text": "Lags (X)"
          }
         },
         "yaxis": {
          "title": {
           "text": "Number of neighbors (Y)"
          }
         },
         "zaxis": {
          "title": {
           "text": "Número de amostras"
          }
         }
        },
        "template": {
         "data": {
          "bar": [
           {
            "error_x": {
             "color": "#2a3f5f"
            },
            "error_y": {
             "color": "#2a3f5f"
            },
            "marker": {
             "line": {
              "color": "#E5ECF6",
              "width": 0.5
             },
             "pattern": {
              "fillmode": "overlay",
              "size": 10,
              "solidity": 0.2
             }
            },
            "type": "bar"
           }
          ],
          "barpolar": [
           {
            "marker": {
             "line": {
              "color": "#E5ECF6",
              "width": 0.5
             },
             "pattern": {
              "fillmode": "overlay",
              "size": 10,
              "solidity": 0.2
             }
            },
            "type": "barpolar"
           }
          ],
          "carpet": [
           {
            "aaxis": {
             "endlinecolor": "#2a3f5f",
             "gridcolor": "white",
             "linecolor": "white",
             "minorgridcolor": "white",
             "startlinecolor": "#2a3f5f"
            },
            "baxis": {
             "endlinecolor": "#2a3f5f",
             "gridcolor": "white",
             "linecolor": "white",
             "minorgridcolor": "white",
             "startlinecolor": "#2a3f5f"
            },
            "type": "carpet"
           }
          ],
          "choropleth": [
           {
            "colorbar": {
             "outlinewidth": 0,
             "ticks": ""
            },
            "type": "choropleth"
           }
          ],
          "contour": [
           {
            "colorbar": {
             "outlinewidth": 0,
             "ticks": ""
            },
            "colorscale": [
             [
              0,
              "#0d0887"
             ],
             [
              0.1111111111111111,
              "#46039f"
             ],
             [
              0.2222222222222222,
              "#7201a8"
             ],
             [
              0.3333333333333333,
              "#9c179e"
             ],
             [
              0.4444444444444444,
              "#bd3786"
             ],
             [
              0.5555555555555556,
              "#d8576b"
             ],
             [
              0.6666666666666666,
              "#ed7953"
             ],
             [
              0.7777777777777778,
              "#fb9f3a"
             ],
             [
              0.8888888888888888,
              "#fdca26"
             ],
             [
              1,
              "#f0f921"
             ]
            ],
            "type": "contour"
           }
          ],
          "contourcarpet": [
           {
            "colorbar": {
             "outlinewidth": 0,
             "ticks": ""
            },
            "type": "contourcarpet"
           }
          ],
          "heatmap": [
           {
            "colorbar": {
             "outlinewidth": 0,
             "ticks": ""
            },
            "colorscale": [
             [
              0,
              "#0d0887"
             ],
             [
              0.1111111111111111,
              "#46039f"
             ],
             [
              0.2222222222222222,
              "#7201a8"
             ],
             [
              0.3333333333333333,
              "#9c179e"
             ],
             [
              0.4444444444444444,
              "#bd3786"
             ],
             [
              0.5555555555555556,
              "#d8576b"
             ],
             [
              0.6666666666666666,
              "#ed7953"
             ],
             [
              0.7777777777777778,
              "#fb9f3a"
             ],
             [
              0.8888888888888888,
              "#fdca26"
             ],
             [
              1,
              "#f0f921"
             ]
            ],
            "type": "heatmap"
           }
          ],
          "heatmapgl": [
           {
            "colorbar": {
             "outlinewidth": 0,
             "ticks": ""
            },
            "colorscale": [
             [
              0,
              "#0d0887"
             ],
             [
              0.1111111111111111,
              "#46039f"
             ],
             [
              0.2222222222222222,
              "#7201a8"
             ],
             [
              0.3333333333333333,
              "#9c179e"
             ],
             [
              0.4444444444444444,
              "#bd3786"
             ],
             [
              0.5555555555555556,
              "#d8576b"
             ],
             [
              0.6666666666666666,
              "#ed7953"
             ],
             [
              0.7777777777777778,
              "#fb9f3a"
             ],
             [
              0.8888888888888888,
              "#fdca26"
             ],
             [
              1,
              "#f0f921"
             ]
            ],
            "type": "heatmapgl"
           }
          ],
          "histogram": [
           {
            "marker": {
             "pattern": {
              "fillmode": "overlay",
              "size": 10,
              "solidity": 0.2
             }
            },
            "type": "histogram"
           }
          ],
          "histogram2d": [
           {
            "colorbar": {
             "outlinewidth": 0,
             "ticks": ""
            },
            "colorscale": [
             [
              0,
              "#0d0887"
             ],
             [
              0.1111111111111111,
              "#46039f"
             ],
             [
              0.2222222222222222,
              "#7201a8"
             ],
             [
              0.3333333333333333,
              "#9c179e"
             ],
             [
              0.4444444444444444,
              "#bd3786"
             ],
             [
              0.5555555555555556,
              "#d8576b"
             ],
             [
              0.6666666666666666,
              "#ed7953"
             ],
             [
              0.7777777777777778,
              "#fb9f3a"
             ],
             [
              0.8888888888888888,
              "#fdca26"
             ],
             [
              1,
              "#f0f921"
             ]
            ],
            "type": "histogram2d"
           }
          ],
          "histogram2dcontour": [
           {
            "colorbar": {
             "outlinewidth": 0,
             "ticks": ""
            },
            "colorscale": [
             [
              0,
              "#0d0887"
             ],
             [
              0.1111111111111111,
              "#46039f"
             ],
             [
              0.2222222222222222,
              "#7201a8"
             ],
             [
              0.3333333333333333,
              "#9c179e"
             ],
             [
              0.4444444444444444,
              "#bd3786"
             ],
             [
              0.5555555555555556,
              "#d8576b"
             ],
             [
              0.6666666666666666,
              "#ed7953"
             ],
             [
              0.7777777777777778,
              "#fb9f3a"
             ],
             [
              0.8888888888888888,
              "#fdca26"
             ],
             [
              1,
              "#f0f921"
             ]
            ],
            "type": "histogram2dcontour"
           }
          ],
          "mesh3d": [
           {
            "colorbar": {
             "outlinewidth": 0,
             "ticks": ""
            },
            "type": "mesh3d"
           }
          ],
          "parcoords": [
           {
            "line": {
             "colorbar": {
              "outlinewidth": 0,
              "ticks": ""
             }
            },
            "type": "parcoords"
           }
          ],
          "pie": [
           {
            "automargin": true,
            "type": "pie"
           }
          ],
          "scatter": [
           {
            "fillpattern": {
             "fillmode": "overlay",
             "size": 10,
             "solidity": 0.2
            },
            "type": "scatter"
           }
          ],
          "scatter3d": [
           {
            "line": {
             "colorbar": {
              "outlinewidth": 0,
              "ticks": ""
             }
            },
            "marker": {
             "colorbar": {
              "outlinewidth": 0,
              "ticks": ""
             }
            },
            "type": "scatter3d"
           }
          ],
          "scattercarpet": [
           {
            "marker": {
             "colorbar": {
              "outlinewidth": 0,
              "ticks": ""
             }
            },
            "type": "scattercarpet"
           }
          ],
          "scattergeo": [
           {
            "marker": {
             "colorbar": {
              "outlinewidth": 0,
              "ticks": ""
             }
            },
            "type": "scattergeo"
           }
          ],
          "scattergl": [
           {
            "marker": {
             "colorbar": {
              "outlinewidth": 0,
              "ticks": ""
             }
            },
            "type": "scattergl"
           }
          ],
          "scattermapbox": [
           {
            "marker": {
             "colorbar": {
              "outlinewidth": 0,
              "ticks": ""
             }
            },
            "type": "scattermapbox"
           }
          ],
          "scatterpolar": [
           {
            "marker": {
             "colorbar": {
              "outlinewidth": 0,
              "ticks": ""
             }
            },
            "type": "scatterpolar"
           }
          ],
          "scatterpolargl": [
           {
            "marker": {
             "colorbar": {
              "outlinewidth": 0,
              "ticks": ""
             }
            },
            "type": "scatterpolargl"
           }
          ],
          "scatterternary": [
           {
            "marker": {
             "colorbar": {
              "outlinewidth": 0,
              "ticks": ""
             }
            },
            "type": "scatterternary"
           }
          ],
          "surface": [
           {
            "colorbar": {
             "outlinewidth": 0,
             "ticks": ""
            },
            "colorscale": [
             [
              0,
              "#0d0887"
             ],
             [
              0.1111111111111111,
              "#46039f"
             ],
             [
              0.2222222222222222,
              "#7201a8"
             ],
             [
              0.3333333333333333,
              "#9c179e"
             ],
             [
              0.4444444444444444,
              "#bd3786"
             ],
             [
              0.5555555555555556,
              "#d8576b"
             ],
             [
              0.6666666666666666,
              "#ed7953"
             ],
             [
              0.7777777777777778,
              "#fb9f3a"
             ],
             [
              0.8888888888888888,
              "#fdca26"
             ],
             [
              1,
              "#f0f921"
             ]
            ],
            "type": "surface"
           }
          ],
          "table": [
           {
            "cells": {
             "fill": {
              "color": "#EBF0F8"
             },
             "line": {
              "color": "white"
             }
            },
            "header": {
             "fill": {
              "color": "#C8D4E3"
             },
             "line": {
              "color": "white"
             }
            },
            "type": "table"
           }
          ]
         },
         "layout": {
          "annotationdefaults": {
           "arrowcolor": "#2a3f5f",
           "arrowhead": 0,
           "arrowwidth": 1
          },
          "autotypenumbers": "strict",
          "coloraxis": {
           "colorbar": {
            "outlinewidth": 0,
            "ticks": ""
           }
          },
          "colorscale": {
           "diverging": [
            [
             0,
             "#8e0152"
            ],
            [
             0.1,
             "#c51b7d"
            ],
            [
             0.2,
             "#de77ae"
            ],
            [
             0.3,
             "#f1b6da"
            ],
            [
             0.4,
             "#fde0ef"
            ],
            [
             0.5,
             "#f7f7f7"
            ],
            [
             0.6,
             "#e6f5d0"
            ],
            [
             0.7,
             "#b8e186"
            ],
            [
             0.8,
             "#7fbc41"
            ],
            [
             0.9,
             "#4d9221"
            ],
            [
             1,
             "#276419"
            ]
           ],
           "sequential": [
            [
             0,
             "#0d0887"
            ],
            [
             0.1111111111111111,
             "#46039f"
            ],
            [
             0.2222222222222222,
             "#7201a8"
            ],
            [
             0.3333333333333333,
             "#9c179e"
            ],
            [
             0.4444444444444444,
             "#bd3786"
            ],
            [
             0.5555555555555556,
             "#d8576b"
            ],
            [
             0.6666666666666666,
             "#ed7953"
            ],
            [
             0.7777777777777778,
             "#fb9f3a"
            ],
            [
             0.8888888888888888,
             "#fdca26"
            ],
            [
             1,
             "#f0f921"
            ]
           ],
           "sequentialminus": [
            [
             0,
             "#0d0887"
            ],
            [
             0.1111111111111111,
             "#46039f"
            ],
            [
             0.2222222222222222,
             "#7201a8"
            ],
            [
             0.3333333333333333,
             "#9c179e"
            ],
            [
             0.4444444444444444,
             "#bd3786"
            ],
            [
             0.5555555555555556,
             "#d8576b"
            ],
            [
             0.6666666666666666,
             "#ed7953"
            ],
            [
             0.7777777777777778,
             "#fb9f3a"
            ],
            [
             0.8888888888888888,
             "#fdca26"
            ],
            [
             1,
             "#f0f921"
            ]
           ]
          },
          "colorway": [
           "#636efa",
           "#EF553B",
           "#00cc96",
           "#ab63fa",
           "#FFA15A",
           "#19d3f3",
           "#FF6692",
           "#B6E880",
           "#FF97FF",
           "#FECB52"
          ],
          "font": {
           "color": "#2a3f5f"
          },
          "geo": {
           "bgcolor": "white",
           "lakecolor": "white",
           "landcolor": "#E5ECF6",
           "showlakes": true,
           "showland": true,
           "subunitcolor": "white"
          },
          "hoverlabel": {
           "align": "left"
          },
          "hovermode": "closest",
          "mapbox": {
           "style": "light"
          },
          "paper_bgcolor": "white",
          "plot_bgcolor": "#E5ECF6",
          "polar": {
           "angularaxis": {
            "gridcolor": "white",
            "linecolor": "white",
            "ticks": ""
           },
           "bgcolor": "#E5ECF6",
           "radialaxis": {
            "gridcolor": "white",
            "linecolor": "white",
            "ticks": ""
           }
          },
          "scene": {
           "xaxis": {
            "backgroundcolor": "#E5ECF6",
            "gridcolor": "white",
            "gridwidth": 2,
            "linecolor": "white",
            "showbackground": true,
            "ticks": "",
            "zerolinecolor": "white"
           },
           "yaxis": {
            "backgroundcolor": "#E5ECF6",
            "gridcolor": "white",
            "gridwidth": 2,
            "linecolor": "white",
            "showbackground": true,
            "ticks": "",
            "zerolinecolor": "white"
           },
           "zaxis": {
            "backgroundcolor": "#E5ECF6",
            "gridcolor": "white",
            "gridwidth": 2,
            "linecolor": "white",
            "showbackground": true,
            "ticks": "",
            "zerolinecolor": "white"
           }
          },
          "shapedefaults": {
           "line": {
            "color": "#2a3f5f"
           }
          },
          "ternary": {
           "aaxis": {
            "gridcolor": "white",
            "linecolor": "white",
            "ticks": ""
           },
           "baxis": {
            "gridcolor": "white",
            "linecolor": "white",
            "ticks": ""
           },
           "bgcolor": "#E5ECF6",
           "caxis": {
            "gridcolor": "white",
            "linecolor": "white",
            "ticks": ""
           }
          },
          "title": {
           "x": 0.05
          },
          "xaxis": {
           "automargin": true,
           "gridcolor": "white",
           "linecolor": "white",
           "ticks": "",
           "title": {
            "standoff": 15
           },
           "zerolinecolor": "white",
           "zerolinewidth": 2
          },
          "yaxis": {
           "automargin": true,
           "gridcolor": "white",
           "linecolor": "white",
           "ticks": "",
           "title": {
            "standoff": 15
           },
           "zerolinecolor": "white",
           "zerolinewidth": 2
          }
         }
        },
        "title": {
         "text": "Número de amostras por configuração de lag e número de traps"
        },
        "width": 1000
       }
      }
     },
     "metadata": {},
     "output_type": "display_data"
    }
   ],
   "source": [
    "viz.surface_plot(samples_df, \"Número de amostras\",'Número de amostras por configuração de lag e número de traps')\n",
    "## Número de amostras totais sem lag 517799\n",
    "## usar inicialmente ntraps 20, lags 14"
   ]
  },
  {
   "cell_type": "code",
   "execution_count": 6,
   "metadata": {},
   "outputs": [
    {
     "data": {
      "text/html": [
       "<div>\n",
       "<style scoped>\n",
       "    .dataframe tbody tr th:only-of-type {\n",
       "        vertical-align: middle;\n",
       "    }\n",
       "\n",
       "    .dataframe tbody tr th {\n",
       "        vertical-align: top;\n",
       "    }\n",
       "\n",
       "    .dataframe thead th {\n",
       "        text-align: right;\n",
       "    }\n",
       "</style>\n",
       "<table border=\"1\" class=\"dataframe\">\n",
       "  <thead>\n",
       "    <tr style=\"text-align: right;\">\n",
       "      <th>lag</th>\n",
       "      <th>1</th>\n",
       "      <th>2</th>\n",
       "      <th>3</th>\n",
       "      <th>4</th>\n",
       "      <th>5</th>\n",
       "      <th>6</th>\n",
       "      <th>7</th>\n",
       "      <th>8</th>\n",
       "      <th>9</th>\n",
       "      <th>10</th>\n",
       "      <th>11</th>\n",
       "      <th>12</th>\n",
       "      <th>13</th>\n",
       "      <th>14</th>\n",
       "      <th>15</th>\n",
       "      <th>16</th>\n",
       "      <th>17</th>\n",
       "      <th>18</th>\n",
       "      <th>19</th>\n",
       "      <th>20</th>\n",
       "    </tr>\n",
       "    <tr>\n",
       "      <th>ntraps</th>\n",
       "      <th></th>\n",
       "      <th></th>\n",
       "      <th></th>\n",
       "      <th></th>\n",
       "      <th></th>\n",
       "      <th></th>\n",
       "      <th></th>\n",
       "      <th></th>\n",
       "      <th></th>\n",
       "      <th></th>\n",
       "      <th></th>\n",
       "      <th></th>\n",
       "      <th></th>\n",
       "      <th></th>\n",
       "      <th></th>\n",
       "      <th></th>\n",
       "      <th></th>\n",
       "      <th></th>\n",
       "      <th></th>\n",
       "      <th></th>\n",
       "    </tr>\n",
       "  </thead>\n",
       "  <tbody>\n",
       "    <tr>\n",
       "      <th>1</th>\n",
       "      <td>420029</td>\n",
       "      <td>373083</td>\n",
       "      <td>334570</td>\n",
       "      <td>306873</td>\n",
       "      <td>282169</td>\n",
       "      <td>258069</td>\n",
       "      <td>234762</td>\n",
       "      <td>213322</td>\n",
       "      <td>192589</td>\n",
       "      <td>172213</td>\n",
       "      <td>152286</td>\n",
       "      <td>132852</td>\n",
       "      <td>113995</td>\n",
       "      <td>95579</td>\n",
       "      <td>80712</td>\n",
       "      <td>66352</td>\n",
       "      <td>52393</td>\n",
       "      <td>38647</td>\n",
       "      <td>25125</td>\n",
       "      <td>11884</td>\n",
       "    </tr>\n",
       "    <tr>\n",
       "      <th>2</th>\n",
       "      <td>420029</td>\n",
       "      <td>373083</td>\n",
       "      <td>334570</td>\n",
       "      <td>306873</td>\n",
       "      <td>282169</td>\n",
       "      <td>258069</td>\n",
       "      <td>234762</td>\n",
       "      <td>213322</td>\n",
       "      <td>192589</td>\n",
       "      <td>172213</td>\n",
       "      <td>152286</td>\n",
       "      <td>132852</td>\n",
       "      <td>113995</td>\n",
       "      <td>95579</td>\n",
       "      <td>80712</td>\n",
       "      <td>66352</td>\n",
       "      <td>52393</td>\n",
       "      <td>38647</td>\n",
       "      <td>25125</td>\n",
       "      <td>11884</td>\n",
       "    </tr>\n",
       "    <tr>\n",
       "      <th>3</th>\n",
       "      <td>420029</td>\n",
       "      <td>373083</td>\n",
       "      <td>334570</td>\n",
       "      <td>306873</td>\n",
       "      <td>282169</td>\n",
       "      <td>258069</td>\n",
       "      <td>234762</td>\n",
       "      <td>213322</td>\n",
       "      <td>192589</td>\n",
       "      <td>172213</td>\n",
       "      <td>152286</td>\n",
       "      <td>132852</td>\n",
       "      <td>113995</td>\n",
       "      <td>95579</td>\n",
       "      <td>80712</td>\n",
       "      <td>66352</td>\n",
       "      <td>52393</td>\n",
       "      <td>38647</td>\n",
       "      <td>25125</td>\n",
       "      <td>11884</td>\n",
       "    </tr>\n",
       "    <tr>\n",
       "      <th>4</th>\n",
       "      <td>420029</td>\n",
       "      <td>373083</td>\n",
       "      <td>334570</td>\n",
       "      <td>306873</td>\n",
       "      <td>282169</td>\n",
       "      <td>258069</td>\n",
       "      <td>234762</td>\n",
       "      <td>213322</td>\n",
       "      <td>192589</td>\n",
       "      <td>172213</td>\n",
       "      <td>152286</td>\n",
       "      <td>132852</td>\n",
       "      <td>113995</td>\n",
       "      <td>95579</td>\n",
       "      <td>80712</td>\n",
       "      <td>66352</td>\n",
       "      <td>52393</td>\n",
       "      <td>38647</td>\n",
       "      <td>25125</td>\n",
       "      <td>11884</td>\n",
       "    </tr>\n",
       "    <tr>\n",
       "      <th>5</th>\n",
       "      <td>420029</td>\n",
       "      <td>373083</td>\n",
       "      <td>334570</td>\n",
       "      <td>306873</td>\n",
       "      <td>282169</td>\n",
       "      <td>258069</td>\n",
       "      <td>234762</td>\n",
       "      <td>213322</td>\n",
       "      <td>192589</td>\n",
       "      <td>172213</td>\n",
       "      <td>152286</td>\n",
       "      <td>132852</td>\n",
       "      <td>113995</td>\n",
       "      <td>95579</td>\n",
       "      <td>80712</td>\n",
       "      <td>66352</td>\n",
       "      <td>52393</td>\n",
       "      <td>38647</td>\n",
       "      <td>25125</td>\n",
       "      <td>11884</td>\n",
       "    </tr>\n",
       "    <tr>\n",
       "      <th>6</th>\n",
       "      <td>420029</td>\n",
       "      <td>373083</td>\n",
       "      <td>334570</td>\n",
       "      <td>306873</td>\n",
       "      <td>282169</td>\n",
       "      <td>258069</td>\n",
       "      <td>234762</td>\n",
       "      <td>213322</td>\n",
       "      <td>192589</td>\n",
       "      <td>172213</td>\n",
       "      <td>152286</td>\n",
       "      <td>132852</td>\n",
       "      <td>113995</td>\n",
       "      <td>95579</td>\n",
       "      <td>80712</td>\n",
       "      <td>66352</td>\n",
       "      <td>52393</td>\n",
       "      <td>38647</td>\n",
       "      <td>25125</td>\n",
       "      <td>11884</td>\n",
       "    </tr>\n",
       "    <tr>\n",
       "      <th>7</th>\n",
       "      <td>420029</td>\n",
       "      <td>373083</td>\n",
       "      <td>334570</td>\n",
       "      <td>306873</td>\n",
       "      <td>282169</td>\n",
       "      <td>258069</td>\n",
       "      <td>234762</td>\n",
       "      <td>213322</td>\n",
       "      <td>192589</td>\n",
       "      <td>172213</td>\n",
       "      <td>152286</td>\n",
       "      <td>132852</td>\n",
       "      <td>113995</td>\n",
       "      <td>95579</td>\n",
       "      <td>80712</td>\n",
       "      <td>66352</td>\n",
       "      <td>52393</td>\n",
       "      <td>38647</td>\n",
       "      <td>25125</td>\n",
       "      <td>11884</td>\n",
       "    </tr>\n",
       "    <tr>\n",
       "      <th>8</th>\n",
       "      <td>420029</td>\n",
       "      <td>373083</td>\n",
       "      <td>334570</td>\n",
       "      <td>306873</td>\n",
       "      <td>282169</td>\n",
       "      <td>258069</td>\n",
       "      <td>234762</td>\n",
       "      <td>213322</td>\n",
       "      <td>192589</td>\n",
       "      <td>172213</td>\n",
       "      <td>152286</td>\n",
       "      <td>132852</td>\n",
       "      <td>113995</td>\n",
       "      <td>95579</td>\n",
       "      <td>80712</td>\n",
       "      <td>66352</td>\n",
       "      <td>52393</td>\n",
       "      <td>38647</td>\n",
       "      <td>25125</td>\n",
       "      <td>11884</td>\n",
       "    </tr>\n",
       "    <tr>\n",
       "      <th>9</th>\n",
       "      <td>420029</td>\n",
       "      <td>373083</td>\n",
       "      <td>334570</td>\n",
       "      <td>306873</td>\n",
       "      <td>282169</td>\n",
       "      <td>258069</td>\n",
       "      <td>234762</td>\n",
       "      <td>213322</td>\n",
       "      <td>192589</td>\n",
       "      <td>172213</td>\n",
       "      <td>152286</td>\n",
       "      <td>132852</td>\n",
       "      <td>113995</td>\n",
       "      <td>95579</td>\n",
       "      <td>80712</td>\n",
       "      <td>66352</td>\n",
       "      <td>52393</td>\n",
       "      <td>38647</td>\n",
       "      <td>25125</td>\n",
       "      <td>11884</td>\n",
       "    </tr>\n",
       "    <tr>\n",
       "      <th>10</th>\n",
       "      <td>420029</td>\n",
       "      <td>373083</td>\n",
       "      <td>334570</td>\n",
       "      <td>306873</td>\n",
       "      <td>282169</td>\n",
       "      <td>258069</td>\n",
       "      <td>234762</td>\n",
       "      <td>213322</td>\n",
       "      <td>192589</td>\n",
       "      <td>172213</td>\n",
       "      <td>152286</td>\n",
       "      <td>132852</td>\n",
       "      <td>113995</td>\n",
       "      <td>95579</td>\n",
       "      <td>80712</td>\n",
       "      <td>66352</td>\n",
       "      <td>52393</td>\n",
       "      <td>38647</td>\n",
       "      <td>25125</td>\n",
       "      <td>11884</td>\n",
       "    </tr>\n",
       "    <tr>\n",
       "      <th>11</th>\n",
       "      <td>420029</td>\n",
       "      <td>373083</td>\n",
       "      <td>334570</td>\n",
       "      <td>306873</td>\n",
       "      <td>282169</td>\n",
       "      <td>258069</td>\n",
       "      <td>234762</td>\n",
       "      <td>213322</td>\n",
       "      <td>192589</td>\n",
       "      <td>172213</td>\n",
       "      <td>152286</td>\n",
       "      <td>132852</td>\n",
       "      <td>113995</td>\n",
       "      <td>95579</td>\n",
       "      <td>80712</td>\n",
       "      <td>66352</td>\n",
       "      <td>52393</td>\n",
       "      <td>38647</td>\n",
       "      <td>25125</td>\n",
       "      <td>11884</td>\n",
       "    </tr>\n",
       "    <tr>\n",
       "      <th>12</th>\n",
       "      <td>420029</td>\n",
       "      <td>373083</td>\n",
       "      <td>334570</td>\n",
       "      <td>306873</td>\n",
       "      <td>282169</td>\n",
       "      <td>258069</td>\n",
       "      <td>234762</td>\n",
       "      <td>213322</td>\n",
       "      <td>192589</td>\n",
       "      <td>172213</td>\n",
       "      <td>152286</td>\n",
       "      <td>132852</td>\n",
       "      <td>113995</td>\n",
       "      <td>95579</td>\n",
       "      <td>80712</td>\n",
       "      <td>66352</td>\n",
       "      <td>52393</td>\n",
       "      <td>38647</td>\n",
       "      <td>25125</td>\n",
       "      <td>11884</td>\n",
       "    </tr>\n",
       "    <tr>\n",
       "      <th>13</th>\n",
       "      <td>420029</td>\n",
       "      <td>373083</td>\n",
       "      <td>334570</td>\n",
       "      <td>306873</td>\n",
       "      <td>282169</td>\n",
       "      <td>258069</td>\n",
       "      <td>234762</td>\n",
       "      <td>213322</td>\n",
       "      <td>192589</td>\n",
       "      <td>172213</td>\n",
       "      <td>152286</td>\n",
       "      <td>132852</td>\n",
       "      <td>113995</td>\n",
       "      <td>95579</td>\n",
       "      <td>80712</td>\n",
       "      <td>66352</td>\n",
       "      <td>52393</td>\n",
       "      <td>38647</td>\n",
       "      <td>25125</td>\n",
       "      <td>11884</td>\n",
       "    </tr>\n",
       "    <tr>\n",
       "      <th>14</th>\n",
       "      <td>420029</td>\n",
       "      <td>373083</td>\n",
       "      <td>334570</td>\n",
       "      <td>306873</td>\n",
       "      <td>282169</td>\n",
       "      <td>258069</td>\n",
       "      <td>234762</td>\n",
       "      <td>213322</td>\n",
       "      <td>192589</td>\n",
       "      <td>172213</td>\n",
       "      <td>152286</td>\n",
       "      <td>132852</td>\n",
       "      <td>113995</td>\n",
       "      <td>95579</td>\n",
       "      <td>80712</td>\n",
       "      <td>66352</td>\n",
       "      <td>52393</td>\n",
       "      <td>38647</td>\n",
       "      <td>25125</td>\n",
       "      <td>11884</td>\n",
       "    </tr>\n",
       "    <tr>\n",
       "      <th>15</th>\n",
       "      <td>420029</td>\n",
       "      <td>373083</td>\n",
       "      <td>334570</td>\n",
       "      <td>306873</td>\n",
       "      <td>282169</td>\n",
       "      <td>258069</td>\n",
       "      <td>234762</td>\n",
       "      <td>213322</td>\n",
       "      <td>192589</td>\n",
       "      <td>172213</td>\n",
       "      <td>152286</td>\n",
       "      <td>132852</td>\n",
       "      <td>113995</td>\n",
       "      <td>95579</td>\n",
       "      <td>80712</td>\n",
       "      <td>66352</td>\n",
       "      <td>52393</td>\n",
       "      <td>38647</td>\n",
       "      <td>25125</td>\n",
       "      <td>11884</td>\n",
       "    </tr>\n",
       "    <tr>\n",
       "      <th>16</th>\n",
       "      <td>420029</td>\n",
       "      <td>373083</td>\n",
       "      <td>334570</td>\n",
       "      <td>306873</td>\n",
       "      <td>282169</td>\n",
       "      <td>258069</td>\n",
       "      <td>234762</td>\n",
       "      <td>213322</td>\n",
       "      <td>192589</td>\n",
       "      <td>172213</td>\n",
       "      <td>152286</td>\n",
       "      <td>132852</td>\n",
       "      <td>113995</td>\n",
       "      <td>95579</td>\n",
       "      <td>80712</td>\n",
       "      <td>66352</td>\n",
       "      <td>52393</td>\n",
       "      <td>38647</td>\n",
       "      <td>25125</td>\n",
       "      <td>11884</td>\n",
       "    </tr>\n",
       "    <tr>\n",
       "      <th>17</th>\n",
       "      <td>420029</td>\n",
       "      <td>373083</td>\n",
       "      <td>334570</td>\n",
       "      <td>306873</td>\n",
       "      <td>282169</td>\n",
       "      <td>258069</td>\n",
       "      <td>234762</td>\n",
       "      <td>213322</td>\n",
       "      <td>192589</td>\n",
       "      <td>172213</td>\n",
       "      <td>152286</td>\n",
       "      <td>132852</td>\n",
       "      <td>113995</td>\n",
       "      <td>95579</td>\n",
       "      <td>80712</td>\n",
       "      <td>66352</td>\n",
       "      <td>52393</td>\n",
       "      <td>38647</td>\n",
       "      <td>25125</td>\n",
       "      <td>11884</td>\n",
       "    </tr>\n",
       "    <tr>\n",
       "      <th>18</th>\n",
       "      <td>420029</td>\n",
       "      <td>373083</td>\n",
       "      <td>334570</td>\n",
       "      <td>306873</td>\n",
       "      <td>282169</td>\n",
       "      <td>258069</td>\n",
       "      <td>234762</td>\n",
       "      <td>213322</td>\n",
       "      <td>192589</td>\n",
       "      <td>172213</td>\n",
       "      <td>152286</td>\n",
       "      <td>132852</td>\n",
       "      <td>113995</td>\n",
       "      <td>95579</td>\n",
       "      <td>80712</td>\n",
       "      <td>66352</td>\n",
       "      <td>52393</td>\n",
       "      <td>38647</td>\n",
       "      <td>25125</td>\n",
       "      <td>11884</td>\n",
       "    </tr>\n",
       "    <tr>\n",
       "      <th>19</th>\n",
       "      <td>420029</td>\n",
       "      <td>28478</td>\n",
       "      <td>334570</td>\n",
       "      <td>306873</td>\n",
       "      <td>282169</td>\n",
       "      <td>258069</td>\n",
       "      <td>234762</td>\n",
       "      <td>213322</td>\n",
       "      <td>192589</td>\n",
       "      <td>172213</td>\n",
       "      <td>152286</td>\n",
       "      <td>132852</td>\n",
       "      <td>113995</td>\n",
       "      <td>95579</td>\n",
       "      <td>80712</td>\n",
       "      <td>66352</td>\n",
       "      <td>52393</td>\n",
       "      <td>38647</td>\n",
       "      <td>25125</td>\n",
       "      <td>11884</td>\n",
       "    </tr>\n",
       "    <tr>\n",
       "      <th>20</th>\n",
       "      <td>160195</td>\n",
       "      <td>373083</td>\n",
       "      <td>334570</td>\n",
       "      <td>306873</td>\n",
       "      <td>282169</td>\n",
       "      <td>258069</td>\n",
       "      <td>234762</td>\n",
       "      <td>213322</td>\n",
       "      <td>192589</td>\n",
       "      <td>172213</td>\n",
       "      <td>152286</td>\n",
       "      <td>132852</td>\n",
       "      <td>113995</td>\n",
       "      <td>95579</td>\n",
       "      <td>80712</td>\n",
       "      <td>66352</td>\n",
       "      <td>52393</td>\n",
       "      <td>38647</td>\n",
       "      <td>25125</td>\n",
       "      <td>11884</td>\n",
       "    </tr>\n",
       "  </tbody>\n",
       "</table>\n",
       "</div>"
      ],
      "text/plain": [
       "lag         1       2       3       4       5       6       7       8   \\\n",
       "ntraps                                                                   \n",
       "1       420029  373083  334570  306873  282169  258069  234762  213322   \n",
       "2       420029  373083  334570  306873  282169  258069  234762  213322   \n",
       "3       420029  373083  334570  306873  282169  258069  234762  213322   \n",
       "4       420029  373083  334570  306873  282169  258069  234762  213322   \n",
       "5       420029  373083  334570  306873  282169  258069  234762  213322   \n",
       "6       420029  373083  334570  306873  282169  258069  234762  213322   \n",
       "7       420029  373083  334570  306873  282169  258069  234762  213322   \n",
       "8       420029  373083  334570  306873  282169  258069  234762  213322   \n",
       "9       420029  373083  334570  306873  282169  258069  234762  213322   \n",
       "10      420029  373083  334570  306873  282169  258069  234762  213322   \n",
       "11      420029  373083  334570  306873  282169  258069  234762  213322   \n",
       "12      420029  373083  334570  306873  282169  258069  234762  213322   \n",
       "13      420029  373083  334570  306873  282169  258069  234762  213322   \n",
       "14      420029  373083  334570  306873  282169  258069  234762  213322   \n",
       "15      420029  373083  334570  306873  282169  258069  234762  213322   \n",
       "16      420029  373083  334570  306873  282169  258069  234762  213322   \n",
       "17      420029  373083  334570  306873  282169  258069  234762  213322   \n",
       "18      420029  373083  334570  306873  282169  258069  234762  213322   \n",
       "19      420029   28478  334570  306873  282169  258069  234762  213322   \n",
       "20      160195  373083  334570  306873  282169  258069  234762  213322   \n",
       "\n",
       "lag         9       10      11      12      13     14     15     16     17  \\\n",
       "ntraps                                                                       \n",
       "1       192589  172213  152286  132852  113995  95579  80712  66352  52393   \n",
       "2       192589  172213  152286  132852  113995  95579  80712  66352  52393   \n",
       "3       192589  172213  152286  132852  113995  95579  80712  66352  52393   \n",
       "4       192589  172213  152286  132852  113995  95579  80712  66352  52393   \n",
       "5       192589  172213  152286  132852  113995  95579  80712  66352  52393   \n",
       "6       192589  172213  152286  132852  113995  95579  80712  66352  52393   \n",
       "7       192589  172213  152286  132852  113995  95579  80712  66352  52393   \n",
       "8       192589  172213  152286  132852  113995  95579  80712  66352  52393   \n",
       "9       192589  172213  152286  132852  113995  95579  80712  66352  52393   \n",
       "10      192589  172213  152286  132852  113995  95579  80712  66352  52393   \n",
       "11      192589  172213  152286  132852  113995  95579  80712  66352  52393   \n",
       "12      192589  172213  152286  132852  113995  95579  80712  66352  52393   \n",
       "13      192589  172213  152286  132852  113995  95579  80712  66352  52393   \n",
       "14      192589  172213  152286  132852  113995  95579  80712  66352  52393   \n",
       "15      192589  172213  152286  132852  113995  95579  80712  66352  52393   \n",
       "16      192589  172213  152286  132852  113995  95579  80712  66352  52393   \n",
       "17      192589  172213  152286  132852  113995  95579  80712  66352  52393   \n",
       "18      192589  172213  152286  132852  113995  95579  80712  66352  52393   \n",
       "19      192589  172213  152286  132852  113995  95579  80712  66352  52393   \n",
       "20      192589  172213  152286  132852  113995  95579  80712  66352  52393   \n",
       "\n",
       "lag        18     19     20  \n",
       "ntraps                       \n",
       "1       38647  25125  11884  \n",
       "2       38647  25125  11884  \n",
       "3       38647  25125  11884  \n",
       "4       38647  25125  11884  \n",
       "5       38647  25125  11884  \n",
       "6       38647  25125  11884  \n",
       "7       38647  25125  11884  \n",
       "8       38647  25125  11884  \n",
       "9       38647  25125  11884  \n",
       "10      38647  25125  11884  \n",
       "11      38647  25125  11884  \n",
       "12      38647  25125  11884  \n",
       "13      38647  25125  11884  \n",
       "14      38647  25125  11884  \n",
       "15      38647  25125  11884  \n",
       "16      38647  25125  11884  \n",
       "17      38647  25125  11884  \n",
       "18      38647  25125  11884  \n",
       "19      38647  25125  11884  \n",
       "20      38647  25125  11884  "
      ]
     },
     "execution_count": 6,
     "metadata": {},
     "output_type": "execute_result"
    }
   ],
   "source": [
    "samples_df"
   ]
  }
 ],
 "metadata": {
  "kernelspec": {
   "display_name": "venv_ovitraps",
   "language": "python",
   "name": "python3"
  },
  "language_info": {
   "codemirror_mode": {
    "name": "ipython",
    "version": 3
   },
   "file_extension": ".py",
   "mimetype": "text/x-python",
   "name": "python",
   "nbconvert_exporter": "python",
   "pygments_lexer": "ipython3",
   "version": "3.11.10"
  }
 },
 "nbformat": 4,
 "nbformat_minor": 2
}
