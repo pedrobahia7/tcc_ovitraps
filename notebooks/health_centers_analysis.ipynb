{
 "cells": [
  {
   "cell_type": "code",
   "execution_count": null,
   "id": "dfa005bb",
   "metadata": {},
   "outputs": [],
   "source": [
    "import pandas as pd\n",
    "import numpy as np\n",
    "\n",
    "ovitraps_data = pd.read_csv('../data/processed/ovitraps_data.csv',index_col=0)\n",
    "ovitraps_data_with_coordinates = pd.read_csv('../data/processed/ovitraps_data_with_coordinates.csv')\n",
    "dengue_data = pd.read_csv('../data/processed/dengue_data.csv',index_col=0) \n",
    "dengue_data_with_coordinates = pd.read_csv('../data/processed/dengue_data_with_coordinates.csv')"
   ]
  },
  {
   "cell_type": "code",
   "execution_count": 68,
   "id": "ae7a785c",
   "metadata": {},
   "outputs": [],
   "source": [
    "ovitrap_info = ovitraps_data.groupby('narmad').first()[['closest_health_center','abrange']]\n",
    "ovitrap_info = ovitrap_info.dropna()\n",
    "\n",
    "cases_info = dengue_data[['closest_health_center', 'abrange']]\n",
    "cases_info = cases_info.dropna()"
   ]
  },
  {
   "cell_type": "code",
   "execution_count": 69,
   "id": "fb9a3535",
   "metadata": {},
   "outputs": [
    {
     "name": "stdout",
     "output_type": "stream",
     "text": [
      "Same health center ovitraps: 0.5315712187958884\n",
      "Same health center dengue cases: 0.3197501817152165\n"
     ]
    }
   ],
   "source": [
    "print('Same health center ovitraps:', (ovitrap_info['closest_health_center'] == ovitrap_info['abrange']).mean())\n",
    "print('Same health center dengue cases:', (cases_info['closest_health_center'] == cases_info['abrange']).mean())"
   ]
  },
  {
   "cell_type": "code",
   "execution_count": 70,
   "id": "540e21c3",
   "metadata": {},
   "outputs": [
    {
     "data": {
      "text/html": [
       "<div>\n",
       "<style scoped>\n",
       "    .dataframe tbody tr th:only-of-type {\n",
       "        vertical-align: middle;\n",
       "    }\n",
       "\n",
       "    .dataframe tbody tr th {\n",
       "        vertical-align: top;\n",
       "    }\n",
       "\n",
       "    .dataframe thead th {\n",
       "        text-align: right;\n",
       "    }\n",
       "</style>\n",
       "<table border=\"1\" class=\"dataframe\">\n",
       "  <thead>\n",
       "    <tr style=\"text-align: right;\">\n",
       "      <th></th>\n",
       "      <th>closest_health_center</th>\n",
       "      <th>abrange</th>\n",
       "    </tr>\n",
       "  </thead>\n",
       "  <tbody>\n",
       "    <tr>\n",
       "      <th>0</th>\n",
       "      <td>C.S.REGINA</td>\n",
       "      <td>C.S.REGINA</td>\n",
       "    </tr>\n",
       "    <tr>\n",
       "      <th>1</th>\n",
       "      <td>C.S.SANTA CECILIA</td>\n",
       "      <td>NAO DETERMINADA</td>\n",
       "    </tr>\n",
       "    <tr>\n",
       "      <th>2</th>\n",
       "      <td>C.S.SANTA CECILIA</td>\n",
       "      <td>C.S.SANTA CECILIA</td>\n",
       "    </tr>\n",
       "    <tr>\n",
       "      <th>4</th>\n",
       "      <td>C.S.BARREIRO - CARLOS RENATO DIAS</td>\n",
       "      <td>NAO DETERMINADA</td>\n",
       "    </tr>\n",
       "    <tr>\n",
       "      <th>5</th>\n",
       "      <td>C.S.SANTA CECILIA</td>\n",
       "      <td>C.S.SANTA CECILIA</td>\n",
       "    </tr>\n",
       "    <tr>\n",
       "      <th>...</th>\n",
       "      <td>...</td>\n",
       "      <td>...</td>\n",
       "    </tr>\n",
       "    <tr>\n",
       "      <th>992063</th>\n",
       "      <td>C.S.SANTA MONICA</td>\n",
       "      <td>NAO DETERMINADA</td>\n",
       "    </tr>\n",
       "    <tr>\n",
       "      <th>992103</th>\n",
       "      <td>C.S.ZILAH SPOSITO</td>\n",
       "      <td>NAO DETERMINADA</td>\n",
       "    </tr>\n",
       "    <tr>\n",
       "      <th>992148</th>\n",
       "      <td>C.S.CAMPO ALEGRE</td>\n",
       "      <td>NAO DETERMINADA</td>\n",
       "    </tr>\n",
       "    <tr>\n",
       "      <th>992177</th>\n",
       "      <td>C.S.CONJUNTO RIBEIRO DE ABREU - EFIGENIA MURTA...</td>\n",
       "      <td>NAO DETERMINADA</td>\n",
       "    </tr>\n",
       "    <tr>\n",
       "      <th>992229</th>\n",
       "      <td>C.S.FLORAMAR</td>\n",
       "      <td>NAO DETERMINADA</td>\n",
       "    </tr>\n",
       "  </tbody>\n",
       "</table>\n",
       "<p>685138 rows × 2 columns</p>\n",
       "</div>"
      ],
      "text/plain": [
       "                                    closest_health_center            abrange\n",
       "0                                              C.S.REGINA         C.S.REGINA\n",
       "1                                       C.S.SANTA CECILIA    NAO DETERMINADA\n",
       "2                                       C.S.SANTA CECILIA  C.S.SANTA CECILIA\n",
       "4                       C.S.BARREIRO - CARLOS RENATO DIAS    NAO DETERMINADA\n",
       "5                                       C.S.SANTA CECILIA  C.S.SANTA CECILIA\n",
       "...                                                   ...                ...\n",
       "992063                                   C.S.SANTA MONICA    NAO DETERMINADA\n",
       "992103                                  C.S.ZILAH SPOSITO    NAO DETERMINADA\n",
       "992148                                   C.S.CAMPO ALEGRE    NAO DETERMINADA\n",
       "992177  C.S.CONJUNTO RIBEIRO DE ABREU - EFIGENIA MURTA...    NAO DETERMINADA\n",
       "992229                                       C.S.FLORAMAR    NAO DETERMINADA\n",
       "\n",
       "[685138 rows x 2 columns]"
      ]
     },
     "execution_count": 70,
     "metadata": {},
     "output_type": "execute_result"
    }
   ],
   "source": [
    "cases_info"
   ]
  }
 ],
 "metadata": {
  "kernelspec": {
   "display_name": "venv_ovitraps",
   "language": "python",
   "name": "python3"
  },
  "language_info": {
   "codemirror_mode": {
    "name": "ipython",
    "version": 3
   },
   "file_extension": ".py",
   "mimetype": "text/x-python",
   "name": "python",
   "nbconvert_exporter": "python",
   "pygments_lexer": "ipython3",
   "version": "3.11.10"
  }
 },
 "nbformat": 4,
 "nbformat_minor": 5
}
