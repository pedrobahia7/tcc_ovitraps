{
 "cells": [
  {
   "cell_type": "code",
   "execution_count": 1,
   "metadata": {},
   "outputs": [
    {
     "name": "stdout",
     "output_type": "stream",
     "text": [
      "pygame 2.6.1 (SDL 2.28.4, Python 3.11.10)\n",
      "Hello from the pygame community. https://www.pygame.org/contribute.html\n"
     ]
    },
    {
     "data": {
      "text/plain": [
       "\"    for boolean1 in bool_list:\\n    parameters['use_trap_info'] = boolean1\\n    for boolean2 in bool_list:\\n        parameters['random_split'] = boolean2\\n        for type in metatron:\\n            parameters['model_type'] = type\\n    \""
      ]
     },
     "execution_count": 1,
     "metadata": {},
     "output_type": "execute_result"
    }
   ],
   "source": [
    "import sys\n",
    "import os\n",
    "current_dir = os.getcwd()\n",
    "\n",
    "project_root = os.path.abspath(os.path.join(current_dir, '../'))\n",
    "sys.path.append(project_root)\n",
    "\n",
    "\n",
    "from src.NN import NN_pipeline\n",
    "import tqdm\n",
    "import itertools\n",
    "import utils.generic as generic\n",
    "\n",
    "\n",
    "\n",
    "'''\n",
    "Define different parameters and call pipeline\n",
    "'''\n",
    "# Parameters\n",
    "\n",
    "repeat = 10 # Number of times the model will be trained and tested\n",
    "play_song = False\n",
    "stop_time = 2\n",
    "\n",
    "models = ['mlp1']  # 'classifier' or 'regressor' or 'exponential_renato' or 'linear_regressor' or 'logistic' or 'GAM' or 'Naive' or 'mlp1'\n",
    "lags = [5]\n",
    "neigh_num = [11]\n",
    "\n",
    "test_size = 0.2\n",
    "learning_rate =1e-5\n",
    "batch_size = 64\n",
    "epochs = 10000\n",
    "use_trap_info = True\n",
    "scale = False\n",
    "random_split = False\n",
    "input_3d = False\n",
    "bool_input = False\n",
    "truncate_100 = True\n",
    "cylindrical_input = False\n",
    "\n",
    "parameters = {\n",
    "    'model_type': [],\n",
    "    'use_trap_info': use_trap_info,\n",
    "    'ntraps': [],\n",
    "    'lags': [],\n",
    "    'random_split': random_split,\n",
    "    'test_size': test_size,\n",
    "    'scale': scale,\n",
    "    'learning_rate': learning_rate,\n",
    "    'batch_size': batch_size,\n",
    "    'epochs': epochs,\n",
    "    'input_3d': input_3d,\n",
    "    'bool_input': bool_input,\n",
    "    'truncate_100': truncate_100,\n",
    "    'cylindrical_input': cylindrical_input\n",
    "\n",
    "    }\n",
    "\n",
    "\n",
    "bool_list = [True, False]\n",
    "\n",
    "\"\"\"    for boolean1 in bool_list:\n",
    "    parameters['use_trap_info'] = boolean1\n",
    "    for boolean2 in bool_list:\n",
    "        parameters['random_split'] = boolean2\n",
    "        for type in metatron:\n",
    "            parameters['model_type'] = type\n",
    "    \"\"\"\n"
   ]
  },
  {
   "cell_type": "code",
   "execution_count": 5,
   "metadata": {},
   "outputs": [
    {
     "name": "stderr",
     "output_type": "stream",
     "text": [
      "  0%|          | 0/1 [00:00<?, ?it/s]"
     ]
    },
    {
     "name": "stdout",
     "output_type": "stream",
     "text": [
      "Iteration 0 - Model mlp1 - Lags 5 - Neigh 11\n",
      "Using cpu device\n",
      "> \u001b[1;32mc:\\users\\ufmg\\periodos\\periodo_xiv\\tcc\\projeto\\códigos\\tcc_ovitraps\\utils\\nn_building.py\u001b[0m(48)\u001b[0;36mcreate_dataset\u001b[1;34m()\u001b[0m\n",
      "\u001b[1;32m     46 \u001b[1;33m\u001b[1;31m# create data\u001b[0m\u001b[1;33m\u001b[0m\u001b[1;33m\u001b[0m\u001b[0m\n",
      "\u001b[0m\u001b[1;32m     47 \u001b[1;33m    \u001b[0mpdb\u001b[0m\u001b[1;33m.\u001b[0m\u001b[0mset_trace\u001b[0m\u001b[1;33m(\u001b[0m\u001b[1;33m)\u001b[0m\u001b[1;33m\u001b[0m\u001b[1;33m\u001b[0m\u001b[0m\n",
      "\u001b[0m\u001b[1;32m---> 48 \u001b[1;33m    \u001b[1;32mif\u001b[0m \u001b[0mos\u001b[0m\u001b[1;33m.\u001b[0m\u001b[0mpath\u001b[0m\u001b[1;33m.\u001b[0m\u001b[0mexists\u001b[0m\u001b[1;33m(\u001b[0m\u001b[0mdata_path\u001b[0m\u001b[1;33m)\u001b[0m\u001b[1;33m:\u001b[0m\u001b[1;33m\u001b[0m\u001b[1;33m\u001b[0m\u001b[0m\n",
      "\u001b[0m\u001b[1;32m     49 \u001b[1;33m        \u001b[1;31m# data import and preprocessing\u001b[0m\u001b[1;33m\u001b[0m\u001b[1;33m\u001b[0m\u001b[0m\n",
      "\u001b[0m\u001b[1;32m     50 \u001b[1;33m        \u001b[0mdata\u001b[0m \u001b[1;33m=\u001b[0m \u001b[0mpd\u001b[0m\u001b[1;33m.\u001b[0m\u001b[0mread_parquet\u001b[0m\u001b[1;33m(\u001b[0m\u001b[0mdata_path\u001b[0m\u001b[1;33m)\u001b[0m\u001b[1;33m\u001b[0m\u001b[1;33m\u001b[0m\u001b[0m\n",
      "\u001b[0m\n",
      "Iteration 1, loss = 5.33539216\n",
      "\n",
      "Program interrupted. (Use 'cont' to resume).\n",
      "> \u001b[1;32mc:\\users\\user\\miniconda3\\envs\\venv_ovitraps\\lib\\site-packages\\scipy\\sparse\\_base.py\u001b[0m(1487)\u001b[0;36missparse\u001b[1;34m()\u001b[0m\n",
      "\u001b[1;32m   1485 \u001b[1;33m    \u001b[1;32mFalse\u001b[0m\u001b[1;33m\u001b[0m\u001b[1;33m\u001b[0m\u001b[0m\n",
      "\u001b[0m\u001b[1;32m   1486 \u001b[1;33m    \"\"\"\n",
      "\u001b[0m\u001b[1;32m-> 1487 \u001b[1;33m    \u001b[1;32mreturn\u001b[0m \u001b[0misinstance\u001b[0m\u001b[1;33m(\u001b[0m\u001b[0mx\u001b[0m\u001b[1;33m,\u001b[0m \u001b[0m_spbase\u001b[0m\u001b[1;33m)\u001b[0m\u001b[1;33m\u001b[0m\u001b[1;33m\u001b[0m\u001b[0m\n",
      "\u001b[0m\u001b[1;32m   1488 \u001b[1;33m\u001b[1;33m\u001b[0m\u001b[0m\n",
      "\u001b[0m\u001b[1;32m   1489 \u001b[1;33m\u001b[1;33m\u001b[0m\u001b[0m\n",
      "\u001b[0m\n"
     ]
    },
    {
     "name": "stderr",
     "output_type": "stream",
     "text": [
      "  0%|          | 0/1 [00:26<?, ?it/s]\n"
     ]
    }
   ],
   "source": [
    "for i in range(repeat):\n",
    "    for model in models:\n",
    "        for lag, ntraps in tqdm.tqdm(itertools.product(lags, neigh_num),total=len(lags)*len(neigh_num)):\n",
    "            parameters['model_type'] = model\n",
    "            parameters['lags'] = lag\n",
    "            parameters['ntraps'] = ntraps\n",
    "            print(f'Iteration {i} - Model {model} - Lags {lag} - Neigh {ntraps}')\n",
    "            NN_pipeline(parameters, f'../results/final_dfs/final_df_lag{lag}_ntraps{ntraps}.parquet')\n",
    "\n",
    "if play_song: \n",
    "    generic.play_ending_song()\n",
    "    generic.stop_ending_song(stop_time)"
   ]
  }
 ],
 "metadata": {
  "kernelspec": {
   "display_name": "venv_ovitraps",
   "language": "python",
   "name": "python3"
  },
  "language_info": {
   "codemirror_mode": {
    "name": "ipython",
    "version": 3
   },
   "file_extension": ".py",
   "mimetype": "text/x-python",
   "name": "python",
   "nbconvert_exporter": "python",
   "pygments_lexer": "ipython3",
   "version": "3.11.10"
  }
 },
 "nbformat": 4,
 "nbformat_minor": 2
}
