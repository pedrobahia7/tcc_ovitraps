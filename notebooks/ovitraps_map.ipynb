{
 "cells": [
  {
   "cell_type": "code",
   "execution_count": null,
   "id": "d78f412b",
   "metadata": {},
   "outputs": [
    {
     "name": "stdout",
     "output_type": "stream",
     "text": [
      "pygame 2.6.1 (SDL 2.28.4, Python 3.11.10)\n",
      "Hello from the pygame community. https://www.pygame.org/contribute.html\n"
     ]
    }
   ],
   "source": [
    "import sys\n",
    "sys.path.append('../utils')\n",
    "import generic\n",
    "from folium.plugins import LocateControl\n"
   ]
  },
  {
   "cell_type": "code",
   "execution_count": null,
   "id": "5d8bc6a9",
   "metadata": {},
   "outputs": [
    {
     "name": "stderr",
     "output_type": "stream",
     "text": [
      "C:\\Users\\User\\AppData\\Local\\Temp\\ipykernel_7212\\2154441945.py:2: DtypeWarning: Columns (8,20,21) have mixed types. Specify dtype option on import or set low_memory=False.\n",
      "  ovitraps_data = pd.read_csv('../data/banco_060924.csv',header=None, sep=';')\n"
     ]
    }
   ],
   "source": [
    "import sys\n",
    "sys.path.append('../utils')\n",
    "import generic\n",
    "import pandas as pd\n",
    "ovitraps_data = pd.read_csv('../data/banco_060924.csv',header=None, sep=';', encoding='utf-8')\n",
    "ovitraps_data.drop(columns=[31], inplace=True)\n",
    "ovitraps_data.columns = [\"id_palheta\",\n",
    "                        \"presenca_ovos\",\n",
    "                        \"NUM_OVOS\",\n",
    "                        \"IND_QTE_OVOS_DESIDRATADOS\",\n",
    "                        \"IND_QTE_OVOS_ECLODIDOS\",\n",
    "                        \"DT_INSTALACAO\",\n",
    "                        \"DT_COLETA\",\n",
    "                        \"NUM_SEMANA\",\n",
    "                        \"ANO_REFERENCIA\",\n",
    "                        \"NUM_ARMADILHA\",\n",
    "                        \"ID_ARMADILHA\",\n",
    "                        \"ID_ENDERECO_ARMADILHA\",\n",
    "                        \"NUM_LOGRADOURO\",\n",
    "                        \"NUM_SEQU_LOGRADOURO\",\n",
    "                        \"NOM_LOGRADOURO\",\n",
    "                        \"CEP\",\n",
    "                        \"NUM_IMOVEL\",\n",
    "                        \"COMPLEMENTO\",\n",
    "                        \"IND_OFICIAL\",\n",
    "                        \"QUADRA\",\n",
    "                        \"VALOR_COORDENADA_X\",\n",
    "                        \"VALOR_COORDENADA_Y\",\n",
    "                        \"UF\",\n",
    "                        \"COD_AREA_ABRANGENCIA\",\n",
    "                        \"DES_MUNICIPIO\",\n",
    "                        \"NUM_BAIRRO\",\n",
    "                        \"NOM_BAIRRO\",\n",
    "                        \"COD_DISTRITO_SANITARIO\",\n",
    "                        \"TP_LOGRADOURO\",\n",
    "                        \"DT_DESATIVACAO_ARMADILHA_ENDERECO\",\n",
    "                        \"DT_CADASTRO_ARMADILHA_ENDERECO\",]\n",
    "ovitraps_with_coordinates = pd.read_csv('../data/processed/ovitraps_data_with_coordinates.csv')"
   ]
  },
  {
   "cell_type": "code",
   "execution_count": null,
   "id": "65d1ed84",
   "metadata": {},
   "outputs": [],
   "source": [
    "# keep first of the needed columns\n",
    "traps_info = ovitraps_data.groupby('NUM_ARMADILHA').first()[['ID_ENDERECO_ARMADILHA','NOM_LOGRADOURO','NUM_IMOVEL','COMPLEMENTO','DT_DESATIVACAO_ARMADILHA_ENDERECO']]\n",
    "coordinates = ovitraps_with_coordinates.groupby('narmad').first()[['latitude','longitude']]\n",
    "coordinates.index = coordinates.index.map(lambda x:x - 900000)\n",
    "\n",
    "traps_info = traps_info.merge(coordinates, left_on='NUM_ARMADILHA', right_on='narmad', how='left')\n",
    "traps_info_filtered = traps_info[traps_info['DT_DESATIVACAO_ARMADILHA_ENDERECO'].isna()].drop(columns=['DT_DESATIVACAO_ARMADILHA_ENDERECO','ID_ENDERECO_ARMADILHA']).reset_index(drop=True)\n",
    "traps_info_filtered['address'] = traps_info_filtered['NOM_LOGRADOURO'] + ', ' + traps_info_filtered['NUM_IMOVEL'].astype(str) + ' ' + traps_info_filtered['COMPLEMENTO'].fillna('') \n",
    "traps_info_filtered.drop(columns=['NOM_LOGRADOURO','NUM_IMOVEL','COMPLEMENTO'], inplace=True)\n",
    "traps_info_filtered.dropna(axis=0, subset=['latitude','longitude'], inplace=True)\n"
   ]
  },
  {
   "cell_type": "code",
   "execution_count": 99,
   "id": "ef1de85b",
   "metadata": {},
   "outputs": [],
   "source": [
    "mymap = generic.create_map(traps_info_filtered[['latitude', 'longitude']].values)\n",
    "\n",
    "mymap = generic.add_points_to_map(mymap,\n",
    "                coordinates=traps_info_filtered[['latitude', 'longitude']].values,\n",
    "                text=traps_info_filtered['address'].values,\n",
    "                size=7)\n",
    "LocateControl(auto_start=True).add_to(mymap)\n",
    "\n",
    "mymap.save(\"../results/maps/ovitraps_map_gps.html\")\n"
   ]
  }
 ],
 "metadata": {
  "kernelspec": {
   "display_name": "venv_ovitraps",
   "language": "python",
   "name": "python3"
  },
  "language_info": {
   "codemirror_mode": {
    "name": "ipython",
    "version": 3
   },
   "file_extension": ".py",
   "mimetype": "text/x-python",
   "name": "python",
   "nbconvert_exporter": "python",
   "pygments_lexer": "ipython3",
   "version": "3.11.10"
  }
 },
 "nbformat": 4,
 "nbformat_minor": 5
}
