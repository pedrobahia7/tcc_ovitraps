{
 "cells": [
  {
   "cell_type": "code",
   "execution_count": 6,
   "metadata": {},
   "outputs": [],
   "source": [
    "import sys\n",
    "import os\n",
    "current_dir = os.getcwd()\n",
    "project_root = os.path.abspath(os.path.join(current_dir, '..'))\n",
    "sys.path.append(project_root)\n",
    "from hpelm import ELM\n",
    "import utils.NN_building as NN_building\n",
    "import pdb\n",
    "import tqdm\n",
    "import numpy as np\n",
    "from sklearn.metrics import accuracy_score  \n",
    "from matplotlib import pyplot as plt    \n",
    "from sklearn.preprocessing import MinMaxScaler\n",
    "import pandas as pd "
   ]
  },
  {
   "cell_type": "code",
   "execution_count": 2,
   "metadata": {},
   "outputs": [],
   "source": [
    "parameters = {\n",
    "    'model_type': 'Naive',\n",
    "    'use_trap_info': True,\n",
    "    'ntraps': 11,\n",
    "    'lags': 5,\n",
    "    'random_split': False,\n",
    "    'test_size': 0.2,\n",
    "    'scale': False,\n",
    "    'input_3d': False,\n",
    "    'bool_input': False,\n",
    "    'truncate_100': True,\n",
    "    'cylindrical_input': True,\n",
    "    'add_constant': True\n",
    "    }\n",
    "\n",
    "data_path = f\"../results/final_dfs/final_df_lag{parameters['lags']}_ntraps{parameters['ntraps']}.parquet\"\n",
    "\n",
    "# create dataset\n",
    "x_train, x_test, y_train, y_test, nplaca_index = NN_building.create_dataset(parameters,data_path)\n",
    "\n",
    "# Network structure\n",
    "model_input, model_output = NN_building.input_output_sizes(x_train, parameters['model_type'])\n"
   ]
  },
  {
   "cell_type": "code",
   "execution_count": 3,
   "metadata": {},
   "outputs": [],
   "source": [
    "scaler = MinMaxScaler(feature_range=(-1, 1))\n",
    "x_train_norm = scaler.fit_transform(x_train)\n",
    "x_test_norm = scaler.transform(x_test)"
   ]
  },
  {
   "cell_type": "code",
   "execution_count": 9,
   "metadata": {},
   "outputs": [
    {
     "data": {
      "text/plain": [
       "1048576"
      ]
     },
     "execution_count": 9,
     "metadata": {},
     "output_type": "execute_result"
    }
   ],
   "source": [
    "2**20"
   ]
  },
  {
   "cell_type": "code",
   "execution_count": null,
   "metadata": {},
   "outputs": [
    {
     "name": "stderr",
     "output_type": "stream",
     "text": [
      "  0%|          | 0/1 [00:00<?, ?it/s]"
     ]
    }
   ],
   "source": [
    "y_train_onehot = np.zeros((y_train.size, y_train.max() + 1))\n",
    "y_train_onehot[np.arange(y_train.size), y_train] = 1\n",
    "\n",
    "acc_train = []\n",
    "acc_test = []\n",
    "\n",
    "index = []\n",
    "\n",
    "\n",
    "for j in tqdm.tqdm([20]):\n",
    "    for k in [1.2]:#[0.8,0.9,1,1.1,1.2]:    \n",
    "        p = int(np.ceil((2**j)*k))\n",
    "        if p in index:\n",
    "            continue\n",
    "        row_train = []\n",
    "        row_test = []\n",
    "        for i in range(1):\n",
    "            elm = ELM(x_train_norm.shape[1], y_train_onehot.shape[1], classification=\"c\")\n",
    "            elm.add_neurons(p, \"sigm\")\n",
    "            elm.train(x_train_norm, y_train_onehot, \"c\")\n",
    "            y_hat = elm.predict(x_test_norm).argmax(axis=1)\n",
    "            y_hat_train = elm.predict(x_train_norm).argmax(axis=1)\n",
    "            row_train.append(accuracy_score(y_train, y_hat_train))\n",
    "            row_test.append(accuracy_score(y_test, y_hat))\n",
    "        index.append(p)\n",
    "        acc_train.append(row_train)\n",
    "        acc_test.append(row_test)\n",
    "        pd.DataFrame(index).to_csv('index.csv')\n",
    "        pd.DataFrame(acc_train).to_csv('acc_train.csv')\n",
    "        pd.DataFrame(acc_test).to_csv('acc_test.csv')"
   ]
  },
  {
   "cell_type": "code",
   "execution_count": 2,
   "metadata": {},
   "outputs": [
    {
     "ename": "NameError",
     "evalue": "name 'np' is not defined",
     "output_type": "error",
     "traceback": [
      "\u001b[1;31m---------------------------------------------------------------------------\u001b[0m",
      "\u001b[1;31mNameError\u001b[0m                                 Traceback (most recent call last)",
      "Cell \u001b[1;32mIn[2], line 1\u001b[0m\n\u001b[1;32m----> 1\u001b[0m acc_train \u001b[38;5;241m=\u001b[39m \u001b[43mnp\u001b[49m\u001b[38;5;241m.\u001b[39marray(acc_train) \n\u001b[0;32m      2\u001b[0m acc_test \u001b[38;5;241m=\u001b[39m np\u001b[38;5;241m.\u001b[39marray(acc_test)\n\u001b[0;32m      3\u001b[0m acc_train_mean \u001b[38;5;241m=\u001b[39m acc_train\u001b[38;5;241m.\u001b[39mmean(axis\u001b[38;5;241m=\u001b[39m\u001b[38;5;241m1\u001b[39m)\n",
      "\u001b[1;31mNameError\u001b[0m: name 'np' is not defined"
     ]
    }
   ],
   "source": [
    "acc_train = np.array(acc_train) \n",
    "acc_test = np.array(acc_test)\n",
    "acc_train_mean = acc_train.mean(axis=1)\n",
    "acc_test_mean = acc_test.mean(axis=1)\n",
    "plt.plot(acc_train_mean)\n",
    "plt.plot(acc_test_mean)"
   ]
  }
 ],
 "metadata": {
  "kernelspec": {
   "display_name": "venv_ovitraps",
   "language": "python",
   "name": "python3"
  },
  "language_info": {
   "codemirror_mode": {
    "name": "ipython",
    "version": 3
   },
   "file_extension": ".py",
   "mimetype": "text/x-python",
   "name": "python",
   "nbconvert_exporter": "python",
   "pygments_lexer": "ipython3",
   "version": "3.11.10"
  }
 },
 "nbformat": 4,
 "nbformat_minor": 2
}
