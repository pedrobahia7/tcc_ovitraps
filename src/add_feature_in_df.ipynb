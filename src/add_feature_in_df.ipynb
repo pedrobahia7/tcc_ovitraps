{
 "cells": [
  {
   "cell_type": "code",
   "execution_count": 1,
   "metadata": {},
   "outputs": [],
   "source": [
    "import pandas as pd\n",
    "import os \n",
    "from tqdm import tqdm   \n",
    "info_df = pd.read_csv('../data/final_data.csv')\n",
    "info_df['semepi'] = info_df['semepi'] - 100\n",
    " \n",
    "features = ['mesepid', 'semepi', 'zero_perc','anoepid']\n",
    "\n",
    "root = \"../results/final_dfs/\" # root of the final dfs\n"
   ]
  },
  {
   "cell_type": "code",
   "execution_count": 2,
   "metadata": {},
   "outputs": [
    {
     "name": "stderr",
     "output_type": "stream",
     "text": [
      "100%|██████████| 427/427 [04:08<00:00,  1.72it/s]\n"
     ]
    }
   ],
   "source": [
    "\n",
    "for file in tqdm(os.listdir(root)):\n",
    "        \n",
    "        if not file.endswith('.parquet'):\n",
    "            continue\n",
    "        \n",
    "        df = pd.read_parquet(os.path.join(root, file),engine=\"pyarrow\", use_threads=True)\n",
    "        for i in features:\n",
    "            if i not in df.columns:\n",
    "                    df = df.merge(info_df[['nplaca',i]], on='nplaca', how='left')\n",
    "                    unnamed_cols = df.columns [['Unnamed' in col for col in df.columns] ] #TODO create function to load df\n",
    "                    new_file = 'new/' + file   # saved in a new folder to avoid overwriting and possible data loss\n",
    "                    df.to_parquet(os.path.join(root, new_file), compression='snappy', engine=\"pyarrow\",index=False)     \n"
   ]
  }
 ],
 "metadata": {
  "kernelspec": {
   "display_name": "venv_ovitraps",
   "language": "python",
   "name": "python3"
  },
  "language_info": {
   "codemirror_mode": {
    "name": "ipython",
    "version": 3
   },
   "file_extension": ".py",
   "mimetype": "text/x-python",
   "name": "python",
   "nbconvert_exporter": "python",
   "pygments_lexer": "ipython3",
   "version": "3.11.10"
  }
 },
 "nbformat": 4,
 "nbformat_minor": 2
}
