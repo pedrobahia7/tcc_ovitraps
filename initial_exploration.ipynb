{
 "cells": [
  {
   "cell_type": "markdown",
   "metadata": {},
   "source": [
    "Import libraries"
   ]
  },
  {
   "cell_type": "code",
   "execution_count": 2,
   "metadata": {},
   "outputs": [],
   "source": [
    "import pandas as pd \n"
   ]
  },
  {
   "cell_type": "markdown",
   "metadata": {},
   "source": [
    "Import Data"
   ]
  },
  {
   "cell_type": "code",
   "execution_count": 11,
   "metadata": {},
   "outputs": [],
   "source": [
    "df_banco = pd.read_csv('./data/banco_160724.csv', sep=';',decimal=',')\n",
    "malha400 = pd.read_csv('./data/malha400.csv', sep=';',decimal=',')\n",
    "malha400completa = pd.read_csv('./data/malha400Completa.csv', sep=';',decimal=',')\n",
    "malha400completa2 = pd.read_csv('./data/malha400Completa2.csv', sep=';',decimal=',')\n",
    "masterdata = pd.read_csv('./data/masterData.csv', sep=';',decimal='.') #attention to the decimal separator\n"
   ]
  },
  {
   "cell_type": "code",
   "execution_count": 69,
   "metadata": {},
   "outputs": [
    {
     "data": {
      "text/plain": [
       "Index(['744', 'NÃO', '0', 'Unnamed: 3', 'Unnamed: 4', '18/10/2011 10:21:53',\n",
       "       '24/10/2011 15:16:55', '42', '2011', '2030', '363', '8750', '114440',\n",
       "       '0.1', 'AJAX CORREA RABELLO', '30210040', '400', 'Unnamed: 17', 'S',\n",
       "       '03520', '613454', '7792658', 'MG', '2210', 'BELO HORIZONTE', '718',\n",
       "       'MANGABEIRAS', '2', 'RUA', 'Unnamed: 29', '22/11/2023 09:24:58',\n",
       "       'Unnamed: 31'],\n",
       "      dtype='object')"
      ]
     },
     "execution_count": 69,
     "metadata": {},
     "output_type": "execute_result"
    }
   ],
   "source": [
    "df_banco.columns"
   ]
  },
  {
   "cell_type": "code",
   "execution_count": null,
   "metadata": {},
   "outputs": [],
   "source": [
    "cols = ['id_palheta', 'presenca_ovos', 'NUM_OVOS', 'IND_QTE_OVOS_DESIDRATADOS', 'IND_QTE_OVOS_ECLODIDOS', 'DT_INSTALACAO', 'DT_COLETA', 'NUM_SEMANA', 'ANO_REFERENCIA', 'NUM_ARMADILHA', 'ID_ARMADILHA', 'ID_ENDERECO_ARMADILHA', 'NUM_LOGRADOURO', 'NUM_SEQU_LOGRADOURO', 'NOM_LOGRADOURO', 'CEP', 'NUM_IMOVEL', 'COMPLEMENTO', 'IND_OFICIAL', 'QUADRA', 'VALOR_COORDENADA_X', 'VALOR_COORDENADA_Y', 'UF', 'COD_AREA_ABRANGENCIA', 'DES_MUNICIPIO', 'NUM_BAIRRO', 'NOM_BAIRRO', 'COD_DISTRITO_SANITARIO', 'TP_LOGRADOURO', 'DT_DESATIVACAO_ARMADILHA_ENDERECO', 'DT_CADASTRO_ARMADILHA_ENDERECO']"
   ]
  },
  {
   "cell_type": "code",
   "execution_count": 66,
   "metadata": {},
   "outputs": [
    {
     "data": {
      "text/plain": [
       "Index(['exercicio', 'nplaca', 'narmad', 'idarmad', 'endarmad', 'cep',\n",
       "       'dtinstal', 'dtcol', 'semepi', 'cdabrange', 'abrange', 'quadra',\n",
       "       'cdbairro', 'nombairro', 'cddist', 'novos', 'eclod', 'desid', 'CatRC',\n",
       "       'qarmadila', 'qarmadild', 'qarmadilrc', 'qarmadilbh', 'dia', 'mes',\n",
       "       'ano', 'intvinstcol', 'agintincol', 'ovos', 'bovos', 'agnovos',\n",
       "       'nagnovos', 'ovosdiacol', 'catovos', 'agovosdiacol', 'nagovosdiacol',\n",
       "       'anoepid', 'nanoepid', 'mesepid', 'season', 'lustro', 'quinzena',\n",
       "       'quinzepid', 'Calustro', 'distrito', 'npesmes', 'npesano', 'npesanoepi',\n",
       "       'quadaa', 'quadist', 'quadaadist', 'aadist', 'qaabh', 'qaadist',\n",
       "       'qaaCatRC', 'qquadbh', 'qquadist', 'qquadaa', 'qquaCatRC', 'peso1',\n",
       "       'peso2', 'coordx', 'coordy', 'qdnte', 'ninsp', 'scoreG', 'GerCat'],\n",
       "      dtype='object')"
      ]
     },
     "execution_count": 66,
     "metadata": {},
     "output_type": "execute_result"
    }
   ],
   "source": [
    "masterdata.columns"
   ]
  },
  {
   "cell_type": "markdown",
   "metadata": {},
   "source": [
    "NaN Treatment"
   ]
  },
  {
   "cell_type": "code",
   "execution_count": null,
   "metadata": {},
   "outputs": [],
   "source": [
    "masterdata.isna().sum().sort_values(ascending=False)"
   ]
  },
  {
   "cell_type": "code",
   "execution_count": 58,
   "metadata": {},
   "outputs": [
    {
     "name": "stdout",
     "output_type": "stream",
     "text": [
      "Possible values of eclod and desid:\n",
      " eclod: [nan  2.  1.  4.  3.  5.] \n",
      " desid: [nan  3.  2.  1.  4.  5.]\n"
     ]
    }
   ],
   "source": [
    "# eclod and desid \n",
    "print('Possible values of eclod and desid:\\n',\n",
    "      'eclod:', masterdata['eclod'].unique(),'\\n',\n",
    "      'desid:', masterdata['desid'].unique())\n",
    "masterdata[['eclod','desid']] = masterdata[['eclod','desid']].fillna(0)\n",
    "\n",
    "\n"
   ]
  },
  {
   "cell_type": "code",
   "execution_count": 63,
   "metadata": {},
   "outputs": [],
   "source": []
  },
  {
   "cell_type": "code",
   "execution_count": 65,
   "metadata": {},
   "outputs": [
    {
     "data": {
      "text/plain": [
       "agovosdiacol     9300\n",
       "nagovosdiacol    9300\n",
       "CatRC            6101\n",
       "abrange          6101\n",
       "agnovos          4864\n",
       "                 ... \n",
       "qaaCatRC            0\n",
       "peso1               0\n",
       "peso2               0\n",
       "ninsp               0\n",
       "GerCat              0\n",
       "Length: 67, dtype: int64"
      ]
     },
     "execution_count": 65,
     "metadata": {},
     "output_type": "execute_result"
    }
   ],
   "source": []
  }
 ],
 "metadata": {
  "kernelspec": {
   "display_name": "venv_ovitraps",
   "language": "python",
   "name": "python3"
  },
  "language_info": {
   "codemirror_mode": {
    "name": "ipython",
    "version": 3
   },
   "file_extension": ".py",
   "mimetype": "text/x-python",
   "name": "python",
   "nbconvert_exporter": "python",
   "pygments_lexer": "ipython3",
   "version": "3.12.4"
  }
 },
 "nbformat": 4,
 "nbformat_minor": 2
}
