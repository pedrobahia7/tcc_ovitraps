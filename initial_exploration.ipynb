{
 "cells": [
  {
   "cell_type": "markdown",
   "metadata": {},
   "source": [
    "## Import libraries"
   ]
  },
  {
   "cell_type": "code",
   "execution_count": 1,
   "metadata": {},
   "outputs": [
    {
     "data": {
      "text/plain": [
       "<module 'utils' from 'c:\\\\Users\\\\User\\\\UFMG\\\\periodo_XIV\\\\tcc_ovitraps\\\\utils.py'>"
      ]
     },
     "execution_count": 1,
     "metadata": {},
     "output_type": "execute_result"
    }
   ],
   "source": [
    "import pandas as pd \n",
    "import numpy as np\n",
    "import utils\n",
    "from importlib import reload\n",
    "reload(utils)"
   ]
  },
  {
   "cell_type": "markdown",
   "metadata": {},
   "source": [
    "## Import Data"
   ]
  },
  {
   "cell_type": "markdown",
   "metadata": {},
   "source": [
    "### Main Dataframe"
   ]
  },
  {
   "cell_type": "code",
   "execution_count": 3,
   "metadata": {},
   "outputs": [],
   "source": [
    "masterdata = pd.read_csv('./data/MasterData.csv', sep=';',decimal='.') #attention to the decimal separator; inferred from the data\n",
    "original_shape = masterdata.shape\n"
   ]
  },
  {
   "cell_type": "markdown",
   "metadata": {},
   "source": [
    "### Other dataframes"
   ]
  },
  {
   "cell_type": "code",
   "execution_count": 4,
   "metadata": {},
   "outputs": [
    {
     "data": {
      "text/plain": [
       "\"\\nmalha400 = pd.read_csv('./data/malha400.csv', sep=';',decimal=',')\\nmalha400completa = pd.read_csv('./data/malha400Completa.csv', sep=';',decimal=',')\\nmalha400completa2 = pd.read_csv('./data/malha400Completa2.csv', sep=';',decimal=',')\\nmasterdata = pd.read_csv('./data/masterData.csv', sep=';',decimal='.') #attention to the decimal separator\\n\\ncols = ['id_palheta', 'presenca_ovos', 'NUM_OVOS', 'IND_QTE_OVOS_DESIDRATADOS', 'IND_QTE_OVOS_ECLODIDOS', 'DT_INSTALACAO', \\n        'DT_COLETA', 'NUM_SEMANA', 'ANO_REFERENCIA', 'NUM_ARMADILHA', 'ID_ARMADILHA', 'ID_ENDERECO_ARMADILHA',\\n        'NUM_LOGRADOURO', 'NUM_SEQU_LOGRADOURO','NOM_LOGRADOURO', 'CEP', 'NUM_IMOVEL', 'COMPLEMENTO', 'IND_OFICIAL',\\n        'QUADRA', 'VALOR_COORDENADA_X', 'VALOR_COORDENADA_Y','UF', 'COD_AREA_ABRANGENCIA', 'DES_MUNICIPIO', 'NUM_BAIRRO',\\n        'NOM_BAIRRO', 'COD_DISTRITO_SANITARIO', 'TP_LOGRADOURO', 'DT_DESATIVACAO_ARMADILHA_ENDERECO', 'DT_CADASTRO_ARMADILHA_ENDERECO','Unknown']\\n\\nbanco_160724 = pd.read_csv('./data/banco_160724.csv', sep=';',decimal='.',header=None) #Decimal is '.' which only affects the columns of coordenates.\\nbanco_160724.columns = cols\\n\\n\\nIdQdnte = pd.read_excel('./data/IdQdnte400.xls')\\nactive_traps = pd.read_excel('./data/OVITRAMPAS_ATIVAS.xlsx')\\n\\ncols = ['id_palheta', 'presenca_ovos', 'NUM_OVOS', 'IND_QTE_OVOS_DESIDRATADOS', 'IND_QTE_OVOS_ECLODIDOS', 'DT_INSTALACAO', \\n        'DT_COLETA', 'NUM_SEMANA', 'ANO_REFERENCIA', 'NUM_ARMADILHA', 'ID_ARMADILHA', 'ID_ENDERECO_ARMADILHA',\\n        'NUM_LOGRADOURO', 'NUM_SEQU_LOGRADOURO','NOM_LOGRADOURO', 'CEP', 'NUM_IMOVEL', 'COMPLEMENTO', 'IND_OFICIAL',\\n        'QUADRA', 'VALOR_COORDENADA_X', 'VALOR_COORDENADA_Y','UF', 'COD_AREA_ABRANGENCIA', 'DES_MUNICIPIO', 'NUM_BAIRRO',\\n        'NOM_BAIRRO', 'COD_DISTRITO_SANITARIO', 'TP_LOGRADOURO', 'DT_DESATIVACAO_ARMADILHA_ENDERECO', 'DT_CADASTRO_ARMADILHA_ENDERECO','Unknown']\\n\\nbanco_160724 = pd.read_csv('./data/banco_160724.csv', sep=';',decimal='.',header=None) #Decimal is '.' which only affects the columns of coordenates.\\nbanco_160724.columns = cols\\n\\n\""
      ]
     },
     "execution_count": 4,
     "metadata": {},
     "output_type": "execute_result"
    }
   ],
   "source": [
    "\n",
    "\"\"\"\n",
    "malha400 = pd.read_csv('./data/malha400.csv', sep=';',decimal=',')\n",
    "malha400completa = pd.read_csv('./data/malha400Completa.csv', sep=';',decimal=',')\n",
    "malha400completa2 = pd.read_csv('./data/malha400Completa2.csv', sep=';',decimal=',')\n",
    "masterdata = pd.read_csv('./data/masterData.csv', sep=';',decimal='.') #attention to the decimal separator\n",
    "\n",
    "cols = ['id_palheta', 'presenca_ovos', 'NUM_OVOS', 'IND_QTE_OVOS_DESIDRATADOS', 'IND_QTE_OVOS_ECLODIDOS', 'DT_INSTALACAO', \n",
    "        'DT_COLETA', 'NUM_SEMANA', 'ANO_REFERENCIA', 'NUM_ARMADILHA', 'ID_ARMADILHA', 'ID_ENDERECO_ARMADILHA',\n",
    "        'NUM_LOGRADOURO', 'NUM_SEQU_LOGRADOURO','NOM_LOGRADOURO', 'CEP', 'NUM_IMOVEL', 'COMPLEMENTO', 'IND_OFICIAL',\n",
    "        'QUADRA', 'VALOR_COORDENADA_X', 'VALOR_COORDENADA_Y','UF', 'COD_AREA_ABRANGENCIA', 'DES_MUNICIPIO', 'NUM_BAIRRO',\n",
    "        'NOM_BAIRRO', 'COD_DISTRITO_SANITARIO', 'TP_LOGRADOURO', 'DT_DESATIVACAO_ARMADILHA_ENDERECO', 'DT_CADASTRO_ARMADILHA_ENDERECO','Unknown']\n",
    "\n",
    "banco_160724 = pd.read_csv('./data/banco_160724.csv', sep=';',decimal='.',header=None) #Decimal is '.' which only affects the columns of coordenates.\n",
    "banco_160724.columns = cols\n",
    "\n",
    "\n",
    "IdQdnte = pd.read_excel('./data/IdQdnte400.xls')\n",
    "active_traps = pd.read_excel('./data/OVITRAMPAS_ATIVAS.xlsx')\n",
    "\n",
    "cols = ['id_palheta', 'presenca_ovos', 'NUM_OVOS', 'IND_QTE_OVOS_DESIDRATADOS', 'IND_QTE_OVOS_ECLODIDOS', 'DT_INSTALACAO', \n",
    "        'DT_COLETA', 'NUM_SEMANA', 'ANO_REFERENCIA', 'NUM_ARMADILHA', 'ID_ARMADILHA', 'ID_ENDERECO_ARMADILHA',\n",
    "        'NUM_LOGRADOURO', 'NUM_SEQU_LOGRADOURO','NOM_LOGRADOURO', 'CEP', 'NUM_IMOVEL', 'COMPLEMENTO', 'IND_OFICIAL',\n",
    "        'QUADRA', 'VALOR_COORDENADA_X', 'VALOR_COORDENADA_Y','UF', 'COD_AREA_ABRANGENCIA', 'DES_MUNICIPIO', 'NUM_BAIRRO',\n",
    "        'NOM_BAIRRO', 'COD_DISTRITO_SANITARIO', 'TP_LOGRADOURO', 'DT_DESATIVACAO_ARMADILHA_ENDERECO', 'DT_CADASTRO_ARMADILHA_ENDERECO','Unknown']\n",
    "\n",
    "banco_160724 = pd.read_csv('./data/banco_160724.csv', sep=';',decimal='.',header=None) #Decimal is '.' which only affects the columns of coordenates.\n",
    "banco_160724.columns = cols\n",
    "\n",
    "\"\"\"\n"
   ]
  },
  {
   "cell_type": "code",
   "execution_count": 5,
   "metadata": {},
   "outputs": [
    {
     "data": {
      "text/plain": [
       "Index(['exercicio', 'nplaca', 'narmad', 'idarmad', 'endarmad', 'cep',\n",
       "       'dtinstal', 'dtcol', 'semepi', 'cdabrange', 'abrange', 'quadra',\n",
       "       'cdbairro', 'nombairro', 'cddist', 'novos', 'eclod', 'desid', 'CatRC',\n",
       "       'qarmadila', 'qarmadild', 'qarmadilrc', 'qarmadilbh', 'dia', 'mes',\n",
       "       'ano', 'intvinstcol', 'agintincol', 'ovos', 'bovos', 'agnovos',\n",
       "       'nagnovos', 'ovosdiacol', 'catovos', 'agovosdiacol', 'nagovosdiacol',\n",
       "       'anoepid', 'nanoepid', 'mesepid', 'season', 'lustro', 'quinzena',\n",
       "       'quinzepid', 'Calustro', 'distrito', 'npesmes', 'npesano', 'npesanoepi',\n",
       "       'quadaa', 'quadist', 'quadaadist', 'aadist', 'qaabh', 'qaadist',\n",
       "       'qaaCatRC', 'qquadbh', 'qquadist', 'qquadaa', 'qquaCatRC', 'peso1',\n",
       "       'peso2', 'coordx', 'coordy', 'qdnte', 'ninsp', 'scoreG', 'GerCat'],\n",
       "      dtype='object')"
      ]
     },
     "execution_count": 5,
     "metadata": {},
     "output_type": "execute_result"
    }
   ],
   "source": [
    "masterdata.columns"
   ]
  },
  {
   "cell_type": "markdown",
   "metadata": {},
   "source": [
    "## Exploration"
   ]
  },
  {
   "cell_type": "markdown",
   "metadata": {},
   "source": [
    "### Number of unique values in each column"
   ]
  },
  {
   "cell_type": "code",
   "execution_count": 36,
   "metadata": {},
   "outputs": [
    {
     "name": "stdout",
     "output_type": "stream",
     "text": [
      "exercicio [13]: [2020 2017 2022 2019 2018 2016]\n",
      "nplaca [464739]: [90000213 90000162 90000215 90000214 90000185 90000254]\n",
      "narmad [1885]: [901001 901002 901003 901004 901005 901006]\n",
      "idarmad [1885]: [901374 901375 901376 901377 901378 901379]\n",
      "endarmad [1885]: [97222 97559 97541 97149 96964 96965]\n",
      "cep [1609]: [9030690765 9030692240 9030690080 9030690750 9030690720 9030690800]\n",
      "dtinstal [2529]: ['03nov2020' '13mar2017' '11jul2022' '14jan2019' '02jul2018' '07nov2016']\n",
      "dtcol [2595]: ['10nov2020' '20mar2017' '18jul2022' '21jan2019' '09jul2018' '14nov2016']\n",
      "semepi [50]: [145 111 128 103 127 125]\n",
      "cdabrange [154]: [901460 901400 901300 901260 901250 901290]\n",
      "abrange [153]: ['C.S.REGINA' 'C.S.LINDEIA' 'C.S.ITAIPU' 'C.S.TUNEL DE IBIRITE'\n",
      " 'C.S.TIROL' 'C.S.BARREIRO']\n",
      "quadra [1617]: [9002489. 9005607. 9002173. 9002551. 9005938. 9008200.]\n",
      "cdbairro [496]: [900714. 900706. 901052. 901157. 901158. 901155.]\n",
      "nombairro [356]: ['LINDEIA' 'JATOBA' 'REGINA' 'ITAIPU' 'MARILANDIA' 'TUNEL DE IBIRITE']\n",
      "cddist [9]: [1 2 3 4 5 6]\n",
      "novos [966]: [  0.  28.  70. 195.  61. 262.]\n",
      "eclod [6]: [0. 2. 1. 4. 3. 5.]\n",
      "desid [6]: [0. 3. 2. 1. 4. 5.]\n",
      "CatRC [5]: [ 2.  3.  1. nan  0.]\n",
      "qarmadila [30]: [ 7 11 13 12 22 17]\n",
      "qarmadild [9]: [245 212 187 206 275 141]\n",
      "qarmadilrc [5]: [953 139 708  23  64]\n",
      "dia [31]: [ 3 13 11 14  2  7]\n",
      "mes [12]: [11  3  7  1  6  5]\n",
      "ano [13]: [2020 2017 2022 2019 2018 2016]\n",
      "intvinstcol [62]: [ 7  9  8  6  5 28]\n",
      "agintincol [4]: ['06 - 08' '09 - 99' '01 - 05' nan]\n",
      "ovos [3]: ['Neg' 'Pos' nan]\n",
      "bovos [3]: [ 0.  1. nan]\n",
      "agnovos [6]: ['0000 - 0000' '0016 - 0050' '0051 - 0100' '0101 - 9999' '0001 - 0015' nan]\n",
      "nagnovos [6]: [ 0.  2.  3.  4.  1. nan]\n",
      "ovosdiacol [2222]: [ 0.        4.       10.       27.85714   8.714286 37.42857 ]\n",
      "catovos [3]: [ 0.  1. nan]\n",
      "agovosdiacol [6]: ['000.00 - 000.00' '002.00 - 006.99' '007.00 - 017.99' '018.00 - 999.99'\n",
      " nan '000.01 - 001.99']\n",
      "nagovosdiacol [6]: [ 0.  2.  3.  4. nan  1.]\n",
      "anoepid [12]: ['2020_21' '2016_17' '2022_23' '2018_19' '2021_22' '2017_18']\n",
      "nanoepid [12]: [22021 21617 22223 21819 22122 21718]\n",
      "mesepid [12]: [ 6 10  2  8  1 12]\n",
      "season [2]: [2 1]\n",
      "lustro [72]: [132 158 109 146 107 105]\n",
      "quinzena [24]: [121 105 113 101 112 110]\n",
      "quinzepid [24]: [111 119 103 115 102 124]\n",
      "Calustro [71]: [162 115 139 103 137 163]\n",
      "distrito [9]: ['BARREIRO' 'CENTRO-SUL' 'LESTE' 'NORDESTE' 'NOROESTE' 'NORTE']\n",
      "npesmes [3]: [3 2 1]\n",
      "npesano [25]: [22 24 23  9  7  8]\n",
      "npesanoepi [24]: [24 21 23 22  1 17]\n",
      "quadaa [34]: [9.0150e+12 9.0140e+12 9.0130e+12 9.0120e+12 9.0134e+05 9.0220e+12]\n",
      "quadist [1760]: [19002489 19005607 19002173 19002551 19005938 19008200]\n",
      "quadaadist [15]: [1.90100e+13 1.90134e+06 2.90200e+13 3.90300e+13 4.90400e+13 5.90500e+13]\n",
      "aadist [154]: [1901460 1901400 1901300 1901260 1901250 1901290]\n",
      "qaadist [8]: [20 12 14 21 16 18]\n",
      "qaaCatRC [5]: [84 19 47  3  2]\n",
      "qquadbh [2]: [1616.   nan]\n",
      "qquadist [9]: [224 201 171 191 265 139]\n",
      "qquadaa [28]: [ 7 11 12 22 19 15]\n",
      "qquaCatRC [5]: [871 127 647  23  60]\n",
      "peso1 [698]: [1176 1029 1127 1512 1078   49]\n",
      "peso2 [222]: [168 147 161 154   7 119]\n",
      "coordx [1817]: [598985.1 598808.  598881.8 598157.  598520.  599020. ]\n",
      "coordy [1771]: [7789798. 7790153. 7790765. 7791000. 7790795. 7790677.]\n",
      "qdnte [1402]: [303. 333. 365. 395. 364. 397.]\n",
      "scoreG [1546]: [301.2  97.  173.9 101.8 126.3  32.8]\n",
      "GerCat [5]: ['A2' 'M ' 'B ' 'A1' 'ND']\n"
     ]
    }
   ],
   "source": [
    "unique_values = utils.info_dict_col(masterdata,masterdata.columns,utils.get_col_unique_values)\n",
    "utils.print_info_col(unique_values,6)"
   ]
  },
  {
   "cell_type": "code",
   "execution_count": 7,
   "metadata": {},
   "outputs": [
    {
     "name": "stdout",
     "output_type": "stream",
     "text": [
      "cddist [9]: [1 2 3 4 5 6 7 8 9]\n",
      "eclod [6]: [nan  2.  1.  4.  3.  5.]\n",
      "desid [6]: [nan  3.  2.  1.  4.  5.]\n",
      "CatRC [5]: [ 2.  3.  1. nan  0.]\n",
      "qarmadild [9]: [245 212 187 206 275 141 178 257 184]\n",
      "qarmadilrc [5]: [953 139 708  23  64]\n",
      "qarmadilbh [1]: [1886]\n",
      "agintincol [4]: ['06 - 08' '09 - 99' '01 - 05' nan]\n",
      "ovos [3]: ['Neg' 'Pos' nan]\n",
      "bovos [3]: [ 0.  1. nan]\n",
      "agnovos [6]: ['0000 - 0000' '0016 - 0050' '0051 - 0100' '0101 - 9999' '0001 - 0015' nan]\n",
      "nagnovos [6]: [ 0.  2.  3.  4.  1. nan]\n",
      "catovos [3]: [ 0.  1. nan]\n",
      "agovosdiacol [6]: ['000.00 - 000.00' '002.00 - 006.99' '007.00 - 017.99' '018.00 - 999.99'\n",
      " nan '000.01 - 001.99']\n",
      "nagovosdiacol [6]: [ 0.  2.  3.  4. nan  1.]\n",
      "season [2]: [2 1]\n",
      "distrito [9]: ['BARREIRO' 'CENTRO-SUL' 'LESTE' 'NORDESTE' 'NOROESTE' 'NORTE' 'OESTE'\n",
      " 'PAMPULHA' 'VENDA NOVA']\n",
      "npesmes [3]: [3 2 1]\n",
      "qaabh [1]: [153]\n",
      "qaadist [8]: [20 12 14 21 16 18 15 17]\n",
      "qaaCatRC [5]: [84 19 47  3  2]\n",
      "qquadbh [2]: [1616.   nan]\n",
      "qquadist [9]: [224 201 171 191 265 139 168 221 179]\n",
      "qquaCatRC [5]: [871 127 647  23  60]\n",
      "ninsp [1]: [1]\n",
      "GerCat [5]: ['A2' 'M ' 'B ' 'A1' 'ND']\n"
     ]
    }
   ],
   "source": [
    "weird_unique_values = {col:values for col,values in unique_values.items() if values.shape[0] < 10}\n",
    "utils.print_info_col(weird_unique_values,20)"
   ]
  },
  {
   "cell_type": "markdown",
   "metadata": {},
   "source": [
    "### Sorting data columns"
   ]
  },
  {
   "cell_type": "code",
   "execution_count": 37,
   "metadata": {},
   "outputs": [
    {
     "data": {
      "text/plain": [
       "326815    01apr2013\n",
       "90520     01apr2013\n",
       "325985    01apr2013\n",
       "57186     01apr2013\n",
       "56921     01apr2013\n",
       "            ...    \n",
       "133760    31oct2022\n",
       "86983     31oct2022\n",
       "133696    31oct2022\n",
       "278152    31oct2022\n",
       "142535    31oct2022\n",
       "Name: dtinstal, Length: 464739, dtype: object"
      ]
     },
     "execution_count": 37,
     "metadata": {},
     "output_type": "execute_result"
    }
   ],
   "source": [
    "masterdata['dtinstal'].sort_values()"
   ]
  },
  {
   "cell_type": "markdown",
   "metadata": {},
   "source": [
    "### Checking types"
   ]
  },
  {
   "cell_type": "code",
   "execution_count": 9,
   "metadata": {},
   "outputs": [
    {
     "name": "stdout",
     "output_type": "stream",
     "text": [
      "exercicio [1]: [<class 'int'>]\n",
      "nplaca [1]: [<class 'int'>]\n",
      "narmad [1]: [<class 'int'>]\n",
      "idarmad [1]: [<class 'int'>]\n",
      "endarmad [1]: [<class 'int'>]\n",
      "cep [1]: [<class 'int'>]\n",
      "dtinstal [1]: [<class 'str'>]\n",
      "dtcol [1]: [<class 'str'>]\n",
      "semepi [1]: [<class 'int'>]\n",
      "cdabrange [1]: [<class 'int'>]\n",
      "abrange [2]: [<class 'str'> <class 'float'>]\n",
      "quadra [1]: [<class 'float'>]\n",
      "cdbairro [1]: [<class 'float'>]\n",
      "nombairro [1]: [<class 'str'>]\n",
      "cddist [1]: [<class 'int'>]\n",
      "novos [1]: [<class 'float'>]\n",
      "eclod [1]: [<class 'float'>]\n",
      "desid [1]: [<class 'float'>]\n",
      "CatRC [1]: [<class 'float'>]\n",
      "qarmadila [1]: [<class 'int'>]\n",
      "qarmadild [1]: [<class 'int'>]\n",
      "qarmadilrc [1]: [<class 'int'>]\n",
      "qarmadilbh [1]: [<class 'int'>]\n",
      "dia [1]: [<class 'int'>]\n",
      "mes [1]: [<class 'int'>]\n",
      "ano [1]: [<class 'int'>]\n",
      "intvinstcol [1]: [<class 'int'>]\n",
      "agintincol [2]: [<class 'str'> <class 'float'>]\n",
      "ovos [2]: [<class 'str'> <class 'float'>]\n",
      "bovos [1]: [<class 'float'>]\n",
      "agnovos [2]: [<class 'str'> <class 'float'>]\n",
      "nagnovos [1]: [<class 'float'>]\n",
      "ovosdiacol [1]: [<class 'float'>]\n",
      "catovos [1]: [<class 'float'>]\n",
      "agovosdiacol [2]: [<class 'str'> <class 'float'>]\n",
      "nagovosdiacol [1]: [<class 'float'>]\n",
      "anoepid [1]: [<class 'str'>]\n",
      "nanoepid [1]: [<class 'int'>]\n",
      "mesepid [1]: [<class 'int'>]\n",
      "season [1]: [<class 'int'>]\n",
      "lustro [1]: [<class 'int'>]\n",
      "quinzena [1]: [<class 'int'>]\n",
      "quinzepid [1]: [<class 'int'>]\n",
      "Calustro [1]: [<class 'int'>]\n",
      "distrito [1]: [<class 'str'>]\n",
      "npesmes [1]: [<class 'int'>]\n",
      "npesano [1]: [<class 'int'>]\n",
      "npesanoepi [1]: [<class 'int'>]\n",
      "quadaa [1]: [<class 'float'>]\n",
      "quadist [1]: [<class 'int'>]\n",
      "quadaadist [1]: [<class 'float'>]\n",
      "aadist [1]: [<class 'int'>]\n",
      "qaabh [1]: [<class 'int'>]\n",
      "qaadist [1]: [<class 'int'>]\n",
      "qaaCatRC [1]: [<class 'int'>]\n",
      "qquadbh [1]: [<class 'float'>]\n",
      "qquadist [1]: [<class 'int'>]\n",
      "qquadaa [1]: [<class 'int'>]\n",
      "qquaCatRC [1]: [<class 'int'>]\n",
      "peso1 [1]: [<class 'int'>]\n",
      "peso2 [1]: [<class 'int'>]\n",
      "coordx [1]: [<class 'float'>]\n",
      "coordy [1]: [<class 'float'>]\n",
      "qdnte [1]: [<class 'float'>]\n",
      "ninsp [1]: [<class 'int'>]\n",
      "scoreG [1]: [<class 'float'>]\n",
      "GerCat [1]: [<class 'str'>]\n"
     ]
    }
   ],
   "source": [
    "# dict containing the types of each column\n",
    "col_types = utils.info_dict_col(masterdata, masterdata.columns, utils.get_col_types)\n",
    "utils.print_info_col(col_types,20)"
   ]
  },
  {
   "cell_type": "code",
   "execution_count": 10,
   "metadata": {},
   "outputs": [
    {
     "name": "stdout",
     "output_type": "stream",
     "text": [
      "Columns with more than one type:\n",
      "abrange [2]: [<class 'str'> <class 'float'>]\n",
      "agintincol [2]: [<class 'str'> <class 'float'>]\n",
      "ovos [2]: [<class 'str'> <class 'float'>]\n",
      "agnovos [2]: [<class 'str'> <class 'float'>]\n",
      "agovosdiacol [2]: [<class 'str'> <class 'float'>]\n",
      "\n",
      " Values of columns with more than one type:\n",
      "abrange [2]: ['C.S.REGINA' 'C.S.LINDEIA' 'C.S.ITAIPU' 'C.S.TUNEL DE IBIRITE'\n",
      " 'C.S.TIROL' 'C.S.BARREIRO' 'C.S.BAIRRO DAS INDUSTRIAS' 'C.S.BONSUCESSO'\n",
      " 'C.S.VILA CEMIG' 'C.S.MILIONARIOS' 'C.S.BARREIRO DE CIMA' 'C.S.MIRAMAR'\n",
      " 'C.S.DIAMANTE / TEIXEIRA DIAS' 'C.S.VILA PINHO' 'C.S.SANTA CECILIA'\n",
      " 'C.S.VALE DO JATOBA' 'C.S.INDEPENDENCIA' 'C.S.MANGUEIRAS' 'C.S.URUCUIA'\n",
      " 'C.S.PILAR/OLHOS D AGUA']\n",
      "agintincol [2]: ['06 - 08' '09 - 99' '01 - 05' nan]\n",
      "ovos [2]: ['Neg' 'Pos' nan]\n",
      "agnovos [2]: ['0000 - 0000' '0016 - 0050' '0051 - 0100' '0101 - 9999' '0001 - 0015' nan]\n",
      "agovosdiacol [2]: ['000.00 - 000.00' '002.00 - 006.99' '007.00 - 017.99' '018.00 - 999.99'\n",
      " nan '000.01 - 001.99']\n"
     ]
    }
   ],
   "source": [
    "# dict containing the columns with more than one type\n",
    "weird_type_cols = {key:value for key,value in col_types.items() if value.shape[0] > 1}\n",
    "print('Columns with more than one type:')\n",
    "utils.print_info_col(weird_type_cols,20)\n",
    "\n",
    "\n",
    "print('\\n Values of columns with more than one type:')\n",
    "for col, value in weird_type_cols.items():\n",
    "    print(f'{col} [{value.shape[0]}]: {masterdata[col].unique()[:20]}')"
   ]
  },
  {
   "cell_type": "markdown",
   "metadata": {},
   "source": [
    "## Processing"
   ]
  },
  {
   "cell_type": "markdown",
   "metadata": {},
   "source": [
    "### Convert type of columns to be unique"
   ]
  },
  {
   "cell_type": "code",
   "execution_count": 11,
   "metadata": {},
   "outputs": [
    {
     "data": {
      "text/plain": [
       "\"\\nbanco_160724['VALOR_COORDENADA_X'] = banco_160724['VALOR_COORDENADA_X'].apply(str)\\nbanco_160724['VALOR_COORDENADA_Y'] = banco_160724['VALOR_COORDENADA_Y'].apply(str)\\n\""
      ]
     },
     "execution_count": 11,
     "metadata": {},
     "output_type": "execute_result"
    }
   ],
   "source": [
    "#TODO: move this after NANs treatment\n",
    "\"\"\"\n",
    "banco_160724['VALOR_COORDENADA_X'] = banco_160724['VALOR_COORDENADA_X'].apply(str)\n",
    "banco_160724['VALOR_COORDENADA_Y'] = banco_160724['VALOR_COORDENADA_Y'].apply(str)\n",
    "\"\"\""
   ]
  },
  {
   "cell_type": "markdown",
   "metadata": {},
   "source": [
    "### Remove useless columns "
   ]
  },
  {
   "cell_type": "code",
   "execution_count": 12,
   "metadata": {},
   "outputs": [
    {
     "name": "stdout",
     "output_type": "stream",
     "text": [
      "3 columns with only one value were dropped.\n"
     ]
    }
   ],
   "source": [
    "remove_cols = []\n",
    "for col,value in unique_values.items():\n",
    "     sum_dropped = 0 \n",
    "     if value.shape[0] == 1:\n",
    "        masterdata.drop(col, axis=1, inplace=True)\n",
    "        remove_cols.append(col)\n",
    "        sum_dropped += 1\n",
    "for col in remove_cols:\n",
    "    del unique_values[col]\n",
    "    del col_types[col]\n",
    "\n",
    "print(f'{original_shape[1] - masterdata.shape[1]} columns with only one value were dropped.')\n",
    "# IND_OFICIAL char(1),[Indicativo se o endereço é oficial ou informado.]"
   ]
  },
  {
   "cell_type": "markdown",
   "metadata": {},
   "source": [
    "### NaN Treatment"
   ]
  },
  {
   "cell_type": "code",
   "execution_count": 13,
   "metadata": {},
   "outputs": [
    {
     "data": {
      "text/plain": [
       "eclod            422599\n",
       "desid            397775\n",
       "nagovosdiacol      9300\n",
       "agovosdiacol       9300\n",
       "abrange            6101\n",
       "CatRC              6101\n",
       "ovosdiacol         4864\n",
       "novos              4864\n",
       "ovos               4864\n",
       "nagnovos           4864\n",
       "agnovos            4864\n",
       "bovos              4864\n",
       "catovos            4864\n",
       "cdbairro           1012\n",
       "qquadbh             493\n",
       "quadra              493\n",
       "scoreG               63\n",
       "qdnte                44\n",
       "coordx               44\n",
       "coordy               44\n",
       "agintincol           13\n",
       "cep                   0\n",
       "dtinstal              0\n",
       "dtcol                 0\n",
       "cddist                0\n",
       "nombairro             0\n",
       "cdabrange             0\n",
       "semepi                0\n",
       "endarmad              0\n",
       "exercicio             0\n",
       "dtype: int64"
      ]
     },
     "execution_count": 13,
     "metadata": {},
     "output_type": "execute_result"
    }
   ],
   "source": [
    "masterdata.isna().sum().sort_values(ascending=False)[:30]"
   ]
  },
  {
   "cell_type": "markdown",
   "metadata": {},
   "source": [
    "NaN means value 0"
   ]
  },
  {
   "cell_type": "code",
   "execution_count": 14,
   "metadata": {},
   "outputs": [
    {
     "name": "stdout",
     "output_type": "stream",
     "text": [
      "Possible values of eclod and desid:\n",
      " eclod [nan  2.  1.  4.  3.  5.] \n",
      " desid: [nan  3.  2.  1.  4.  5.]\n"
     ]
    }
   ],
   "source": [
    "# IND_QTE_OVOS_ECLODIDOS, IND_QTE_OVOS_DESIDRATADOS\n",
    "print('Possible values of eclod and desid:\\n',\n",
    "      'eclod', masterdata['eclod'].unique(),'\\n',\n",
    "      'desid:', masterdata['desid'].unique())\n",
    "\n",
    "#Substituting NaN values with 0\n",
    "masterdata[['eclod','desid']] = masterdata[['eclod','desid']].fillna(0)\n",
    "\n",
    "\n"
   ]
  },
  {
   "cell_type": "markdown",
   "metadata": {},
   "source": [
    "### NaN means lack of crutial information"
   ]
  },
  {
   "cell_type": "markdown",
   "metadata": {},
   "source": [
    "### NaNs mean lack of irrelevant data "
   ]
  },
  {
   "cell_type": "markdown",
   "metadata": {},
   "source": [
    "List of variables"
   ]
  },
  {
   "cell_type": "markdown",
   "metadata": {},
   "source": [
    "['COMPLEMENTO', 'NUM_BAIRRO']\n"
   ]
  },
  {
   "cell_type": "markdown",
   "metadata": {},
   "source": [
    "Inference"
   ]
  },
  {
   "cell_type": "code",
   "execution_count": 25,
   "metadata": {},
   "outputs": [
    {
     "data": {
      "text/plain": [
       "exercicio                    2020\n",
       "nplaca                   90000213\n",
       "narmad                     901001\n",
       "idarmad                    901374\n",
       "endarmad                    97222\n",
       "cep                    9030690765\n",
       "dtinstal                03nov2020\n",
       "dtcol                   10nov2020\n",
       "semepi                        145\n",
       "cdabrange                  901460\n",
       "abrange                C.S.REGINA\n",
       "quadra                  9002489.0\n",
       "cdbairro                 900714.0\n",
       "nombairro                 LINDEIA\n",
       "cddist                          1\n",
       "novos                         0.0\n",
       "eclod                         0.0\n",
       "desid                         0.0\n",
       "CatRC                         2.0\n",
       "qarmadila                       7\n",
       "qarmadild                     245\n",
       "qarmadilrc                    953\n",
       "dia                             3\n",
       "mes                            11\n",
       "ano                          2020\n",
       "intvinstcol                     7\n",
       "agintincol                06 - 08\n",
       "ovos                          Neg\n",
       "bovos                         0.0\n",
       "agnovos               0000 - 0000\n",
       "nagnovos                      0.0\n",
       "ovosdiacol                    0.0\n",
       "catovos                       0.0\n",
       "agovosdiacol      000.00 - 000.00\n",
       "nagovosdiacol                 0.0\n",
       "anoepid                   2020_21\n",
       "nanoepid                    22021\n",
       "mesepid                         6\n",
       "season                          2\n",
       "lustro                        132\n",
       "quinzena                      121\n",
       "quinzepid                     111\n",
       "Calustro                      162\n",
       "distrito                 BARREIRO\n",
       "npesmes                         3\n",
       "npesano                        22\n",
       "npesanoepi                     24\n",
       "quadaa            9015000000000.0\n",
       "quadist                  19002489\n",
       "quadaadist       19010000000000.0\n",
       "Name: 0, dtype: object"
      ]
     },
     "execution_count": 25,
     "metadata": {},
     "output_type": "execute_result"
    }
   ],
   "source": [
    "masterdata.iloc[0,:50]"
   ]
  },
  {
   "cell_type": "code",
   "execution_count": 26,
   "metadata": {},
   "outputs": [
    {
     "data": {
      "text/plain": [
       "qaadist             20\n",
       "qaaCatRC            84\n",
       "qquadbh         1616.0\n",
       "qquadist           224\n",
       "qquadaa              7\n",
       "qquaCatRC          871\n",
       "peso1             1176\n",
       "peso2              168\n",
       "coordx        598985.1\n",
       "coordy       7789798.0\n",
       "qdnte            303.0\n",
       "scoreG           301.2\n",
       "GerCat              A2\n",
       "Name: 0, dtype: object"
      ]
     },
     "execution_count": 26,
     "metadata": {},
     "output_type": "execute_result"
    }
   ],
   "source": [
    "masterdata.iloc[0,51:]\n"
   ]
  },
  {
   "cell_type": "code",
   "execution_count": 30,
   "metadata": {},
   "outputs": [
    {
     "name": "stdout",
     "output_type": "stream",
     "text": [
      "Equal files? True\n"
     ]
    }
   ],
   "source": [
    "# import files with num_armadilha and coordinates correspondence\n",
    "\n",
    "coordArmadilhas = pd.read_excel('./data/complementar/CoordXYArmadilhas.xls')\n",
    "coordOvitrampas = pd.read_excel('./data/complementar/CoordXYOvitrampas.xls')\n",
    "print('Equal files?', coordArmadilhas.equals(coordOvitrampas))"
   ]
  },
  {
   "cell_type": "code",
   "execution_count": 31,
   "metadata": {},
   "outputs": [],
   "source": [
    "# remove prefix 90 from num_armadilha\n",
    "coordArmadilhas['narmad'] = coordArmadilhas['narmad'].astype(str).str[2:].astype(int)"
   ]
  },
  {
   "cell_type": "code",
   "execution_count": 34,
   "metadata": {},
   "outputs": [
    {
     "data": {
      "text/html": [
       "<div>\n",
       "<style scoped>\n",
       "    .dataframe tbody tr th:only-of-type {\n",
       "        vertical-align: middle;\n",
       "    }\n",
       "\n",
       "    .dataframe tbody tr th {\n",
       "        vertical-align: top;\n",
       "    }\n",
       "\n",
       "    .dataframe thead th {\n",
       "        text-align: right;\n",
       "    }\n",
       "</style>\n",
       "<table border=\"1\" class=\"dataframe\">\n",
       "  <thead>\n",
       "    <tr style=\"text-align: right;\">\n",
       "      <th></th>\n",
       "      <th>coordx</th>\n",
       "      <th>narmad</th>\n",
       "    </tr>\n",
       "  </thead>\n",
       "  <tbody>\n",
       "    <tr>\n",
       "      <th>305175</th>\n",
       "      <td>NaN</td>\n",
       "      <td>906142</td>\n",
       "    </tr>\n",
       "    <tr>\n",
       "      <th>305176</th>\n",
       "      <td>NaN</td>\n",
       "      <td>906142</td>\n",
       "    </tr>\n",
       "    <tr>\n",
       "      <th>305177</th>\n",
       "      <td>NaN</td>\n",
       "      <td>906142</td>\n",
       "    </tr>\n",
       "    <tr>\n",
       "      <th>305178</th>\n",
       "      <td>NaN</td>\n",
       "      <td>906142</td>\n",
       "    </tr>\n",
       "    <tr>\n",
       "      <th>305179</th>\n",
       "      <td>NaN</td>\n",
       "      <td>906142</td>\n",
       "    </tr>\n",
       "    <tr>\n",
       "      <th>305180</th>\n",
       "      <td>NaN</td>\n",
       "      <td>906142</td>\n",
       "    </tr>\n",
       "    <tr>\n",
       "      <th>305181</th>\n",
       "      <td>NaN</td>\n",
       "      <td>906142</td>\n",
       "    </tr>\n",
       "    <tr>\n",
       "      <th>305182</th>\n",
       "      <td>NaN</td>\n",
       "      <td>906142</td>\n",
       "    </tr>\n",
       "    <tr>\n",
       "      <th>305183</th>\n",
       "      <td>NaN</td>\n",
       "      <td>906142</td>\n",
       "    </tr>\n",
       "    <tr>\n",
       "      <th>305184</th>\n",
       "      <td>NaN</td>\n",
       "      <td>906142</td>\n",
       "    </tr>\n",
       "    <tr>\n",
       "      <th>305185</th>\n",
       "      <td>NaN</td>\n",
       "      <td>906142</td>\n",
       "    </tr>\n",
       "    <tr>\n",
       "      <th>305186</th>\n",
       "      <td>NaN</td>\n",
       "      <td>906142</td>\n",
       "    </tr>\n",
       "    <tr>\n",
       "      <th>305187</th>\n",
       "      <td>NaN</td>\n",
       "      <td>906142</td>\n",
       "    </tr>\n",
       "    <tr>\n",
       "      <th>305188</th>\n",
       "      <td>NaN</td>\n",
       "      <td>906142</td>\n",
       "    </tr>\n",
       "    <tr>\n",
       "      <th>305189</th>\n",
       "      <td>NaN</td>\n",
       "      <td>906143</td>\n",
       "    </tr>\n",
       "    <tr>\n",
       "      <th>305190</th>\n",
       "      <td>NaN</td>\n",
       "      <td>906143</td>\n",
       "    </tr>\n",
       "    <tr>\n",
       "      <th>305191</th>\n",
       "      <td>NaN</td>\n",
       "      <td>906143</td>\n",
       "    </tr>\n",
       "    <tr>\n",
       "      <th>305192</th>\n",
       "      <td>NaN</td>\n",
       "      <td>906143</td>\n",
       "    </tr>\n",
       "    <tr>\n",
       "      <th>305193</th>\n",
       "      <td>NaN</td>\n",
       "      <td>906143</td>\n",
       "    </tr>\n",
       "    <tr>\n",
       "      <th>305194</th>\n",
       "      <td>NaN</td>\n",
       "      <td>906143</td>\n",
       "    </tr>\n",
       "    <tr>\n",
       "      <th>305195</th>\n",
       "      <td>NaN</td>\n",
       "      <td>906143</td>\n",
       "    </tr>\n",
       "    <tr>\n",
       "      <th>305196</th>\n",
       "      <td>NaN</td>\n",
       "      <td>906143</td>\n",
       "    </tr>\n",
       "    <tr>\n",
       "      <th>305197</th>\n",
       "      <td>NaN</td>\n",
       "      <td>906143</td>\n",
       "    </tr>\n",
       "    <tr>\n",
       "      <th>305198</th>\n",
       "      <td>NaN</td>\n",
       "      <td>906143</td>\n",
       "    </tr>\n",
       "    <tr>\n",
       "      <th>305199</th>\n",
       "      <td>NaN</td>\n",
       "      <td>906143</td>\n",
       "    </tr>\n",
       "    <tr>\n",
       "      <th>305200</th>\n",
       "      <td>NaN</td>\n",
       "      <td>906143</td>\n",
       "    </tr>\n",
       "    <tr>\n",
       "      <th>305201</th>\n",
       "      <td>NaN</td>\n",
       "      <td>906143</td>\n",
       "    </tr>\n",
       "    <tr>\n",
       "      <th>305202</th>\n",
       "      <td>NaN</td>\n",
       "      <td>906143</td>\n",
       "    </tr>\n",
       "    <tr>\n",
       "      <th>305203</th>\n",
       "      <td>NaN</td>\n",
       "      <td>906143</td>\n",
       "    </tr>\n",
       "    <tr>\n",
       "      <th>305204</th>\n",
       "      <td>NaN</td>\n",
       "      <td>906144</td>\n",
       "    </tr>\n",
       "    <tr>\n",
       "      <th>305205</th>\n",
       "      <td>NaN</td>\n",
       "      <td>906144</td>\n",
       "    </tr>\n",
       "    <tr>\n",
       "      <th>305206</th>\n",
       "      <td>NaN</td>\n",
       "      <td>906144</td>\n",
       "    </tr>\n",
       "    <tr>\n",
       "      <th>305207</th>\n",
       "      <td>NaN</td>\n",
       "      <td>906144</td>\n",
       "    </tr>\n",
       "    <tr>\n",
       "      <th>305208</th>\n",
       "      <td>NaN</td>\n",
       "      <td>906144</td>\n",
       "    </tr>\n",
       "    <tr>\n",
       "      <th>305209</th>\n",
       "      <td>NaN</td>\n",
       "      <td>906144</td>\n",
       "    </tr>\n",
       "    <tr>\n",
       "      <th>305210</th>\n",
       "      <td>NaN</td>\n",
       "      <td>906144</td>\n",
       "    </tr>\n",
       "    <tr>\n",
       "      <th>305211</th>\n",
       "      <td>NaN</td>\n",
       "      <td>906144</td>\n",
       "    </tr>\n",
       "    <tr>\n",
       "      <th>305212</th>\n",
       "      <td>NaN</td>\n",
       "      <td>906144</td>\n",
       "    </tr>\n",
       "    <tr>\n",
       "      <th>305213</th>\n",
       "      <td>NaN</td>\n",
       "      <td>906144</td>\n",
       "    </tr>\n",
       "    <tr>\n",
       "      <th>305214</th>\n",
       "      <td>NaN</td>\n",
       "      <td>906144</td>\n",
       "    </tr>\n",
       "    <tr>\n",
       "      <th>305215</th>\n",
       "      <td>NaN</td>\n",
       "      <td>906144</td>\n",
       "    </tr>\n",
       "    <tr>\n",
       "      <th>305216</th>\n",
       "      <td>NaN</td>\n",
       "      <td>906144</td>\n",
       "    </tr>\n",
       "    <tr>\n",
       "      <th>305217</th>\n",
       "      <td>NaN</td>\n",
       "      <td>906144</td>\n",
       "    </tr>\n",
       "    <tr>\n",
       "      <th>305218</th>\n",
       "      <td>NaN</td>\n",
       "      <td>906144</td>\n",
       "    </tr>\n",
       "  </tbody>\n",
       "</table>\n",
       "</div>"
      ],
      "text/plain": [
       "        coordx  narmad\n",
       "305175     NaN  906142\n",
       "305176     NaN  906142\n",
       "305177     NaN  906142\n",
       "305178     NaN  906142\n",
       "305179     NaN  906142\n",
       "305180     NaN  906142\n",
       "305181     NaN  906142\n",
       "305182     NaN  906142\n",
       "305183     NaN  906142\n",
       "305184     NaN  906142\n",
       "305185     NaN  906142\n",
       "305186     NaN  906142\n",
       "305187     NaN  906142\n",
       "305188     NaN  906142\n",
       "305189     NaN  906143\n",
       "305190     NaN  906143\n",
       "305191     NaN  906143\n",
       "305192     NaN  906143\n",
       "305193     NaN  906143\n",
       "305194     NaN  906143\n",
       "305195     NaN  906143\n",
       "305196     NaN  906143\n",
       "305197     NaN  906143\n",
       "305198     NaN  906143\n",
       "305199     NaN  906143\n",
       "305200     NaN  906143\n",
       "305201     NaN  906143\n",
       "305202     NaN  906143\n",
       "305203     NaN  906143\n",
       "305204     NaN  906144\n",
       "305205     NaN  906144\n",
       "305206     NaN  906144\n",
       "305207     NaN  906144\n",
       "305208     NaN  906144\n",
       "305209     NaN  906144\n",
       "305210     NaN  906144\n",
       "305211     NaN  906144\n",
       "305212     NaN  906144\n",
       "305213     NaN  906144\n",
       "305214     NaN  906144\n",
       "305215     NaN  906144\n",
       "305216     NaN  906144\n",
       "305217     NaN  906144\n",
       "305218     NaN  906144"
      ]
     },
     "metadata": {},
     "output_type": "display_data"
    }
   ],
   "source": [
    "utils.print_rows_with_nan(masterdata[['coordx','narmad']], 'coordx')"
   ]
  },
  {
   "cell_type": "markdown",
   "metadata": {},
   "source": [
    "## Problems"
   ]
  },
  {
   "cell_type": "markdown",
   "metadata": {},
   "source": [
    "# DRAFT"
   ]
  },
  {
   "cell_type": "code",
   "execution_count": 38,
   "metadata": {},
   "outputs": [
    {
     "data": {
      "text/plain": [
       "nagovosdiacol    9300\n",
       "agovosdiacol     9300\n",
       "abrange          6101\n",
       "CatRC            6101\n",
       "ovosdiacol       4864\n",
       "                 ... \n",
       "qaadist             0\n",
       "peso2               0\n",
       "peso1               0\n",
       "qquaCatRC           0\n",
       "GerCat              0\n",
       "Length: 64, dtype: int64"
      ]
     },
     "execution_count": 38,
     "metadata": {},
     "output_type": "execute_result"
    }
   ],
   "source": [
    "masterdata.isna().sum().sort_values(ascending=False)  "
   ]
  }
 ],
 "metadata": {
  "kernelspec": {
   "display_name": "venv_ovitraps",
   "language": "python",
   "name": "python3"
  },
  "language_info": {
   "codemirror_mode": {
    "name": "ipython",
    "version": 3
   },
   "file_extension": ".py",
   "mimetype": "text/x-python",
   "name": "python",
   "nbconvert_exporter": "python",
   "pygments_lexer": "ipython3",
   "version": "3.12.4"
  }
 },
 "nbformat": 4,
 "nbformat_minor": 2
}
