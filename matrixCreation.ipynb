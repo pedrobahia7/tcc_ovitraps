{
 "cells": [
  {
   "cell_type": "code",
   "execution_count": 1,
   "metadata": {},
   "outputs": [
    {
     "name": "stdout",
     "output_type": "stream",
     "text": [
      "pygame 2.6.0 (SDL 2.28.4, Python 3.12.4)\n",
      "Hello from the pygame community. https://www.pygame.org/contribute.html\n"
     ]
    },
    {
     "data": {
      "text/plain": [
       "<module 'utils' from 'c:\\\\Users\\\\UFMG\\\\Periodos\\\\Periodo_XIV\\\\TCC\\\\Projeto\\\\Códigos\\\\tcc_ovitraps\\\\utils.py'>"
      ]
     },
     "execution_count": 1,
     "metadata": {},
     "output_type": "execute_result"
    }
   ],
   "source": [
    "import pandas as pd \n",
    "from datetime import datetime\n",
    "import matplotlib.pyplot as plt\n",
    "import utils\n",
    "import numpy as np\n",
    "import importlib \n",
    "from tqdm import tqdm\n",
    "\n",
    "importlib.reload(utils)\n"
   ]
  },
  {
   "cell_type": "code",
   "execution_count": 75,
   "metadata": {},
   "outputs": [],
   "source": [
    "data = pd.read_csv('./data/final_data.csv',parse_dates=['dtcol'])"
   ]
  },
  {
   "cell_type": "code",
   "execution_count": 3,
   "metadata": {},
   "outputs": [],
   "source": [
    "lags = 3\n",
    "n_traps = 3"
   ]
  },
  {
   "cell_type": "markdown",
   "metadata": {},
   "source": [
    "### Treatment \n",
    "TODO: move to file"
   ]
  },
  {
   "cell_type": "code",
   "execution_count": 98,
   "metadata": {},
   "outputs": [
    {
     "name": "stdout",
     "output_type": "stream",
     "text": [
      "Traps with the same lat_long  narmad\n",
      "902026    305\n",
      "902025    301\n",
      "908064    300\n",
      "908059    300\n",
      "908032    300\n",
      "902031    299\n",
      "908027    299\n",
      "908207    290\n",
      "902208    229\n",
      "908242    228\n",
      "902206    226\n",
      "908262     15\n",
      "908301     15\n",
      "Name: count, dtype: int64\n",
      "\n",
      "Dates with traps with the same lat_long  dtcol\n",
      "2023-10-23    7\n",
      "2023-12-04    6\n",
      "2023-11-20    6\n",
      "2023-04-10    6\n",
      "2022-04-25    6\n",
      "2022-01-31    6\n",
      "2023-12-18    5\n",
      "2023-05-09    5\n",
      "2019-05-06    5\n",
      "2023-01-30    5\n",
      "Name: novos, dtype: int64\n"
     ]
    }
   ],
   "source": [
    "groups = data.groupby(['latitude','longitude'])\n",
    "rows_to_update = []\n",
    "\n",
    "for name, group in groups:\n",
    "    if group['narmad'].nunique() > 1:  # More than one unique value in C\n",
    "        rows_to_update.extend(group.index.tolist())  # Add row indices to the list\n",
    "bad_data = data.loc[rows_to_update]\n",
    "\n",
    "print('Traps with the same lat_long ',bad_data['narmad'].value_counts())\n",
    "print('\\nDates with traps with the same lat_long ',bad_data.groupby(['dtcol'])['novos'].nunique().sort_values(ascending=False).head(10))"
   ]
  },
  {
   "cell_type": "code",
   "execution_count": 72,
   "metadata": {},
   "outputs": [
    {
     "name": "stdout",
     "output_type": "stream",
     "text": [
      "narmad\n",
      "1    1760\n",
      "2       5\n",
      "3       1\n",
      "Name: count, dtype: int64\n"
     ]
    }
   ],
   "source": [
    "# This cell creates a new dataframe changing the number of the traps that are in the same position\n",
    "# TODO move to data exploration of preprocessing\n",
    "same_position_armad = data.groupby(['latitude','longitude'])['narmad'].nunique()\n",
    "print(same_position_armad.value_counts()) #number of traps in the same position\n",
    "\n",
    "#data['narmad'] = data.groupby(['latitude','longitude'])['narmad'].transform('first') #group by position and take the first trap number"
   ]
  },
  {
   "cell_type": "markdown",
   "metadata": {},
   "source": [
    "### Distance Matrix"
   ]
  },
  {
   "cell_type": "code",
   "execution_count": 13,
   "metadata": {},
   "outputs": [],
   "source": [
    "position_matrix = data[['latitude','longitude','narmad']].drop_duplicates().dropna().reset_index(drop=True)\n",
    "\n",
    "try: \n",
    "    distance_matrix = pd.read_csv('./results/distance_matrix.csv',index_col=0)\n",
    "    distance_matrix.columns = distance_matrix.columns.astype(float)\n",
    "    distance_matrix.set_index(distance_matrix.columns,inplace=True)\n",
    "\n",
    "\n",
    "except:\n",
    "    distance_matrix = utils.create_distance_matrix(position_matrix)\n",
    "    distance_matrix.to_csv('./results/distance_matrix.csv')\n",
    "\n",
    "distance_matrix_np = distance_matrix.to_numpy()\n"
   ]
  },
  {
   "cell_type": "markdown",
   "metadata": {},
   "source": [
    "### Week trap matrix"
   ]
  },
  {
   "cell_type": "code",
   "execution_count": 68,
   "metadata": {},
   "outputs": [
    {
     "ename": "ValueError",
     "evalue": "Index contains duplicate entries, cannot reshape",
     "output_type": "error",
     "traceback": [
      "\u001b[1;31m---------------------------------------------------------------------------\u001b[0m",
      "\u001b[1;31mValueError\u001b[0m                                Traceback (most recent call last)",
      "Cell \u001b[1;32mIn[68], line 1\u001b[0m\n\u001b[1;32m----> 1\u001b[0m week_trap_df \u001b[38;5;241m=\u001b[39m \u001b[43mdata\u001b[49m\u001b[38;5;241;43m.\u001b[39;49m\u001b[43mpivot\u001b[49m\u001b[43m(\u001b[49m\u001b[43mindex\u001b[49m\u001b[38;5;241;43m=\u001b[39;49m\u001b[43m[\u001b[49m\u001b[38;5;124;43m'\u001b[39;49m\u001b[38;5;124;43mano\u001b[39;49m\u001b[38;5;124;43m'\u001b[39;49m\u001b[43m,\u001b[49m\u001b[38;5;124;43m'\u001b[39;49m\u001b[38;5;124;43msemepi\u001b[39;49m\u001b[38;5;124;43m'\u001b[39;49m\u001b[43m]\u001b[49m\u001b[43m,\u001b[49m\u001b[43mcolumns\u001b[49m\u001b[38;5;241;43m=\u001b[39;49m\u001b[38;5;124;43m'\u001b[39;49m\u001b[38;5;124;43mnarmad\u001b[39;49m\u001b[38;5;124;43m'\u001b[39;49m\u001b[43m,\u001b[49m\u001b[43mvalues\u001b[49m\u001b[38;5;241;43m=\u001b[39;49m\u001b[38;5;124;43m'\u001b[39;49m\u001b[38;5;124;43mnovos\u001b[39;49m\u001b[38;5;124;43m'\u001b[39;49m\u001b[43m)\u001b[49m\n\u001b[0;32m      2\u001b[0m new_index \u001b[38;5;241m=\u001b[39m pd\u001b[38;5;241m.\u001b[39mMultiIndex\u001b[38;5;241m.\u001b[39mfrom_product([week_trap_df\u001b[38;5;241m.\u001b[39mindex\u001b[38;5;241m.\u001b[39mlevels[\u001b[38;5;241m0\u001b[39m], \u001b[38;5;28mrange\u001b[39m(\u001b[38;5;241m101\u001b[39m,\u001b[38;5;241m153\u001b[39m)]) \u001b[38;5;66;03m# introduce weeks 51 and 52\u001b[39;00m\n\u001b[0;32m      3\u001b[0m new_index \u001b[38;5;241m=\u001b[39m new_index[(new_index \u001b[38;5;241m<\u001b[39m\u001b[38;5;241m=\u001b[39m week_trap_df\u001b[38;5;241m.\u001b[39miloc[\u001b[38;5;241m-\u001b[39m\u001b[38;5;241m1\u001b[39m]\u001b[38;5;241m.\u001b[39mname) \u001b[38;5;241m&\u001b[39m (new_index \u001b[38;5;241m>\u001b[39m\u001b[38;5;241m=\u001b[39m week_trap_df\u001b[38;5;241m.\u001b[39miloc[\u001b[38;5;241m0\u001b[39m]\u001b[38;5;241m.\u001b[39mname)] \u001b[38;5;66;03m#remove indexes that are greater than the last sample or smaller than the first one\u001b[39;00m\n",
      "File \u001b[1;32mc:\\Users\\UFMG\\Periodos\\Periodo_XIV\\TCC\\Projeto\\Códigos\\tcc_ovitraps\\venv_ovitraps\\Lib\\site-packages\\pandas\\core\\frame.py:9339\u001b[0m, in \u001b[0;36mDataFrame.pivot\u001b[1;34m(self, columns, index, values)\u001b[0m\n\u001b[0;32m   9332\u001b[0m \u001b[38;5;129m@Substitution\u001b[39m(\u001b[38;5;124m\"\u001b[39m\u001b[38;5;124m\"\u001b[39m)\n\u001b[0;32m   9333\u001b[0m \u001b[38;5;129m@Appender\u001b[39m(_shared_docs[\u001b[38;5;124m\"\u001b[39m\u001b[38;5;124mpivot\u001b[39m\u001b[38;5;124m\"\u001b[39m])\n\u001b[0;32m   9334\u001b[0m \u001b[38;5;28;01mdef\u001b[39;00m \u001b[38;5;21mpivot\u001b[39m(\n\u001b[0;32m   9335\u001b[0m     \u001b[38;5;28mself\u001b[39m, \u001b[38;5;241m*\u001b[39m, columns, index\u001b[38;5;241m=\u001b[39mlib\u001b[38;5;241m.\u001b[39mno_default, values\u001b[38;5;241m=\u001b[39mlib\u001b[38;5;241m.\u001b[39mno_default\n\u001b[0;32m   9336\u001b[0m ) \u001b[38;5;241m-\u001b[39m\u001b[38;5;241m>\u001b[39m DataFrame:\n\u001b[0;32m   9337\u001b[0m     \u001b[38;5;28;01mfrom\u001b[39;00m \u001b[38;5;21;01mpandas\u001b[39;00m\u001b[38;5;21;01m.\u001b[39;00m\u001b[38;5;21;01mcore\u001b[39;00m\u001b[38;5;21;01m.\u001b[39;00m\u001b[38;5;21;01mreshape\u001b[39;00m\u001b[38;5;21;01m.\u001b[39;00m\u001b[38;5;21;01mpivot\u001b[39;00m \u001b[38;5;28;01mimport\u001b[39;00m pivot\n\u001b[1;32m-> 9339\u001b[0m     \u001b[38;5;28;01mreturn\u001b[39;00m \u001b[43mpivot\u001b[49m\u001b[43m(\u001b[49m\u001b[38;5;28;43mself\u001b[39;49m\u001b[43m,\u001b[49m\u001b[43m \u001b[49m\u001b[43mindex\u001b[49m\u001b[38;5;241;43m=\u001b[39;49m\u001b[43mindex\u001b[49m\u001b[43m,\u001b[49m\u001b[43m \u001b[49m\u001b[43mcolumns\u001b[49m\u001b[38;5;241;43m=\u001b[39;49m\u001b[43mcolumns\u001b[49m\u001b[43m,\u001b[49m\u001b[43m \u001b[49m\u001b[43mvalues\u001b[49m\u001b[38;5;241;43m=\u001b[39;49m\u001b[43mvalues\u001b[49m\u001b[43m)\u001b[49m\n",
      "File \u001b[1;32mc:\\Users\\UFMG\\Periodos\\Periodo_XIV\\TCC\\Projeto\\Códigos\\tcc_ovitraps\\venv_ovitraps\\Lib\\site-packages\\pandas\\core\\reshape\\pivot.py:570\u001b[0m, in \u001b[0;36mpivot\u001b[1;34m(data, columns, index, values)\u001b[0m\n\u001b[0;32m    566\u001b[0m         indexed \u001b[38;5;241m=\u001b[39m data\u001b[38;5;241m.\u001b[39m_constructor_sliced(data[values]\u001b[38;5;241m.\u001b[39m_values, index\u001b[38;5;241m=\u001b[39mmultiindex)\n\u001b[0;32m    567\u001b[0m \u001b[38;5;66;03m# error: Argument 1 to \"unstack\" of \"DataFrame\" has incompatible type \"Union\u001b[39;00m\n\u001b[0;32m    568\u001b[0m \u001b[38;5;66;03m# [List[Any], ExtensionArray, ndarray[Any, Any], Index, Series]\"; expected\u001b[39;00m\n\u001b[0;32m    569\u001b[0m \u001b[38;5;66;03m# \"Hashable\"\u001b[39;00m\n\u001b[1;32m--> 570\u001b[0m result \u001b[38;5;241m=\u001b[39m \u001b[43mindexed\u001b[49m\u001b[38;5;241;43m.\u001b[39;49m\u001b[43munstack\u001b[49m\u001b[43m(\u001b[49m\u001b[43mcolumns_listlike\u001b[49m\u001b[43m)\u001b[49m  \u001b[38;5;66;03m# type: ignore[arg-type]\u001b[39;00m\n\u001b[0;32m    571\u001b[0m result\u001b[38;5;241m.\u001b[39mindex\u001b[38;5;241m.\u001b[39mnames \u001b[38;5;241m=\u001b[39m [\n\u001b[0;32m    572\u001b[0m     name \u001b[38;5;28;01mif\u001b[39;00m name \u001b[38;5;129;01mis\u001b[39;00m \u001b[38;5;129;01mnot\u001b[39;00m lib\u001b[38;5;241m.\u001b[39mno_default \u001b[38;5;28;01melse\u001b[39;00m \u001b[38;5;28;01mNone\u001b[39;00m \u001b[38;5;28;01mfor\u001b[39;00m name \u001b[38;5;129;01min\u001b[39;00m result\u001b[38;5;241m.\u001b[39mindex\u001b[38;5;241m.\u001b[39mnames\n\u001b[0;32m    573\u001b[0m ]\n\u001b[0;32m    575\u001b[0m \u001b[38;5;28;01mreturn\u001b[39;00m result\n",
      "File \u001b[1;32mc:\\Users\\UFMG\\Periodos\\Periodo_XIV\\TCC\\Projeto\\Códigos\\tcc_ovitraps\\venv_ovitraps\\Lib\\site-packages\\pandas\\core\\series.py:4615\u001b[0m, in \u001b[0;36mSeries.unstack\u001b[1;34m(self, level, fill_value, sort)\u001b[0m\n\u001b[0;32m   4570\u001b[0m \u001b[38;5;250m\u001b[39m\u001b[38;5;124;03m\"\"\"\u001b[39;00m\n\u001b[0;32m   4571\u001b[0m \u001b[38;5;124;03mUnstack, also known as pivot, Series with MultiIndex to produce DataFrame.\u001b[39;00m\n\u001b[0;32m   4572\u001b[0m \n\u001b[1;32m   (...)\u001b[0m\n\u001b[0;32m   4611\u001b[0m \u001b[38;5;124;03mb    2    4\u001b[39;00m\n\u001b[0;32m   4612\u001b[0m \u001b[38;5;124;03m\"\"\"\u001b[39;00m\n\u001b[0;32m   4613\u001b[0m \u001b[38;5;28;01mfrom\u001b[39;00m \u001b[38;5;21;01mpandas\u001b[39;00m\u001b[38;5;21;01m.\u001b[39;00m\u001b[38;5;21;01mcore\u001b[39;00m\u001b[38;5;21;01m.\u001b[39;00m\u001b[38;5;21;01mreshape\u001b[39;00m\u001b[38;5;21;01m.\u001b[39;00m\u001b[38;5;21;01mreshape\u001b[39;00m \u001b[38;5;28;01mimport\u001b[39;00m unstack\n\u001b[1;32m-> 4615\u001b[0m \u001b[38;5;28;01mreturn\u001b[39;00m \u001b[43munstack\u001b[49m\u001b[43m(\u001b[49m\u001b[38;5;28;43mself\u001b[39;49m\u001b[43m,\u001b[49m\u001b[43m \u001b[49m\u001b[43mlevel\u001b[49m\u001b[43m,\u001b[49m\u001b[43m \u001b[49m\u001b[43mfill_value\u001b[49m\u001b[43m,\u001b[49m\u001b[43m \u001b[49m\u001b[43msort\u001b[49m\u001b[43m)\u001b[49m\n",
      "File \u001b[1;32mc:\\Users\\UFMG\\Periodos\\Periodo_XIV\\TCC\\Projeto\\Códigos\\tcc_ovitraps\\venv_ovitraps\\Lib\\site-packages\\pandas\\core\\reshape\\reshape.py:517\u001b[0m, in \u001b[0;36munstack\u001b[1;34m(obj, level, fill_value, sort)\u001b[0m\n\u001b[0;32m    515\u001b[0m \u001b[38;5;28;01mif\u001b[39;00m is_1d_only_ea_dtype(obj\u001b[38;5;241m.\u001b[39mdtype):\n\u001b[0;32m    516\u001b[0m     \u001b[38;5;28;01mreturn\u001b[39;00m _unstack_extension_series(obj, level, fill_value, sort\u001b[38;5;241m=\u001b[39msort)\n\u001b[1;32m--> 517\u001b[0m unstacker \u001b[38;5;241m=\u001b[39m \u001b[43m_Unstacker\u001b[49m\u001b[43m(\u001b[49m\n\u001b[0;32m    518\u001b[0m \u001b[43m    \u001b[49m\u001b[43mobj\u001b[49m\u001b[38;5;241;43m.\u001b[39;49m\u001b[43mindex\u001b[49m\u001b[43m,\u001b[49m\u001b[43m \u001b[49m\u001b[43mlevel\u001b[49m\u001b[38;5;241;43m=\u001b[39;49m\u001b[43mlevel\u001b[49m\u001b[43m,\u001b[49m\u001b[43m \u001b[49m\u001b[43mconstructor\u001b[49m\u001b[38;5;241;43m=\u001b[39;49m\u001b[43mobj\u001b[49m\u001b[38;5;241;43m.\u001b[39;49m\u001b[43m_constructor_expanddim\u001b[49m\u001b[43m,\u001b[49m\u001b[43m \u001b[49m\u001b[43msort\u001b[49m\u001b[38;5;241;43m=\u001b[39;49m\u001b[43msort\u001b[49m\n\u001b[0;32m    519\u001b[0m \u001b[43m\u001b[49m\u001b[43m)\u001b[49m\n\u001b[0;32m    520\u001b[0m \u001b[38;5;28;01mreturn\u001b[39;00m unstacker\u001b[38;5;241m.\u001b[39mget_result(\n\u001b[0;32m    521\u001b[0m     obj\u001b[38;5;241m.\u001b[39m_values, value_columns\u001b[38;5;241m=\u001b[39m\u001b[38;5;28;01mNone\u001b[39;00m, fill_value\u001b[38;5;241m=\u001b[39mfill_value\n\u001b[0;32m    522\u001b[0m )\n",
      "File \u001b[1;32mc:\\Users\\UFMG\\Periodos\\Periodo_XIV\\TCC\\Projeto\\Códigos\\tcc_ovitraps\\venv_ovitraps\\Lib\\site-packages\\pandas\\core\\reshape\\reshape.py:154\u001b[0m, in \u001b[0;36m_Unstacker.__init__\u001b[1;34m(self, index, level, constructor, sort)\u001b[0m\n\u001b[0;32m    146\u001b[0m \u001b[38;5;28;01mif\u001b[39;00m num_cells \u001b[38;5;241m>\u001b[39m np\u001b[38;5;241m.\u001b[39miinfo(np\u001b[38;5;241m.\u001b[39mint32)\u001b[38;5;241m.\u001b[39mmax:\n\u001b[0;32m    147\u001b[0m     warnings\u001b[38;5;241m.\u001b[39mwarn(\n\u001b[0;32m    148\u001b[0m         \u001b[38;5;124mf\u001b[39m\u001b[38;5;124m\"\u001b[39m\u001b[38;5;124mThe following operation may generate \u001b[39m\u001b[38;5;132;01m{\u001b[39;00mnum_cells\u001b[38;5;132;01m}\u001b[39;00m\u001b[38;5;124m cells \u001b[39m\u001b[38;5;124m\"\u001b[39m\n\u001b[0;32m    149\u001b[0m         \u001b[38;5;124mf\u001b[39m\u001b[38;5;124m\"\u001b[39m\u001b[38;5;124min the resulting pandas object.\u001b[39m\u001b[38;5;124m\"\u001b[39m,\n\u001b[0;32m    150\u001b[0m         PerformanceWarning,\n\u001b[0;32m    151\u001b[0m         stacklevel\u001b[38;5;241m=\u001b[39mfind_stack_level(),\n\u001b[0;32m    152\u001b[0m     )\n\u001b[1;32m--> 154\u001b[0m \u001b[38;5;28;43mself\u001b[39;49m\u001b[38;5;241;43m.\u001b[39;49m\u001b[43m_make_selectors\u001b[49m\u001b[43m(\u001b[49m\u001b[43m)\u001b[49m\n",
      "File \u001b[1;32mc:\\Users\\UFMG\\Periodos\\Periodo_XIV\\TCC\\Projeto\\Códigos\\tcc_ovitraps\\venv_ovitraps\\Lib\\site-packages\\pandas\\core\\reshape\\reshape.py:210\u001b[0m, in \u001b[0;36m_Unstacker._make_selectors\u001b[1;34m(self)\u001b[0m\n\u001b[0;32m    207\u001b[0m mask\u001b[38;5;241m.\u001b[39mput(selector, \u001b[38;5;28;01mTrue\u001b[39;00m)\n\u001b[0;32m    209\u001b[0m \u001b[38;5;28;01mif\u001b[39;00m mask\u001b[38;5;241m.\u001b[39msum() \u001b[38;5;241m<\u001b[39m \u001b[38;5;28mlen\u001b[39m(\u001b[38;5;28mself\u001b[39m\u001b[38;5;241m.\u001b[39mindex):\n\u001b[1;32m--> 210\u001b[0m     \u001b[38;5;28;01mraise\u001b[39;00m \u001b[38;5;167;01mValueError\u001b[39;00m(\u001b[38;5;124m\"\u001b[39m\u001b[38;5;124mIndex contains duplicate entries, cannot reshape\u001b[39m\u001b[38;5;124m\"\u001b[39m)\n\u001b[0;32m    212\u001b[0m \u001b[38;5;28mself\u001b[39m\u001b[38;5;241m.\u001b[39mgroup_index \u001b[38;5;241m=\u001b[39m comp_index\n\u001b[0;32m    213\u001b[0m \u001b[38;5;28mself\u001b[39m\u001b[38;5;241m.\u001b[39mmask \u001b[38;5;241m=\u001b[39m mask\n",
      "\u001b[1;31mValueError\u001b[0m: Index contains duplicate entries, cannot reshape"
     ]
    }
   ],
   "source": [
    "week_trap_df = data.pivot(index=['ano','semepi'],columns='narmad',values='novos')\n",
    "new_index = pd.MultiIndex.from_product([week_trap_df.index.levels[0], range(101,153)]) # introduce weeks 51 and 52\n",
    "new_index = new_index[(new_index <= week_trap_df.iloc[-1].name) & (new_index >= week_trap_df.iloc[0].name)] #remove indexes that are greater than the last sample or smaller than the first one\n",
    "week_trap_df = week_trap_df.reindex(new_index) # [week,trap] - > novos\n"
   ]
  },
  {
   "cell_type": "markdown",
   "metadata": {},
   "source": [
    "### Lagged Matrix"
   ]
  },
  {
   "cell_type": "code",
   "execution_count": 15,
   "metadata": {},
   "outputs": [],
   "source": [
    "list_lagged_df = []\n",
    "for i in range(1,2*lags+1):\n",
    "    list_lagged_df.append(week_trap_df.shift(i).values)\n",
    "lagged_matrix = np.stack(list_lagged_df, axis=0) # numpy array with the lagged values. [lag x week x trap] -> novos. Obs.: consider 2*lags due to the biweekly sampling rate\n"
   ]
  },
  {
   "cell_type": "markdown",
   "metadata": {},
   "source": [
    "### NaN Count Matrix"
   ]
  },
  {
   "cell_type": "code",
   "execution_count": 16,
   "metadata": {},
   "outputs": [
    {
     "name": "stdout",
     "output_type": "stream",
     "text": [
      "Number of samples with 1 valid values:  0\n",
      "Number of samples with 2 valid values:  0\n",
      "Number of samples with 3 valid values:  820386\n",
      "Number of samples with 4 valid values:  295751\n",
      "Number of samples with 5 valid values:  33236\n",
      "Number of samples with 6 valid values:  204019\n"
     ]
    }
   ],
   "source": [
    "nan_count_matrix = np.sum(np.isnan(lagged_matrix), axis=0) # [week x trap] -> number of nans in the lagged matrix\n",
    "\n",
    "for i in range(2*lags):\n",
    "    print(\"Number of samples with\",i+1,\"valid values: \",np.sum(nan_count_matrix==i+1))"
   ]
  },
  {
   "cell_type": "markdown",
   "metadata": {},
   "source": [
    "### Info Matrix"
   ]
  },
  {
   "cell_type": "code",
   "execution_count": 17,
   "metadata": {},
   "outputs": [],
   "source": [
    "info_df = data[['ano','semepi','nplaca','dtcol','novos','narmad','latitude','longitude']]"
   ]
  },
  {
   "cell_type": "markdown",
   "metadata": {},
   "source": [
    "### Lagged days matrix"
   ]
  },
  {
   "cell_type": "code",
   "execution_count": 18,
   "metadata": {},
   "outputs": [],
   "source": [
    "day_df = data.pivot(index=['ano','semepi'],columns='narmad',values='dtcol')\n",
    "new_index = pd.MultiIndex.from_product([day_df.index.levels[0], range(101,153)]) # introduce weeks 51 and 52\n",
    "new_index = new_index[(new_index <= day_df.iloc[-1].name) & (new_index >= day_df.iloc[0].name)] #remove indexes that are greater than the last sample or smaller than the first one\n",
    "day_df = day_df.reindex(new_index) # [week,trap] - > dtcol\n",
    "day_df = day_df.map(lambda x: x.toordinal() if pd.notnull(x) else np.nan) # convert to ordinal so we can calculate the difference between two dates\n",
    "\n",
    "list_lagged_days = []\n",
    "for i in range(1,2*lags+1):\n",
    "    list_lagged_days.append(day_df.shift(i).values)\n",
    "lagged_days = np.stack(list_lagged_days, axis=0) # numpy array with the lagged values. [lag x week x trap] -> ordinal daus. Obs.: consider 2*lags due to the biweekly sampling rate\n",
    "\n",
    "\n"
   ]
  },
  {
   "cell_type": "markdown",
   "metadata": {},
   "source": [
    "### Useful dicts"
   ]
  },
  {
   "cell_type": "code",
   "execution_count": 19,
   "metadata": {},
   "outputs": [],
   "source": [
    "trap_index_dict = {trap: index for index,trap in enumerate(distance_matrix.columns)}                                           # trap: index \n",
    "yearweek_index_dict = {(year,week): index for index,(year,week) in enumerate(week_trap_df.index)}                           # (year,week): index\n",
    "nplaca_week_dict = {nplaca: (year, week) for nplaca,week,year in zip(info_df['nplaca'],info_df['semepi'],info_df['ano'])}   # nplaca: (year,week)\n",
    "nplaca_index_dict = {nplaca: yearweek_index_dict[(year, week)] for nplaca,week,year in zip(info_df['nplaca'],info_df['semepi'],info_df['ano'])}   # nplaca: week index \n"
   ]
  },
  {
   "cell_type": "markdown",
   "metadata": {},
   "source": [
    "### Final Dataframe"
   ]
  },
  {
   "cell_type": "code",
   "execution_count": 20,
   "metadata": {},
   "outputs": [],
   "source": [
    "for trap in distance_matrix.columns:\n",
    "    matching_placas = info_df[info_df['narmad'] == trap]['nplaca']\n",
    "    trap_index = trap_index_dict[trap]\n",
    "    sorted_distance_indexes = np.argsort(distance_matrix_np[trap_index])\n",
    "    assert sorted_distance_indexes[0] == trap_index\n",
    "    \n",
    "\n",
    "    for placa in matching_placas: \n",
    "        pass"
   ]
  },
  {
   "cell_type": "code",
   "execution_count": 21,
   "metadata": {},
   "outputs": [
    {
     "data": {
      "text/html": [
       "<div>\n",
       "<style scoped>\n",
       "    .dataframe tbody tr th:only-of-type {\n",
       "        vertical-align: middle;\n",
       "    }\n",
       "\n",
       "    .dataframe tbody tr th {\n",
       "        vertical-align: top;\n",
       "    }\n",
       "\n",
       "    .dataframe thead th {\n",
       "        text-align: right;\n",
       "    }\n",
       "</style>\n",
       "<table border=\"1\" class=\"dataframe\">\n",
       "  <thead>\n",
       "    <tr style=\"text-align: right;\">\n",
       "      <th></th>\n",
       "      <th>ano</th>\n",
       "      <th>semepi</th>\n",
       "      <th>nplaca</th>\n",
       "      <th>dtcol</th>\n",
       "      <th>novos</th>\n",
       "      <th>narmad</th>\n",
       "      <th>latitude</th>\n",
       "      <th>longitude</th>\n",
       "    </tr>\n",
       "  </thead>\n",
       "  <tbody>\n",
       "    <tr>\n",
       "      <th>517783</th>\n",
       "      <td>2024.0</td>\n",
       "      <td>120.0</td>\n",
       "      <td>90524387.0</td>\n",
       "      <td>2024-05-22</td>\n",
       "      <td>6.0</td>\n",
       "      <td>909195.0</td>\n",
       "      <td>-19.7934</td>\n",
       "      <td>-43.97873</td>\n",
       "    </tr>\n",
       "    <tr>\n",
       "      <th>517784</th>\n",
       "      <td>2024.0</td>\n",
       "      <td>110.0</td>\n",
       "      <td>90524373.0</td>\n",
       "      <td>2024-03-13</td>\n",
       "      <td>49.0</td>\n",
       "      <td>909195.0</td>\n",
       "      <td>-19.7934</td>\n",
       "      <td>-43.97873</td>\n",
       "    </tr>\n",
       "    <tr>\n",
       "      <th>517785</th>\n",
       "      <td>2024.0</td>\n",
       "      <td>122.0</td>\n",
       "      <td>90524380.0</td>\n",
       "      <td>2024-06-05</td>\n",
       "      <td>0.0</td>\n",
       "      <td>909195.0</td>\n",
       "      <td>-19.7934</td>\n",
       "      <td>-43.97873</td>\n",
       "    </tr>\n",
       "    <tr>\n",
       "      <th>517786</th>\n",
       "      <td>2024.0</td>\n",
       "      <td>118.0</td>\n",
       "      <td>90524383.0</td>\n",
       "      <td>2024-05-06</td>\n",
       "      <td>39.0</td>\n",
       "      <td>909195.0</td>\n",
       "      <td>-19.7934</td>\n",
       "      <td>-43.97873</td>\n",
       "    </tr>\n",
       "    <tr>\n",
       "      <th>517787</th>\n",
       "      <td>2024.0</td>\n",
       "      <td>130.0</td>\n",
       "      <td>90524386.0</td>\n",
       "      <td>2024-07-29</td>\n",
       "      <td>5.0</td>\n",
       "      <td>909195.0</td>\n",
       "      <td>-19.7934</td>\n",
       "      <td>-43.97873</td>\n",
       "    </tr>\n",
       "    <tr>\n",
       "      <th>517788</th>\n",
       "      <td>2024.0</td>\n",
       "      <td>132.0</td>\n",
       "      <td>90524376.0</td>\n",
       "      <td>2024-08-14</td>\n",
       "      <td>24.0</td>\n",
       "      <td>909195.0</td>\n",
       "      <td>-19.7934</td>\n",
       "      <td>-43.97873</td>\n",
       "    </tr>\n",
       "    <tr>\n",
       "      <th>517789</th>\n",
       "      <td>2024.0</td>\n",
       "      <td>134.0</td>\n",
       "      <td>90524378.0</td>\n",
       "      <td>2024-08-28</td>\n",
       "      <td>0.0</td>\n",
       "      <td>909195.0</td>\n",
       "      <td>-19.7934</td>\n",
       "      <td>-43.97873</td>\n",
       "    </tr>\n",
       "    <tr>\n",
       "      <th>517790</th>\n",
       "      <td>2024.0</td>\n",
       "      <td>116.0</td>\n",
       "      <td>90524381.0</td>\n",
       "      <td>2024-04-25</td>\n",
       "      <td>0.0</td>\n",
       "      <td>909195.0</td>\n",
       "      <td>-19.7934</td>\n",
       "      <td>-43.97873</td>\n",
       "    </tr>\n",
       "    <tr>\n",
       "      <th>517791</th>\n",
       "      <td>2024.0</td>\n",
       "      <td>112.0</td>\n",
       "      <td>90524379.0</td>\n",
       "      <td>2024-03-27</td>\n",
       "      <td>0.0</td>\n",
       "      <td>909195.0</td>\n",
       "      <td>-19.7934</td>\n",
       "      <td>-43.97873</td>\n",
       "    </tr>\n",
       "    <tr>\n",
       "      <th>517792</th>\n",
       "      <td>2024.0</td>\n",
       "      <td>102.0</td>\n",
       "      <td>90524377.0</td>\n",
       "      <td>2024-01-17</td>\n",
       "      <td>238.0</td>\n",
       "      <td>909195.0</td>\n",
       "      <td>-19.7934</td>\n",
       "      <td>-43.97873</td>\n",
       "    </tr>\n",
       "    <tr>\n",
       "      <th>517793</th>\n",
       "      <td>2024.0</td>\n",
       "      <td>114.0</td>\n",
       "      <td>90524375.0</td>\n",
       "      <td>2024-04-10</td>\n",
       "      <td>34.0</td>\n",
       "      <td>909195.0</td>\n",
       "      <td>-19.7934</td>\n",
       "      <td>-43.97873</td>\n",
       "    </tr>\n",
       "    <tr>\n",
       "      <th>517794</th>\n",
       "      <td>2024.0</td>\n",
       "      <td>108.0</td>\n",
       "      <td>90524372.0</td>\n",
       "      <td>2024-02-28</td>\n",
       "      <td>0.0</td>\n",
       "      <td>909195.0</td>\n",
       "      <td>-19.7934</td>\n",
       "      <td>-43.97873</td>\n",
       "    </tr>\n",
       "    <tr>\n",
       "      <th>517795</th>\n",
       "      <td>2024.0</td>\n",
       "      <td>128.0</td>\n",
       "      <td>90524384.0</td>\n",
       "      <td>2024-07-17</td>\n",
       "      <td>0.0</td>\n",
       "      <td>909195.0</td>\n",
       "      <td>-19.7934</td>\n",
       "      <td>-43.97873</td>\n",
       "    </tr>\n",
       "    <tr>\n",
       "      <th>517796</th>\n",
       "      <td>2024.0</td>\n",
       "      <td>124.0</td>\n",
       "      <td>90524382.0</td>\n",
       "      <td>2024-06-19</td>\n",
       "      <td>1.0</td>\n",
       "      <td>909195.0</td>\n",
       "      <td>-19.7934</td>\n",
       "      <td>-43.97873</td>\n",
       "    </tr>\n",
       "    <tr>\n",
       "      <th>517797</th>\n",
       "      <td>2024.0</td>\n",
       "      <td>104.0</td>\n",
       "      <td>90524385.0</td>\n",
       "      <td>2024-01-31</td>\n",
       "      <td>59.0</td>\n",
       "      <td>909195.0</td>\n",
       "      <td>-19.7934</td>\n",
       "      <td>-43.97873</td>\n",
       "    </tr>\n",
       "    <tr>\n",
       "      <th>517798</th>\n",
       "      <td>2024.0</td>\n",
       "      <td>126.0</td>\n",
       "      <td>90524374.0</td>\n",
       "      <td>2024-07-03</td>\n",
       "      <td>0.0</td>\n",
       "      <td>909195.0</td>\n",
       "      <td>-19.7934</td>\n",
       "      <td>-43.97873</td>\n",
       "    </tr>\n",
       "  </tbody>\n",
       "</table>\n",
       "</div>"
      ],
      "text/plain": [
       "           ano  semepi      nplaca      dtcol  novos    narmad  latitude  \\\n",
       "517783  2024.0   120.0  90524387.0 2024-05-22    6.0  909195.0  -19.7934   \n",
       "517784  2024.0   110.0  90524373.0 2024-03-13   49.0  909195.0  -19.7934   \n",
       "517785  2024.0   122.0  90524380.0 2024-06-05    0.0  909195.0  -19.7934   \n",
       "517786  2024.0   118.0  90524383.0 2024-05-06   39.0  909195.0  -19.7934   \n",
       "517787  2024.0   130.0  90524386.0 2024-07-29    5.0  909195.0  -19.7934   \n",
       "517788  2024.0   132.0  90524376.0 2024-08-14   24.0  909195.0  -19.7934   \n",
       "517789  2024.0   134.0  90524378.0 2024-08-28    0.0  909195.0  -19.7934   \n",
       "517790  2024.0   116.0  90524381.0 2024-04-25    0.0  909195.0  -19.7934   \n",
       "517791  2024.0   112.0  90524379.0 2024-03-27    0.0  909195.0  -19.7934   \n",
       "517792  2024.0   102.0  90524377.0 2024-01-17  238.0  909195.0  -19.7934   \n",
       "517793  2024.0   114.0  90524375.0 2024-04-10   34.0  909195.0  -19.7934   \n",
       "517794  2024.0   108.0  90524372.0 2024-02-28    0.0  909195.0  -19.7934   \n",
       "517795  2024.0   128.0  90524384.0 2024-07-17    0.0  909195.0  -19.7934   \n",
       "517796  2024.0   124.0  90524382.0 2024-06-19    1.0  909195.0  -19.7934   \n",
       "517797  2024.0   104.0  90524385.0 2024-01-31   59.0  909195.0  -19.7934   \n",
       "517798  2024.0   126.0  90524374.0 2024-07-03    0.0  909195.0  -19.7934   \n",
       "\n",
       "        longitude  \n",
       "517783  -43.97873  \n",
       "517784  -43.97873  \n",
       "517785  -43.97873  \n",
       "517786  -43.97873  \n",
       "517787  -43.97873  \n",
       "517788  -43.97873  \n",
       "517789  -43.97873  \n",
       "517790  -43.97873  \n",
       "517791  -43.97873  \n",
       "517792  -43.97873  \n",
       "517793  -43.97873  \n",
       "517794  -43.97873  \n",
       "517795  -43.97873  \n",
       "517796  -43.97873  \n",
       "517797  -43.97873  \n",
       "517798  -43.97873  "
      ]
     },
     "execution_count": 21,
     "metadata": {},
     "output_type": "execute_result"
    }
   ],
   "source": [
    "utils.row_with_value(info_df,'narmad',trap)"
   ]
  },
  {
   "cell_type": "code",
   "execution_count": 22,
   "metadata": {},
   "outputs": [
    {
     "data": {
      "text/html": [
       "<div>\n",
       "<style scoped>\n",
       "    .dataframe tbody tr th:only-of-type {\n",
       "        vertical-align: middle;\n",
       "    }\n",
       "\n",
       "    .dataframe tbody tr th {\n",
       "        vertical-align: top;\n",
       "    }\n",
       "\n",
       "    .dataframe thead th {\n",
       "        text-align: right;\n",
       "    }\n",
       "</style>\n",
       "<table border=\"1\" class=\"dataframe\">\n",
       "  <thead>\n",
       "    <tr style=\"text-align: right;\">\n",
       "      <th></th>\n",
       "      <th>ano</th>\n",
       "      <th>semepi</th>\n",
       "      <th>nplaca</th>\n",
       "      <th>dtcol</th>\n",
       "      <th>novos</th>\n",
       "      <th>latitude</th>\n",
       "      <th>longitude</th>\n",
       "    </tr>\n",
       "    <tr>\n",
       "      <th>narmad</th>\n",
       "      <th></th>\n",
       "      <th></th>\n",
       "      <th></th>\n",
       "      <th></th>\n",
       "      <th></th>\n",
       "      <th></th>\n",
       "      <th></th>\n",
       "    </tr>\n",
       "  </thead>\n",
       "  <tbody>\n",
       "    <tr>\n",
       "      <th>901001</th>\n",
       "      <td>2012.0</td>\n",
       "      <td>101</td>\n",
       "      <td>90000001</td>\n",
       "      <td>2012-05-14</td>\n",
       "      <td>0.0</td>\n",
       "      <td>-19.974521</td>\n",
       "      <td>-44.057499</td>\n",
       "    </tr>\n",
       "    <tr>\n",
       "      <th>901002</th>\n",
       "      <td>2012.0</td>\n",
       "      <td>101</td>\n",
       "      <td>90000285</td>\n",
       "      <td>2012-09-03</td>\n",
       "      <td>0.0</td>\n",
       "      <td>-19.984561</td>\n",
       "      <td>-44.053943</td>\n",
       "    </tr>\n",
       "    <tr>\n",
       "      <th>901003</th>\n",
       "      <td>2012.0</td>\n",
       "      <td>101</td>\n",
       "      <td>90000568</td>\n",
       "      <td>2012-09-03</td>\n",
       "      <td>0.0</td>\n",
       "      <td>-19.977669</td>\n",
       "      <td>-44.053692</td>\n",
       "    </tr>\n",
       "    <tr>\n",
       "      <th>901004</th>\n",
       "      <td>2012.0</td>\n",
       "      <td>101</td>\n",
       "      <td>90000851</td>\n",
       "      <td>2012-09-03</td>\n",
       "      <td>0.0</td>\n",
       "      <td>-19.974816</td>\n",
       "      <td>-44.061480</td>\n",
       "    </tr>\n",
       "    <tr>\n",
       "      <th>901005</th>\n",
       "      <td>2012.0</td>\n",
       "      <td>101</td>\n",
       "      <td>90001134</td>\n",
       "      <td>2012-09-03</td>\n",
       "      <td>0.0</td>\n",
       "      <td>-19.977715</td>\n",
       "      <td>-44.057558</td>\n",
       "    </tr>\n",
       "    <tr>\n",
       "      <th>...</th>\n",
       "      <td>...</td>\n",
       "      <td>...</td>\n",
       "      <td>...</td>\n",
       "      <td>...</td>\n",
       "      <td>...</td>\n",
       "      <td>...</td>\n",
       "      <td>...</td>\n",
       "    </tr>\n",
       "    <tr>\n",
       "      <th>909190</th>\n",
       "      <td>2023.0</td>\n",
       "      <td>102</td>\n",
       "      <td>90524298</td>\n",
       "      <td>2023-11-21</td>\n",
       "      <td>0.0</td>\n",
       "      <td>-19.796700</td>\n",
       "      <td>-43.947889</td>\n",
       "    </tr>\n",
       "    <tr>\n",
       "      <th>909191</th>\n",
       "      <td>2023.0</td>\n",
       "      <td>102</td>\n",
       "      <td>90524317</td>\n",
       "      <td>2023-11-21</td>\n",
       "      <td>0.0</td>\n",
       "      <td>-19.786108</td>\n",
       "      <td>-43.971220</td>\n",
       "    </tr>\n",
       "    <tr>\n",
       "      <th>909192</th>\n",
       "      <td>2023.0</td>\n",
       "      <td>102</td>\n",
       "      <td>90524336</td>\n",
       "      <td>2023-12-06</td>\n",
       "      <td>0.0</td>\n",
       "      <td>-19.782779</td>\n",
       "      <td>-43.975511</td>\n",
       "    </tr>\n",
       "    <tr>\n",
       "      <th>909193</th>\n",
       "      <td>2023.0</td>\n",
       "      <td>102</td>\n",
       "      <td>90524354</td>\n",
       "      <td>2023-12-06</td>\n",
       "      <td>0.0</td>\n",
       "      <td>-19.783162</td>\n",
       "      <td>-43.982240</td>\n",
       "    </tr>\n",
       "    <tr>\n",
       "      <th>909195</th>\n",
       "      <td>2024.0</td>\n",
       "      <td>102</td>\n",
       "      <td>90524372</td>\n",
       "      <td>2024-01-17</td>\n",
       "      <td>0.0</td>\n",
       "      <td>-19.793400</td>\n",
       "      <td>-43.978730</td>\n",
       "    </tr>\n",
       "  </tbody>\n",
       "</table>\n",
       "<p>2008 rows × 7 columns</p>\n",
       "</div>"
      ],
      "text/plain": [
       "           ano  semepi    nplaca      dtcol  novos   latitude  longitude\n",
       "narmad                                                                  \n",
       "901001  2012.0     101  90000001 2012-05-14    0.0 -19.974521 -44.057499\n",
       "901002  2012.0     101  90000285 2012-09-03    0.0 -19.984561 -44.053943\n",
       "901003  2012.0     101  90000568 2012-09-03    0.0 -19.977669 -44.053692\n",
       "901004  2012.0     101  90000851 2012-09-03    0.0 -19.974816 -44.061480\n",
       "901005  2012.0     101  90001134 2012-09-03    0.0 -19.977715 -44.057558\n",
       "...        ...     ...       ...        ...    ...        ...        ...\n",
       "909190  2023.0     102  90524298 2023-11-21    0.0 -19.796700 -43.947889\n",
       "909191  2023.0     102  90524317 2023-11-21    0.0 -19.786108 -43.971220\n",
       "909192  2023.0     102  90524336 2023-12-06    0.0 -19.782779 -43.975511\n",
       "909193  2023.0     102  90524354 2023-12-06    0.0 -19.783162 -43.982240\n",
       "909195  2024.0     102  90524372 2024-01-17    0.0 -19.793400 -43.978730\n",
       "\n",
       "[2008 rows x 7 columns]"
      ]
     },
     "execution_count": 22,
     "metadata": {},
     "output_type": "execute_result"
    }
   ],
   "source": [
    "info_df.groupby('narmad').min()"
   ]
  },
  {
   "cell_type": "code",
   "execution_count": 23,
   "metadata": {},
   "outputs": [
    {
     "data": {
      "text/plain": [
       "np.float64(902025.0)"
      ]
     },
     "execution_count": 23,
     "metadata": {},
     "output_type": "execute_result"
    }
   ],
   "source": [
    "distance_matrix.iloc[242].name"
   ]
  },
  {
   "cell_type": "code",
   "execution_count": 24,
   "metadata": {},
   "outputs": [
    {
     "data": {
      "text/plain": [
       "array([1765, 1636, 1756, 1720, 1645, 1639, 1646, 1734, 1739, 1637])"
      ]
     },
     "execution_count": 24,
     "metadata": {},
     "output_type": "execute_result"
    }
   ],
   "source": [
    "sorted_distance_indexes[:10]"
   ]
  }
 ],
 "metadata": {
  "kernelspec": {
   "display_name": "venv_ovitraps",
   "language": "python",
   "name": "python3"
  },
  "language_info": {
   "codemirror_mode": {
    "name": "ipython",
    "version": 3
   },
   "file_extension": ".py",
   "mimetype": "text/x-python",
   "name": "python",
   "nbconvert_exporter": "python",
   "pygments_lexer": "ipython3",
   "version": "3.12.4"
  }
 },
 "nbformat": 4,
 "nbformat_minor": 2
}
