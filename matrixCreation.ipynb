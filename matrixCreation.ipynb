{
 "cells": [
  {
   "cell_type": "code",
   "execution_count": 80,
   "metadata": {},
   "outputs": [
    {
     "data": {
      "text/plain": [
       "<module 'utils' from 'c:\\\\Users\\\\UFMG\\\\Periodos\\\\Periodo_XIV\\\\TCC\\\\Projeto\\\\Códigos\\\\tcc_ovitraps\\\\utils.py'>"
      ]
     },
     "execution_count": 80,
     "metadata": {},
     "output_type": "execute_result"
    }
   ],
   "source": [
    "import pandas as pd \n",
    "from datetime import datetime\n",
    "import matplotlib.pyplot as plt\n",
    "import utils\n",
    "import numpy as np\n",
    "import importlib \n",
    "from tqdm import tqdm\n",
    "\n",
    "importlib.reload(utils)\n"
   ]
  },
  {
   "cell_type": "code",
   "execution_count": 2,
   "metadata": {},
   "outputs": [],
   "source": [
    "data = pd.read_csv('./data/final_data.csv',parse_dates=['dtcol'])"
   ]
  },
  {
   "cell_type": "code",
   "execution_count": 3,
   "metadata": {},
   "outputs": [],
   "source": [
    "lags = 3\n",
    "n_traps = 3"
   ]
  },
  {
   "cell_type": "code",
   "execution_count": 4,
   "metadata": {},
   "outputs": [
    {
     "data": {
      "text/plain": [
       "\"counter = 0\\nfor trap in data['narmad'].unique():\\n    sorted_vector = data[data['narmad'] == trap]['dtcol'].sort_values().reset_index(drop=True) #sort values\\n    armad_counter = sorted_vector.diff().value_counts()\\n    counter = armad_counter.add( counter,fill_value=0)\\n\\nprint('Number of samples with certain time difference between the previous one:',)\\ndisplay(pd.DataFrame(counter.sort_values(ascending=False)[:20].reset_index()).rename(columns={'dtcol':'time_diff'}))\""
      ]
     },
     "execution_count": 4,
     "metadata": {},
     "output_type": "execute_result"
    }
   ],
   "source": [
    "\"\"\"counter = 0\n",
    "for trap in data['narmad'].unique():\n",
    "    sorted_vector = data[data['narmad'] == trap]['dtcol'].sort_values().reset_index(drop=True) #sort values\n",
    "    armad_counter = sorted_vector.diff().value_counts()\n",
    "    counter = armad_counter.add( counter,fill_value=0)\n",
    "\n",
    "print('Number of samples with certain time difference between the previous one:',)\n",
    "display(pd.DataFrame(counter.sort_values(ascending=False)[:20].reset_index()).rename(columns={'dtcol':'time_diff'}))\"\"\""
   ]
  },
  {
   "cell_type": "markdown",
   "metadata": {},
   "source": [
    "### Distance Matrix"
   ]
  },
  {
   "cell_type": "code",
   "execution_count": 81,
   "metadata": {},
   "outputs": [],
   "source": [
    "#TODO move to data exploration of preprocessing\n",
    "\n",
    "same_position_armad = data.groupby(['latitude','longitude'])['narmad'].nunique()\n",
    "same_position_armad.value_counts() #number of traps in the same position\n",
    "data['narmad'] = data.groupby(['latitude','longitude'])['narmad'].transform('min') #group by position and take the minimum trap number"
   ]
  },
  {
   "cell_type": "code",
   "execution_count": null,
   "metadata": {},
   "outputs": [],
   "source": [
    "position_matrix = data[['latitude','longitude','narmad']].drop_duplicates().dropna().reset_index(drop=True)\n",
    "\n",
    "try: \n",
    "    distance_matrix = pd.read_csv('./results/distance_matrix.csv')\n",
    "    distance_matrix.columns = distance_matrix.columns.astype(float)\n",
    "    distance_matrix.set_index(distance_matrix.columns,inplace=True)\n",
    "\n",
    "except:\n",
    "    distance_matrix = utils.create_distance_matrix(position_matrix)\n",
    "    distance_matrix.to_csv('./results/distance_matrix.csv')\n",
    "\n",
    "distance_matrix_np = distance_matrix.to_numpy()\n"
   ]
  },
  {
   "cell_type": "markdown",
   "metadata": {},
   "source": [
    "### Week trap matrix"
   ]
  },
  {
   "cell_type": "code",
   "execution_count": 6,
   "metadata": {},
   "outputs": [],
   "source": [
    "week_trap_df = data.pivot(index=['ano','semepi'],columns='narmad',values='novos')\n",
    "new_index = pd.MultiIndex.from_product([week_trap_df.index.levels[0], range(101,153)]) # introduce weeks 51 and 52\n",
    "new_index = new_index[(new_index <= week_trap_df.iloc[-1].name) & (new_index >= week_trap_df.iloc[0].name)] #remove indexes that are greater than the last sample or smaller than the first one\n",
    "week_trap_df = week_trap_df.reindex(new_index) # [week,trap] - > novos\n"
   ]
  },
  {
   "cell_type": "markdown",
   "metadata": {},
   "source": [
    "### Lagged Matrix"
   ]
  },
  {
   "cell_type": "code",
   "execution_count": 7,
   "metadata": {},
   "outputs": [],
   "source": [
    "list_lagged_df = []\n",
    "for i in range(1,2*lags+1):\n",
    "    list_lagged_df.append(week_trap_df.shift(i).values)\n",
    "lagged_matrix = np.stack(list_lagged_df, axis=0) # numpy array with the lagged values. [lag x week x trap] -> novos. Obs.: consider 2*lags due to the biweekly sampling rate\n"
   ]
  },
  {
   "cell_type": "markdown",
   "metadata": {},
   "source": [
    "### NaN Count Matrix"
   ]
  },
  {
   "cell_type": "code",
   "execution_count": 8,
   "metadata": {},
   "outputs": [
    {
     "name": "stdout",
     "output_type": "stream",
     "text": [
      "Number of samples with 1 valid values:  0\n",
      "Number of samples with 2 valid values:  0\n",
      "Number of samples with 3 valid values:  820386\n",
      "Number of samples with 4 valid values:  295751\n",
      "Number of samples with 5 valid values:  33236\n",
      "Number of samples with 6 valid values:  204019\n"
     ]
    }
   ],
   "source": [
    "nan_count_matrix = np.sum(np.isnan(lagged_matrix), axis=0) # [week x trap] -> number of nans in the lagged matrix\n",
    "\n",
    "for i in range(2*lags):\n",
    "    print(\"Number of samples with\",i+1,\"valid values: \",np.sum(nan_count_matrix==i+1))"
   ]
  },
  {
   "cell_type": "markdown",
   "metadata": {},
   "source": [
    "### Info Matrix"
   ]
  },
  {
   "cell_type": "code",
   "execution_count": 9,
   "metadata": {},
   "outputs": [],
   "source": [
    "info_df = data[['ano','semepi','nplaca','dtcol','novos','narmad','latitude','longitude']]"
   ]
  },
  {
   "cell_type": "markdown",
   "metadata": {},
   "source": [
    "### Lagged days matrix"
   ]
  },
  {
   "cell_type": "code",
   "execution_count": 10,
   "metadata": {},
   "outputs": [],
   "source": [
    "day_df = data.pivot(index=['ano','semepi'],columns='narmad',values='dtcol')\n",
    "new_index = pd.MultiIndex.from_product([day_df.index.levels[0], range(101,153)]) # introduce weeks 51 and 52\n",
    "new_index = new_index[(new_index <= day_df.iloc[-1].name) & (new_index >= day_df.iloc[0].name)] #remove indexes that are greater than the last sample or smaller than the first one\n",
    "day_df = day_df.reindex(new_index) # [week,trap] - > dtcol\n",
    "day_df = day_df.map(lambda x: x.toordinal() if pd.notnull(x) else np.nan) # convert to ordinal so we can calculate the difference between two dates\n",
    "\n",
    "list_lagged_days = []\n",
    "for i in range(1,2*lags+1):\n",
    "    list_lagged_days.append(day_df.shift(i).values)\n",
    "lagged_days = np.stack(list_lagged_days, axis=0) # numpy array with the lagged values. [lag x week x trap] -> ordinal daus. Obs.: consider 2*lags due to the biweekly sampling rate\n",
    "\n",
    "\n"
   ]
  },
  {
   "cell_type": "markdown",
   "metadata": {},
   "source": [
    "### Useful dicts"
   ]
  },
  {
   "cell_type": "code",
   "execution_count": 32,
   "metadata": {},
   "outputs": [],
   "source": [
    "trap_index_dict = {trap: index for index,trap in enumerate(distance_matrix.columns)}                                           # trap: index \n",
    "yearweek_index_dict = {(year,week): index for index,(year,week) in enumerate(week_trap_df.index)}                           # (year,week): index\n",
    "nplaca_week_dict = {nplaca: (year, week) for nplaca,week,year in zip(info_df['nplaca'],info_df['semepi'],info_df['ano'])}   # nplaca: (year,week)\n",
    "nplaca_index_dict = {nplaca: yearweek_index_dict[(year, week)] for nplaca,week,year in zip(info_df['nplaca'],info_df['semepi'],info_df['ano'])}   # nplaca: week index \n"
   ]
  },
  {
   "cell_type": "markdown",
   "metadata": {},
   "source": [
    "### Final Dataframe"
   ]
  },
  {
   "cell_type": "code",
   "execution_count": 39,
   "metadata": {},
   "outputs": [
    {
     "ename": "AssertionError",
     "evalue": "",
     "output_type": "error",
     "traceback": [
      "\u001b[1;31m---------------------------------------------------------------------------\u001b[0m",
      "\u001b[1;31mAssertionError\u001b[0m                            Traceback (most recent call last)",
      "Cell \u001b[1;32mIn[39], line 5\u001b[0m\n\u001b[0;32m      3\u001b[0m trap_index \u001b[38;5;241m=\u001b[39m trap_index_dict[trap]\n\u001b[0;32m      4\u001b[0m sorted_distance_indexes \u001b[38;5;241m=\u001b[39m np\u001b[38;5;241m.\u001b[39margsort(distance_matrix_np[trap_index])\n\u001b[1;32m----> 5\u001b[0m \u001b[38;5;28;01massert\u001b[39;00m sorted_distance_indexes[\u001b[38;5;241m0\u001b[39m] \u001b[38;5;241m==\u001b[39m trap_index\n\u001b[0;32m      8\u001b[0m \u001b[38;5;28;01mfor\u001b[39;00m placa \u001b[38;5;129;01min\u001b[39;00m matching_placas: \n\u001b[0;32m      9\u001b[0m     \u001b[38;5;28;01mpass\u001b[39;00m\n",
      "\u001b[1;31mAssertionError\u001b[0m: "
     ]
    }
   ],
   "source": [
    "for trap in distance_matrix.columns:\n",
    "    matching_placas = info_df[info_df['narmad'] == trap]['nplaca']\n",
    "    trap_index = trap_index_dict[trap]\n",
    "    sorted_distance_indexes = np.argsort(distance_matrix_np[trap_index])\n",
    "    assert sorted_distance_indexes[0] == trap_index\n",
    "    \n",
    "\n",
    "    for placa in matching_placas: \n",
    "        pass"
   ]
  },
  {
   "cell_type": "code",
   "execution_count": 63,
   "metadata": {},
   "outputs": [
    {
     "data": {
      "text/html": [
       "<div>\n",
       "<style scoped>\n",
       "    .dataframe tbody tr th:only-of-type {\n",
       "        vertical-align: middle;\n",
       "    }\n",
       "\n",
       "    .dataframe tbody tr th {\n",
       "        vertical-align: top;\n",
       "    }\n",
       "\n",
       "    .dataframe thead th {\n",
       "        text-align: right;\n",
       "    }\n",
       "</style>\n",
       "<table border=\"1\" class=\"dataframe\">\n",
       "  <thead>\n",
       "    <tr style=\"text-align: right;\">\n",
       "      <th></th>\n",
       "      <th>ano</th>\n",
       "      <th>semepi</th>\n",
       "      <th>nplaca</th>\n",
       "      <th>dtcol</th>\n",
       "      <th>novos</th>\n",
       "      <th>narmad</th>\n",
       "      <th>latitude</th>\n",
       "      <th>longitude</th>\n",
       "    </tr>\n",
       "  </thead>\n",
       "  <tbody>\n",
       "    <tr>\n",
       "      <th>70622</th>\n",
       "      <td>2014.0</td>\n",
       "      <td>140.0</td>\n",
       "      <td>90071376.0</td>\n",
       "      <td>2014-10-06</td>\n",
       "      <td>0.0</td>\n",
       "      <td>902026.0</td>\n",
       "      <td>-19.955907</td>\n",
       "      <td>-43.912858</td>\n",
       "    </tr>\n",
       "    <tr>\n",
       "      <th>70623</th>\n",
       "      <td>2018.0</td>\n",
       "      <td>118.0</td>\n",
       "      <td>90071594.0</td>\n",
       "      <td>2018-05-09</td>\n",
       "      <td>0.0</td>\n",
       "      <td>902026.0</td>\n",
       "      <td>-19.955907</td>\n",
       "      <td>-43.912858</td>\n",
       "    </tr>\n",
       "    <tr>\n",
       "      <th>70624</th>\n",
       "      <td>2017.0</td>\n",
       "      <td>136.0</td>\n",
       "      <td>90071516.0</td>\n",
       "      <td>2017-09-11</td>\n",
       "      <td>0.0</td>\n",
       "      <td>902026.0</td>\n",
       "      <td>-19.955907</td>\n",
       "      <td>-43.912858</td>\n",
       "    </tr>\n",
       "    <tr>\n",
       "      <th>70625</th>\n",
       "      <td>2021.0</td>\n",
       "      <td>134.0</td>\n",
       "      <td>90071348.0</td>\n",
       "      <td>2021-08-30</td>\n",
       "      <td>0.0</td>\n",
       "      <td>902026.0</td>\n",
       "      <td>-19.955907</td>\n",
       "      <td>-43.912858</td>\n",
       "    </tr>\n",
       "    <tr>\n",
       "      <th>70626</th>\n",
       "      <td>2015.0</td>\n",
       "      <td>104.0</td>\n",
       "      <td>90071460.0</td>\n",
       "      <td>2015-02-02</td>\n",
       "      <td>0.0</td>\n",
       "      <td>902026.0</td>\n",
       "      <td>-19.955907</td>\n",
       "      <td>-43.912858</td>\n",
       "    </tr>\n",
       "    <tr>\n",
       "      <th>...</th>\n",
       "      <td>...</td>\n",
       "      <td>...</td>\n",
       "      <td>...</td>\n",
       "      <td>...</td>\n",
       "      <td>...</td>\n",
       "      <td>...</td>\n",
       "      <td>...</td>\n",
       "      <td>...</td>\n",
       "    </tr>\n",
       "    <tr>\n",
       "      <th>70922</th>\n",
       "      <td>2017.0</td>\n",
       "      <td>126.0</td>\n",
       "      <td>90071434.0</td>\n",
       "      <td>2017-07-03</td>\n",
       "      <td>0.0</td>\n",
       "      <td>902026.0</td>\n",
       "      <td>-19.955907</td>\n",
       "      <td>-43.912858</td>\n",
       "    </tr>\n",
       "    <tr>\n",
       "      <th>70923</th>\n",
       "      <td>2016.0</td>\n",
       "      <td>112.0</td>\n",
       "      <td>90071535.0</td>\n",
       "      <td>2016-03-28</td>\n",
       "      <td>0.0</td>\n",
       "      <td>902026.0</td>\n",
       "      <td>-19.955907</td>\n",
       "      <td>-43.912858</td>\n",
       "    </tr>\n",
       "    <tr>\n",
       "      <th>70924</th>\n",
       "      <td>2012.0</td>\n",
       "      <td>106.0</td>\n",
       "      <td>90071385.0</td>\n",
       "      <td>2012-02-13</td>\n",
       "      <td>0.0</td>\n",
       "      <td>902026.0</td>\n",
       "      <td>-19.955907</td>\n",
       "      <td>-43.912858</td>\n",
       "    </tr>\n",
       "    <tr>\n",
       "      <th>70925</th>\n",
       "      <td>2021.0</td>\n",
       "      <td>118.0</td>\n",
       "      <td>90071561.0</td>\n",
       "      <td>2021-05-10</td>\n",
       "      <td>0.0</td>\n",
       "      <td>902026.0</td>\n",
       "      <td>-19.955907</td>\n",
       "      <td>-43.912858</td>\n",
       "    </tr>\n",
       "    <tr>\n",
       "      <th>70926</th>\n",
       "      <td>2017.0</td>\n",
       "      <td>146.0</td>\n",
       "      <td>90071383.0</td>\n",
       "      <td>2017-11-20</td>\n",
       "      <td>0.0</td>\n",
       "      <td>902026.0</td>\n",
       "      <td>-19.955907</td>\n",
       "      <td>-43.912858</td>\n",
       "    </tr>\n",
       "  </tbody>\n",
       "</table>\n",
       "<p>305 rows × 8 columns</p>\n",
       "</div>"
      ],
      "text/plain": [
       "          ano  semepi      nplaca      dtcol  novos    narmad   latitude  \\\n",
       "70622  2014.0   140.0  90071376.0 2014-10-06    0.0  902026.0 -19.955907   \n",
       "70623  2018.0   118.0  90071594.0 2018-05-09    0.0  902026.0 -19.955907   \n",
       "70624  2017.0   136.0  90071516.0 2017-09-11    0.0  902026.0 -19.955907   \n",
       "70625  2021.0   134.0  90071348.0 2021-08-30    0.0  902026.0 -19.955907   \n",
       "70626  2015.0   104.0  90071460.0 2015-02-02    0.0  902026.0 -19.955907   \n",
       "...       ...     ...         ...        ...    ...       ...        ...   \n",
       "70922  2017.0   126.0  90071434.0 2017-07-03    0.0  902026.0 -19.955907   \n",
       "70923  2016.0   112.0  90071535.0 2016-03-28    0.0  902026.0 -19.955907   \n",
       "70924  2012.0   106.0  90071385.0 2012-02-13    0.0  902026.0 -19.955907   \n",
       "70925  2021.0   118.0  90071561.0 2021-05-10    0.0  902026.0 -19.955907   \n",
       "70926  2017.0   146.0  90071383.0 2017-11-20    0.0  902026.0 -19.955907   \n",
       "\n",
       "       longitude  \n",
       "70622 -43.912858  \n",
       "70623 -43.912858  \n",
       "70624 -43.912858  \n",
       "70625 -43.912858  \n",
       "70626 -43.912858  \n",
       "...          ...  \n",
       "70922 -43.912858  \n",
       "70923 -43.912858  \n",
       "70924 -43.912858  \n",
       "70925 -43.912858  \n",
       "70926 -43.912858  \n",
       "\n",
       "[305 rows x 8 columns]"
      ]
     },
     "execution_count": 63,
     "metadata": {},
     "output_type": "execute_result"
    }
   ],
   "source": [
    "utils.row_with_value(info_df,'narmad',trap)"
   ]
  },
  {
   "cell_type": "code",
   "execution_count": 58,
   "metadata": {},
   "outputs": [
    {
     "data": {
      "text/html": [
       "<div>\n",
       "<style scoped>\n",
       "    .dataframe tbody tr th:only-of-type {\n",
       "        vertical-align: middle;\n",
       "    }\n",
       "\n",
       "    .dataframe tbody tr th {\n",
       "        vertical-align: top;\n",
       "    }\n",
       "\n",
       "    .dataframe thead th {\n",
       "        text-align: right;\n",
       "    }\n",
       "</style>\n",
       "<table border=\"1\" class=\"dataframe\">\n",
       "  <thead>\n",
       "    <tr style=\"text-align: right;\">\n",
       "      <th></th>\n",
       "      <th>ano</th>\n",
       "      <th>semepi</th>\n",
       "      <th>nplaca</th>\n",
       "      <th>dtcol</th>\n",
       "      <th>novos</th>\n",
       "      <th>latitude</th>\n",
       "      <th>longitude</th>\n",
       "    </tr>\n",
       "    <tr>\n",
       "      <th>narmad</th>\n",
       "      <th></th>\n",
       "      <th></th>\n",
       "      <th></th>\n",
       "      <th></th>\n",
       "      <th></th>\n",
       "      <th></th>\n",
       "      <th></th>\n",
       "    </tr>\n",
       "  </thead>\n",
       "  <tbody>\n",
       "    <tr>\n",
       "      <th>901001</th>\n",
       "      <td>2012.0</td>\n",
       "      <td>101</td>\n",
       "      <td>90000001</td>\n",
       "      <td>2012-05-14</td>\n",
       "      <td>0.0</td>\n",
       "      <td>-19.974521</td>\n",
       "      <td>-44.057499</td>\n",
       "    </tr>\n",
       "    <tr>\n",
       "      <th>901002</th>\n",
       "      <td>2012.0</td>\n",
       "      <td>101</td>\n",
       "      <td>90000285</td>\n",
       "      <td>2012-09-03</td>\n",
       "      <td>0.0</td>\n",
       "      <td>-19.984561</td>\n",
       "      <td>-44.053943</td>\n",
       "    </tr>\n",
       "    <tr>\n",
       "      <th>901003</th>\n",
       "      <td>2012.0</td>\n",
       "      <td>101</td>\n",
       "      <td>90000568</td>\n",
       "      <td>2012-09-03</td>\n",
       "      <td>0.0</td>\n",
       "      <td>-19.977669</td>\n",
       "      <td>-44.053692</td>\n",
       "    </tr>\n",
       "    <tr>\n",
       "      <th>901004</th>\n",
       "      <td>2012.0</td>\n",
       "      <td>101</td>\n",
       "      <td>90000851</td>\n",
       "      <td>2012-09-03</td>\n",
       "      <td>0.0</td>\n",
       "      <td>-19.974816</td>\n",
       "      <td>-44.061480</td>\n",
       "    </tr>\n",
       "    <tr>\n",
       "      <th>901005</th>\n",
       "      <td>2012.0</td>\n",
       "      <td>101</td>\n",
       "      <td>90001134</td>\n",
       "      <td>2012-09-03</td>\n",
       "      <td>0.0</td>\n",
       "      <td>-19.977715</td>\n",
       "      <td>-44.057558</td>\n",
       "    </tr>\n",
       "    <tr>\n",
       "      <th>...</th>\n",
       "      <td>...</td>\n",
       "      <td>...</td>\n",
       "      <td>...</td>\n",
       "      <td>...</td>\n",
       "      <td>...</td>\n",
       "      <td>...</td>\n",
       "      <td>...</td>\n",
       "    </tr>\n",
       "    <tr>\n",
       "      <th>909190</th>\n",
       "      <td>2023.0</td>\n",
       "      <td>102</td>\n",
       "      <td>90524298</td>\n",
       "      <td>2023-11-21</td>\n",
       "      <td>0.0</td>\n",
       "      <td>-19.796700</td>\n",
       "      <td>-43.947889</td>\n",
       "    </tr>\n",
       "    <tr>\n",
       "      <th>909191</th>\n",
       "      <td>2023.0</td>\n",
       "      <td>102</td>\n",
       "      <td>90524317</td>\n",
       "      <td>2023-11-21</td>\n",
       "      <td>0.0</td>\n",
       "      <td>-19.786108</td>\n",
       "      <td>-43.971220</td>\n",
       "    </tr>\n",
       "    <tr>\n",
       "      <th>909192</th>\n",
       "      <td>2023.0</td>\n",
       "      <td>102</td>\n",
       "      <td>90524336</td>\n",
       "      <td>2023-12-06</td>\n",
       "      <td>0.0</td>\n",
       "      <td>-19.782779</td>\n",
       "      <td>-43.975511</td>\n",
       "    </tr>\n",
       "    <tr>\n",
       "      <th>909193</th>\n",
       "      <td>2023.0</td>\n",
       "      <td>102</td>\n",
       "      <td>90524354</td>\n",
       "      <td>2023-12-06</td>\n",
       "      <td>0.0</td>\n",
       "      <td>-19.783162</td>\n",
       "      <td>-43.982240</td>\n",
       "    </tr>\n",
       "    <tr>\n",
       "      <th>909195</th>\n",
       "      <td>2024.0</td>\n",
       "      <td>102</td>\n",
       "      <td>90524372</td>\n",
       "      <td>2024-01-17</td>\n",
       "      <td>0.0</td>\n",
       "      <td>-19.793400</td>\n",
       "      <td>-43.978730</td>\n",
       "    </tr>\n",
       "  </tbody>\n",
       "</table>\n",
       "<p>2008 rows × 7 columns</p>\n",
       "</div>"
      ],
      "text/plain": [
       "           ano  semepi    nplaca      dtcol  novos   latitude  longitude\n",
       "narmad                                                                  \n",
       "901001  2012.0     101  90000001 2012-05-14    0.0 -19.974521 -44.057499\n",
       "901002  2012.0     101  90000285 2012-09-03    0.0 -19.984561 -44.053943\n",
       "901003  2012.0     101  90000568 2012-09-03    0.0 -19.977669 -44.053692\n",
       "901004  2012.0     101  90000851 2012-09-03    0.0 -19.974816 -44.061480\n",
       "901005  2012.0     101  90001134 2012-09-03    0.0 -19.977715 -44.057558\n",
       "...        ...     ...       ...        ...    ...        ...        ...\n",
       "909190  2023.0     102  90524298 2023-11-21    0.0 -19.796700 -43.947889\n",
       "909191  2023.0     102  90524317 2023-11-21    0.0 -19.786108 -43.971220\n",
       "909192  2023.0     102  90524336 2023-12-06    0.0 -19.782779 -43.975511\n",
       "909193  2023.0     102  90524354 2023-12-06    0.0 -19.783162 -43.982240\n",
       "909195  2024.0     102  90524372 2024-01-17    0.0 -19.793400 -43.978730\n",
       "\n",
       "[2008 rows x 7 columns]"
      ]
     },
     "execution_count": 58,
     "metadata": {},
     "output_type": "execute_result"
    }
   ],
   "source": [
    "info_df.groupby('narmad').min()"
   ]
  },
  {
   "cell_type": "code",
   "execution_count": 61,
   "metadata": {},
   "outputs": [
    {
     "data": {
      "text/plain": [
       "np.float64(902025.0)"
      ]
     },
     "execution_count": 61,
     "metadata": {},
     "output_type": "execute_result"
    }
   ],
   "source": [
    "distance_matrix.iloc[242].name"
   ]
  },
  {
   "cell_type": "code",
   "execution_count": 48,
   "metadata": {},
   "outputs": [
    {
     "data": {
      "text/plain": [
       "array([242, 243, 248, 393, 245, 244, 247, 241, 391, 388])"
      ]
     },
     "execution_count": 48,
     "metadata": {},
     "output_type": "execute_result"
    }
   ],
   "source": [
    "sorted_distance_indexes[:10]"
   ]
  }
 ],
 "metadata": {
  "kernelspec": {
   "display_name": "venv_ovitraps",
   "language": "python",
   "name": "python3"
  },
  "language_info": {
   "codemirror_mode": {
    "name": "ipython",
    "version": 3
   },
   "file_extension": ".py",
   "mimetype": "text/x-python",
   "name": "python",
   "nbconvert_exporter": "python",
   "pygments_lexer": "ipython3",
   "version": "3.12.4"
  }
 },
 "nbformat": 4,
 "nbformat_minor": 2
}
